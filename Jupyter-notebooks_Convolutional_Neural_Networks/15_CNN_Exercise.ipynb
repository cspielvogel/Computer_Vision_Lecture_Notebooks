{
 "cells": [
  {
   "cell_type": "markdown",
   "metadata": {},
   "source": [
    "### Exercise: Convolutional Neural Networks\n",
    "\n",
    "Read through the description of the exercises and select appropriate tools / libraries. Implement the solution below the respective exercise description. Feel free to use the internet, especially the documentation of the presented libraries may be helpful.\n",
    "\n",
    "For this exercise, you will be using the fruit data from the last lecture on neural networks. The data contains three kinds of fruits, apples, bananas and oranges. The data includes 232 images of apples, 218 images of bananas and 206 images of oranges. With an overall size of 656 images the data set is therefore relatively small for a deep learning data set. However, the images are easily identifiable and the class distribution is balanced. The dimensions are different for each image."
   ]
  },
  {
   "cell_type": "markdown",
   "metadata": {},
   "source": [
    "#### Exercise 1\n",
    "In this exercise, you will apply a convolutional neural network for the classification of the fruit data and compare the models performance to the neural network which was used for this task in the previous exercise.\n",
    "\n",
    "* Load the fruit data and resize all images to the same dimensions\n",
    "* Split the data into training, validation and test set at a reasonable ratio\n",
    "* Create a convolutional neural network architecture capable of processing the fruit data\n",
    "* Apply your training set to fit the CNN model and monitor its validation performance using the validation set\n",
    "* Use at least 50 epochs and early stopping with reasonable parameters\n",
    "* Evaluate the models test accuracy\n",
    "* Display the models training and validation performance in terms of accuracy and loss at each epoch\n",
    "\n",
    "* Is the model overfitted?\n",
    "* How does the CNN perform in comparison to the classical neural network from the last lecture?"
   ]
  },
  {
   "cell_type": "code",
   "execution_count": null,
   "metadata": {},
   "outputs": [],
   "source": []
  }
 ],
 "metadata": {
  "kernelspec": {
   "display_name": "Python 3",
   "language": "python",
   "name": "python3"
  },
  "language_info": {
   "codemirror_mode": {
    "name": "ipython",
    "version": 3
   },
   "file_extension": ".py",
   "mimetype": "text/x-python",
   "name": "python",
   "nbconvert_exporter": "python",
   "pygments_lexer": "ipython3",
   "version": "3.8.8"
  }
 },
 "nbformat": 4,
 "nbformat_minor": 4
}
