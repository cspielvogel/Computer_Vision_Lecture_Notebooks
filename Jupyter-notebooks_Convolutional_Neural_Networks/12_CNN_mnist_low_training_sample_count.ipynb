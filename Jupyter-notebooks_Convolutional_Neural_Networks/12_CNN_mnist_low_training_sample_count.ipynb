{
 "cells": [
  {
   "cell_type": "markdown",
   "metadata": {},
   "source": [
    "## Convolutional Neural Network\n",
    "   #### Computer Vision Winter Semester 2021/2022 by Clemens Spielvogel\n",
    "      \n",
    "In the following code example a classification model for the MNIST data is built. Only few training data is used to demonstrate the increased performance provided by data augmentation in the next jupyter notebook (13)."
   ]
  },
  {
   "cell_type": "code",
   "execution_count": 1,
   "metadata": {},
   "outputs": [],
   "source": [
    "import os\n",
    "#os.environ[\"CUDA_VISIBLE_DEVICES\"] = \"\" # If you want to use TF CPU version while having the GPU version installed\n",
    "\n",
    "import tensorflow as tf\n",
    "from tensorflow.keras import Sequential, layers, regularizers\n",
    "import numpy as np\n",
    "import pandas as pd\n",
    "import plotly.offline as ply\n",
    "import plotly.graph_objs as graphs\n",
    "import math\n",
    "import random\n",
    "import matplotlib.pyplot as plt"
   ]
  },
  {
   "cell_type": "code",
   "execution_count": 2,
   "metadata": {},
   "outputs": [],
   "source": [
    "# Seeding random number generators to obtain reproducible results\n",
    "seed_value = 0\n",
    "os.environ['PYTHONHASHSEED']=str(seed_value)\n",
    "random.seed(seed_value)\n",
    "np.random.seed(seed_value) # Resets itself on every use!\n",
    "tf.random.set_seed(seed_value) # tf.set_random_seed(seed_value) on older TF versions"
   ]
  },
  {
   "cell_type": "code",
   "execution_count": 3,
   "metadata": {},
   "outputs": [],
   "source": [
    "def load_data(file_path):\n",
    "    # Load CSV file to pandas data frame\n",
    "    df = pd.read_csv(file_path, header=0)\n",
    "\n",
    "    # Split data frame columns into features and labels\n",
    "    y = df[\"label\"].values\n",
    "    X_flat = df.drop(\"label\", axis=1).values\n",
    "    X = [np.resize(array, (28, 28)) for array in X_flat] # Resize flat vector to 28x28\n",
    "    X = np.array([np.reshape(sample, (sample.shape[0], sample.shape[1], 1)) for sample in X]) # Add color channel\n",
    "    \n",
    "    return X, tf.keras.utils.to_categorical(y) # Labels are returned as one-hot encoded vectors"
   ]
  },
  {
   "cell_type": "code",
   "execution_count": 4,
   "metadata": {},
   "outputs": [],
   "source": [
    "def plot_train_val_performances(performances, metric=\"Accuracy\", show=True):\n",
    "    \"\"\"Plot training vs. testing accuracy over all epochs. performances is a dictionary mapping epoch numbers\n",
    "       as integers to lists containing training and validation performance (e.g. accuracy).\n",
    "       metric is a string indicating the used performance metric.\"\"\"\n",
    "    x = list(performances.keys())     # Number of epoch\n",
    "    y_train = [i[0] for i in performances.values()]\n",
    "    y_val = [i[1] for i in performances.values()]\n",
    "\n",
    "    trace_train = graphs.Scatter(x=x, y=y_train, name=\"Training\", mode=\"lines+markers\",\n",
    "                                 line=dict(width=4),\n",
    "                                 marker=dict(symbol=\"circle\",\n",
    "                                             size=10))\n",
    "    trace_val = graphs.Scatter(x=x, y=y_val, name=\"Validation\", mode=\"lines+markers\",\n",
    "                                line=dict(width=4),\n",
    "                                marker=dict(symbol=\"circle\",\n",
    "                                            size=10))\n",
    "\n",
    "    layout = graphs.Layout(title=\"Training vs. Validation {}\".format(metric),\n",
    "                           xaxis={\"title\": \"Epoch\"},\n",
    "                           yaxis={\"title\": metric})\n",
    "\n",
    "    fig = graphs.Figure(data=[trace_train, trace_val], layout=layout)\n",
    "    ply.plot(fig, filename=\"plotly_train_val_{}.html\".format(metric), auto_open=show)\n",
    "    print(\"Plot saved as plotly_train_val_{}.html\".format(metric))"
   ]
  },
  {
   "cell_type": "code",
   "execution_count": 5,
   "metadata": {},
   "outputs": [],
   "source": [
    "def create_2DCNN_model(input_shape):\n",
    "    \"\"\"Build architecture of the model\"\"\"\n",
    "    model = Sequential()\n",
    "    model.add(layers.Conv2D(32, (3, 3), input_shape=input_shape,\n",
    "                            activation=\"relu\", padding=\"same\"))\n",
    "    model.add(layers.Conv2D(64, (3, 3), activation=\"selu\", padding=\"same\"))\n",
    "    model.add(layers.MaxPooling2D(pool_size=(3, 3)))\n",
    "    model.add(layers.Conv2D(64, (3, 3), activation=\"selu\", padding=\"same\"))\n",
    "    model.add(layers.Conv2D(64, (3, 3), activation=\"selu\", padding=\"same\"))\n",
    "    model.add(layers.MaxPooling2D(pool_size=(2, 2)))\n",
    "    model.add(layers.Conv2D(128, (3, 3), activation=\"selu\", padding=\"same\"))\n",
    "    model.add(layers.MaxPooling2D(pool_size=(2, 2), padding=\"same\"))\n",
    "    model.add(layers.Flatten())\n",
    "    model.add(layers.Dense(64, activation=\"selu\",\n",
    "                           kernel_regularizer=regularizers.l2(0.001)))\n",
    "    model.add(layers.Dropout(0.2))\n",
    "    model.add(layers.Dense(32, activation=\"selu\"))\n",
    "    model.add(layers.Dense(10, activation=\"softmax\"))\n",
    "\n",
    "    # Create model\n",
    "    model.compile(optimizer=tf.keras.optimizers.Adam(),\n",
    "                  loss=\"categorical_crossentropy\",\n",
    "                  metrics=[\"accuracy\"])\n",
    "\n",
    "    return model"
   ]
  },
  {
   "cell_type": "code",
   "execution_count": 6,
   "metadata": {},
   "outputs": [],
   "source": [
    "# Specify data location\n",
    "data_dir = r\"Data\\mnist.csv\"\n",
    "\n",
    "# Set hyperparameters\n",
    "num_epochs = 50\n",
    "batch_size = 64\n",
    "dims = (28, 28, 1)"
   ]
  },
  {
   "cell_type": "code",
   "execution_count": 7,
   "metadata": {},
   "outputs": [],
   "source": [
    "# Load data\n",
    "X, y = load_data(data_dir)\n",
    "\n",
    "# Determine split sizes (Could also be hardcoded)\n",
    "train_size = math.floor(0.02 * len(y))  # ONLY 2 % of the data set is used for training\n",
    "val_size = math.floor(0.49 * len(y))\n",
    "test_size = math.floor(0.49 * len(y))\n",
    "\n",
    "# Create splitted sets\n",
    "X_train, y_train = X[:train_size], y[:train_size]\n",
    "X_val, y_val = X[train_size:train_size+val_size], y[train_size:train_size+val_size]\n",
    "X_test, y_test = X[train_size+val_size:], y[train_size+val_size:]"
   ]
  },
  {
   "cell_type": "code",
   "execution_count": 8,
   "metadata": {},
   "outputs": [],
   "source": [
    "# Create CNN model\n",
    "model = create_2DCNN_model(dims)"
   ]
  },
  {
   "cell_type": "code",
   "execution_count": 9,
   "metadata": {},
   "outputs": [],
   "source": [
    "# Configure stopping criterion via early stopping\n",
    "callback = tf.keras.callbacks.EarlyStopping(monitor=\"loss\", patience=4, mode=\"min\")"
   ]
  },
  {
   "cell_type": "code",
   "execution_count": 10,
   "metadata": {},
   "outputs": [
    {
     "name": "stdout",
     "output_type": "stream",
     "text": [
      "Epoch 1/50\n",
      "4/4 [==============================] - 1s 147ms/step - loss: 10.2628 - accuracy: 0.1350 - val_loss: 3.6010 - val_accuracy: 0.2667\n",
      "Epoch 2/50\n",
      "4/4 [==============================] - 0s 62ms/step - loss: 3.7636 - accuracy: 0.1950 - val_loss: 2.7363 - val_accuracy: 0.1635\n",
      "Epoch 3/50\n",
      "4/4 [==============================] - 0s 62ms/step - loss: 2.8723 - accuracy: 0.2300 - val_loss: 2.2986 - val_accuracy: 0.2912\n",
      "Epoch 4/50\n",
      "4/4 [==============================] - 0s 62ms/step - loss: 2.1438 - accuracy: 0.3550 - val_loss: 1.7985 - val_accuracy: 0.4651\n",
      "Epoch 5/50\n",
      "4/4 [==============================] - 0s 62ms/step - loss: 1.7719 - accuracy: 0.4400 - val_loss: 1.4283 - val_accuracy: 0.5786\n",
      "Epoch 6/50\n",
      "4/4 [==============================] - 0s 62ms/step - loss: 1.1674 - accuracy: 0.6150 - val_loss: 1.2463 - val_accuracy: 0.6147\n",
      "Epoch 7/50\n",
      "4/4 [==============================] - 0s 61ms/step - loss: 1.0267 - accuracy: 0.6750 - val_loss: 1.0116 - val_accuracy: 0.7165\n",
      "Epoch 8/50\n",
      "4/4 [==============================] - 0s 62ms/step - loss: 0.8631 - accuracy: 0.7450 - val_loss: 0.9911 - val_accuracy: 0.7339\n",
      "Epoch 9/50\n",
      "4/4 [==============================] - 0s 61ms/step - loss: 0.6880 - accuracy: 0.7950 - val_loss: 0.9536 - val_accuracy: 0.7180\n",
      "Epoch 10/50\n",
      "4/4 [==============================] - 0s 63ms/step - loss: 0.7833 - accuracy: 0.7700 - val_loss: 0.8654 - val_accuracy: 0.7663\n",
      "Epoch 11/50\n",
      "4/4 [==============================] - 0s 59ms/step - loss: 0.6297 - accuracy: 0.8300 - val_loss: 0.7711 - val_accuracy: 0.7914\n",
      "Epoch 12/50\n",
      "4/4 [==============================] - 0s 59ms/step - loss: 0.4498 - accuracy: 0.9100 - val_loss: 0.7758 - val_accuracy: 0.7859\n",
      "Epoch 13/50\n",
      "4/4 [==============================] - 0s 60ms/step - loss: 0.4498 - accuracy: 0.8900 - val_loss: 0.7181 - val_accuracy: 0.8090\n",
      "Epoch 14/50\n",
      "4/4 [==============================] - 0s 60ms/step - loss: 0.3311 - accuracy: 0.9450 - val_loss: 0.6297 - val_accuracy: 0.8369\n",
      "Epoch 15/50\n",
      "4/4 [==============================] - 0s 66ms/step - loss: 0.3113 - accuracy: 0.9500 - val_loss: 0.6336 - val_accuracy: 0.8339\n",
      "Epoch 16/50\n",
      "4/4 [==============================] - 0s 59ms/step - loss: 0.3275 - accuracy: 0.9450 - val_loss: 0.6280 - val_accuracy: 0.8414\n",
      "Epoch 17/50\n",
      "4/4 [==============================] - 0s 62ms/step - loss: 0.2563 - accuracy: 0.9450 - val_loss: 0.6978 - val_accuracy: 0.8188\n",
      "Epoch 18/50\n",
      "4/4 [==============================] - 0s 62ms/step - loss: 0.2344 - accuracy: 0.9750 - val_loss: 0.7690 - val_accuracy: 0.8027\n",
      "Epoch 19/50\n",
      "4/4 [==============================] - 0s 65ms/step - loss: 0.2631 - accuracy: 0.9650 - val_loss: 0.6548 - val_accuracy: 0.8320\n",
      "Epoch 20/50\n",
      "4/4 [==============================] - 0s 63ms/step - loss: 0.2118 - accuracy: 0.9750 - val_loss: 0.6477 - val_accuracy: 0.8386\n",
      "Epoch 21/50\n",
      "4/4 [==============================] - 0s 62ms/step - loss: 0.2498 - accuracy: 0.9750 - val_loss: 0.6470 - val_accuracy: 0.8392\n",
      "Epoch 22/50\n",
      "4/4 [==============================] - 0s 62ms/step - loss: 0.1848 - accuracy: 0.9900 - val_loss: 0.6850 - val_accuracy: 0.8335\n",
      "Epoch 23/50\n",
      "4/4 [==============================] - 0s 61ms/step - loss: 0.2003 - accuracy: 0.9800 - val_loss: 0.6374 - val_accuracy: 0.8443\n",
      "Epoch 24/50\n",
      "4/4 [==============================] - 0s 62ms/step - loss: 0.1792 - accuracy: 0.9950 - val_loss: 0.5790 - val_accuracy: 0.8590\n",
      "Epoch 25/50\n",
      "4/4 [==============================] - 0s 62ms/step - loss: 0.1616 - accuracy: 1.0000 - val_loss: 0.5788 - val_accuracy: 0.8557\n",
      "Epoch 26/50\n",
      "4/4 [==============================] - 0s 65ms/step - loss: 0.1546 - accuracy: 0.9950 - val_loss: 0.6051 - val_accuracy: 0.8555\n",
      "Epoch 27/50\n",
      "4/4 [==============================] - 0s 62ms/step - loss: 0.1453 - accuracy: 0.9900 - val_loss: 0.6225 - val_accuracy: 0.8547\n",
      "Epoch 28/50\n",
      "4/4 [==============================] - 0s 61ms/step - loss: 0.1429 - accuracy: 1.0000 - val_loss: 0.6511 - val_accuracy: 0.8461\n",
      "Epoch 29/50\n",
      "4/4 [==============================] - 0s 61ms/step - loss: 0.1510 - accuracy: 0.9950 - val_loss: 0.6339 - val_accuracy: 0.8578\n",
      "Epoch 30/50\n",
      "4/4 [==============================] - 0s 61ms/step - loss: 0.1527 - accuracy: 0.9950 - val_loss: 0.6816 - val_accuracy: 0.8402\n",
      "Epoch 31/50\n",
      "4/4 [==============================] - 0s 63ms/step - loss: 0.1704 - accuracy: 0.9900 - val_loss: 0.6904 - val_accuracy: 0.8351\n",
      "Epoch 32/50\n",
      "4/4 [==============================] - 0s 61ms/step - loss: 0.1834 - accuracy: 0.9700 - val_loss: 0.5971 - val_accuracy: 0.8596\n"
     ]
    }
   ],
   "source": [
    "# Train model\n",
    "train_summary = model.fit(x=X_train,\n",
    "                          y=y_train,\n",
    "                          validation_data=(X_val, y_val),\n",
    "                          batch_size=batch_size,\n",
    "                          epochs=num_epochs,\n",
    "                          callbacks=[callback],\n",
    "                          verbose=1)"
   ]
  },
  {
   "cell_type": "code",
   "execution_count": 11,
   "metadata": {},
   "outputs": [
    {
     "name": "stdout",
     "output_type": "stream",
     "text": [
      "154/154 [==============================] - 0s 2ms/step - loss: 0.5261 - accuracy: 0.8633\n",
      "\n",
      "Test ACC: 0.863\n"
     ]
    }
   ],
   "source": [
    "# Evaluate fitted model using test data\n",
    "test_loss, test_acc = model.evaluate(X_test, y_test, verbose=1)\n",
    "print(\"\\nTest ACC:\", round(test_acc, 3))"
   ]
  },
  {
   "cell_type": "code",
   "execution_count": 12,
   "metadata": {},
   "outputs": [
    {
     "name": "stdout",
     "output_type": "stream",
     "text": [
      "Plot saved as plotly_train_val_Accuracy.html\n"
     ]
    }
   ],
   "source": [
    "# Get epochwise performances\n",
    "train_acc = train_summary.history[\"accuracy\"]\n",
    "val_acc = train_summary.history[\"val_accuracy\"]\n",
    "\n",
    "# Format and store performances per epoch for plotting\n",
    "accs = {epoch: [round(performance[0], 2), round(performance[1], 2)]\n",
    "        for epoch, performance in enumerate(zip(train_acc, val_acc))}\n",
    "\n",
    "# Plot training and validation performance over epochs\n",
    "plot_train_val_performances(accs, \"Accuracy\")"
   ]
  },
  {
   "cell_type": "code",
   "execution_count": 13,
   "metadata": {},
   "outputs": [],
   "source": [
    "# Save model\n",
    "model.save_weights(\"model_weights.h5\")"
   ]
  }
 ],
 "metadata": {
  "kernelspec": {
   "display_name": "Python 3",
   "language": "python",
   "name": "python3"
  },
  "language_info": {
   "codemirror_mode": {
    "name": "ipython",
    "version": 3
   },
   "file_extension": ".py",
   "mimetype": "text/x-python",
   "name": "python",
   "nbconvert_exporter": "python",
   "pygments_lexer": "ipython3",
   "version": "3.8.8"
  }
 },
 "nbformat": 4,
 "nbformat_minor": 4
}
