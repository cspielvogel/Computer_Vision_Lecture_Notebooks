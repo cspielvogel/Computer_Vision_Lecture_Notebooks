{
 "cells": [
  {
   "cell_type": "markdown",
   "metadata": {},
   "source": [
    "## Convolutional Neural Network\n",
    "   #### Computer Vision Winter Semester 2021/2022 by Clemens Spielvogel\n",
    "    \n",
    "Convolutional Neural Networks (CNNs) are variations of neural networks specifically made for computer vision tasks. Their main advantage over classical neural networks is the sparsity of connections and the sharing of parameters over different regions via the usage of convolutional filters.\n",
    "The following code will demonstrate how to use Keras with Tensorflow backend for creating classification models for image data.\n",
    "\n",
    "Installations (Ubuntu)\n",
    "   * $ pip install plotly\n",
    "   \n",
    "Resources:\n",
    "   * Tensorflow tutorials: https://www.tensorflow.org/tutorials/\n",
    "   * Tensorflow guide: https://www.tensorflow.org/guide/\n",
    "   * Tensorflow documentation: https://www.tensorflow.org/versions/r1.14/api_docs/python/tf\n",
    "   * Keras documentation: https://keras.io/"
   ]
  },
  {
   "cell_type": "code",
   "execution_count": 1,
   "metadata": {},
   "outputs": [
    {
     "name": "stdout",
     "output_type": "stream",
     "text": [
      "Keras version 2.4.0\n",
      "TF version 2.3.0\n"
     ]
    }
   ],
   "source": [
    "import math\n",
    "import random\n",
    "import os\n",
    "#os.environ[\"CUDA_VISIBLE_DEVICES\"] = \"\" # If you want to use TF CPU version while having the GPU version installed\n",
    "\n",
    "import numpy as np\n",
    "import pandas as pd\n",
    "\n",
    "from sklearn.metrics import confusion_matrix\n",
    "import tensorflow as tf\n",
    "from tensorflow.keras import Sequential, layers, regularizers\n",
    "import tensorflow.keras\n",
    "from tensorflow.keras.utils import plot_model\n",
    "\n",
    "import matplotlib.pyplot as plt\n",
    "import seaborn as sns\n",
    "import plotly.offline as ply\n",
    "import plotly.graph_objs as graphs\n",
    "\n",
    "print(\"Keras version\", tf.keras.__version__)\n",
    "print(\"TF version\", tf.__version__)"
   ]
  },
  {
   "cell_type": "code",
   "execution_count": 2,
   "metadata": {},
   "outputs": [],
   "source": [
    "# Seeding random number generators to obtain reproducible results\n",
    "seed_value = 0\n",
    "os.environ['PYTHONHASHSEED']=str(seed_value)\n",
    "random.seed(seed_value)\n",
    "np.random.seed(seed_value) # Resets itself on every use!\n",
    "tf.random.set_seed(seed_value) # tf.set_random_seed(seed_value) on older TF versions"
   ]
  },
  {
   "cell_type": "code",
   "execution_count": 3,
   "metadata": {},
   "outputs": [],
   "source": [
    "# Specify data location\n",
    "data_dir = r\"Data\\mnist.csv\"\n",
    "\n",
    "# Set hyperparameters\n",
    "num_epochs = 20\n",
    "batch_size = 64\n",
    "dims = (28, 28, 1)"
   ]
  },
  {
   "cell_type": "code",
   "execution_count": 4,
   "metadata": {},
   "outputs": [],
   "source": [
    "def load_data(file_path):\n",
    "    # Load CSV file to pandas data frame\n",
    "    df = pd.read_csv(file_path, header=0)\n",
    "\n",
    "    # Split data frame columns into features and labels\n",
    "    y = df[\"label\"].values\n",
    "    X_flat = df.drop(\"label\", axis=1).values\n",
    "    X = [np.resize(array, (28, 28)) for array in X_flat] # Resize flat vector to 28x28\n",
    "    X = np.array([np.reshape(sample, (sample.shape[0], sample.shape[1], 1)) for sample in X]) # Add color channel\n",
    "    \n",
    "    return X, tf.keras.utils.to_categorical(y) # Labels are returned as one-hot encoded vectors"
   ]
  },
  {
   "cell_type": "code",
   "execution_count": 5,
   "metadata": {
    "tags": []
   },
   "outputs": [],
   "source": [
    "# Load data\n",
    "X, y = load_data(data_dir)\n",
    "\n",
    "# Determine split sizes (Could also be hardcoded)\n",
    "train_size = math.floor(0.8 * len(y))\n",
    "val_size = math.floor(0.1 * len(y))\n",
    "test_size = math.floor(0.1 * len(y))\n",
    "\n",
    "# Create splitted sets\n",
    "X_train, y_train = X[:train_size], y[:train_size]\n",
    "X_val, y_val = X[train_size:train_size+val_size], y[train_size:train_size+val_size]\n",
    "X_test, y_test = X[train_size+val_size:], y[train_size+val_size:]"
   ]
  },
  {
   "cell_type": "code",
   "execution_count": 6,
   "metadata": {},
   "outputs": [
    {
     "data": {
      "image/png": "[encoded data removed]",
      "text/plain": [
       "<Figure size 504x504 with 20 Axes>"
      ]
     },
     "metadata": {},
     "output_type": "display_data"
    }
   ],
   "source": [
    "# Display example images\n",
    "num_samples = 5 # Displayed samples per column\n",
    "num_columns = 4\n",
    "shift = 0 # To plot other samples\n",
    "\n",
    "fig, ax = plt.subplots(num_samples, num_columns, figsize=(7, 7))\n",
    "params = {\"top\": False, \"bottom\": False, \"left\": False, \"right\": False, \"labelleft\": False,\n",
    "          \"labelbottom\": False}\n",
    "\n",
    "for i in range(0, num_samples):\n",
    "    for col_index in range(num_columns):    \n",
    "        ax[i, col_index].imshow(X_train[i+num_samples*col_index+shift], cmap=\"gray\")\n",
    "        ax[i, col_index].tick_params(**params)\n",
    "\n",
    "plt.tight_layout()\n",
    "plt.show()"
   ]
  },
  {
   "cell_type": "code",
   "execution_count": 7,
   "metadata": {},
   "outputs": [],
   "source": [
    "def create_2DCNN_model(input_shape):\n",
    "    \"\"\"Build architecture of the model\"\"\"\n",
    "    model = Sequential()\n",
    "    model.add(layers.Conv2D(32, (3, 3), input_shape=input_shape,\n",
    "                            activation=\"relu\", padding=\"same\"))\n",
    "    model.add(layers.Conv2D(64, (3, 3), activation=\"selu\", padding=\"same\"))\n",
    "    model.add(layers.MaxPooling2D(pool_size=(3, 3)))\n",
    "    model.add(layers.Conv2D(64, (3, 3), activation=\"selu\", padding=\"same\"))\n",
    "    model.add(layers.Conv2D(64, (3, 3), activation=\"selu\", padding=\"same\"))\n",
    "    model.add(layers.MaxPooling2D(pool_size=(2, 2)))\n",
    "    model.add(layers.Conv2D(128, (3, 3), activation=\"selu\", padding=\"same\"))\n",
    "    model.add(layers.MaxPooling2D(pool_size=(2, 2), padding=\"same\"))\n",
    "    model.add(layers.Flatten())\n",
    "    model.add(layers.Dense(64, activation=\"selu\",\n",
    "                           kernel_regularizer=regularizers.l2(0.001)))\n",
    "    model.add(layers.Dropout(0.2))\n",
    "    model.add(layers.Dense(32, activation=\"selu\"))\n",
    "    model.add(layers.Dense(10, activation=\"softmax\"))\n",
    "\n",
    "    # Create model\n",
    "    model.compile(optimizer=tf.keras.optimizers.Adam(),\n",
    "                  loss=\"categorical_crossentropy\",\n",
    "                  metrics=[\"accuracy\"])\n",
    "\n",
    "    return model"
   ]
  },
  {
   "cell_type": "code",
   "execution_count": 8,
   "metadata": {},
   "outputs": [],
   "source": [
    "# Create CNN model\n",
    "model = create_2DCNN_model(dims)"
   ]
  },
  {
   "cell_type": "code",
   "execution_count": 9,
   "metadata": {},
   "outputs": [
    {
     "name": "stdout",
     "output_type": "stream",
     "text": [
      "Model: \"sequential\"\n",
      "_________________________________________________________________\n",
      "Layer (type)                 Output Shape              Param #   \n",
      "=================================================================\n",
      "conv2d (Conv2D)              (None, 28, 28, 32)        320       \n",
      "_________________________________________________________________\n",
      "conv2d_1 (Conv2D)            (None, 28, 28, 64)        18496     \n",
      "_________________________________________________________________\n",
      "max_pooling2d (MaxPooling2D) (None, 9, 9, 64)          0         \n",
      "_________________________________________________________________\n",
      "conv2d_2 (Conv2D)            (None, 9, 9, 64)          36928     \n",
      "_________________________________________________________________\n",
      "conv2d_3 (Conv2D)            (None, 9, 9, 64)          36928     \n",
      "_________________________________________________________________\n",
      "max_pooling2d_1 (MaxPooling2 (None, 4, 4, 64)          0         \n",
      "_________________________________________________________________\n",
      "conv2d_4 (Conv2D)            (None, 4, 4, 128)         73856     \n",
      "_________________________________________________________________\n",
      "max_pooling2d_2 (MaxPooling2 (None, 2, 2, 128)         0         \n",
      "_________________________________________________________________\n",
      "flatten (Flatten)            (None, 512)               0         \n",
      "_________________________________________________________________\n",
      "dense (Dense)                (None, 64)                32832     \n",
      "_________________________________________________________________\n",
      "dropout (Dropout)            (None, 64)                0         \n",
      "_________________________________________________________________\n",
      "dense_1 (Dense)              (None, 32)                2080      \n",
      "_________________________________________________________________\n",
      "dense_2 (Dense)              (None, 10)                330       \n",
      "=================================================================\n",
      "Total params: 201,770\n",
      "Trainable params: 201,770\n",
      "Non-trainable params: 0\n",
      "_________________________________________________________________\n",
      "None\n",
      "('Failed to import pydot. You must `pip install pydot` and install graphviz (https://graphviz.gitlab.io/download/), ', 'for `pydotprint` to work.')\n"
     ]
    }
   ],
   "source": [
    "# Two possibilities to display specifications of your model\n",
    "print(model.summary())\n",
    "plot_model(model)"
   ]
  },
  {
   "cell_type": "code",
   "execution_count": 10,
   "metadata": {},
   "outputs": [],
   "source": [
    "# Configure stopping criterion via early stopping\n",
    "callback = tf.keras.callbacks.EarlyStopping(monitor=\"loss\", patience=4, mode=\"min\")"
   ]
  },
  {
   "cell_type": "code",
   "execution_count": 11,
   "metadata": {},
   "outputs": [
    {
     "name": "stdout",
     "output_type": "stream",
     "text": [
      "Epoch 1/20\n",
      "125/125 [==============================] - 1s 8ms/step - loss: 1.1404 - accuracy: 0.7431 - val_loss: 0.2121 - val_accuracy: 0.9670\n",
      "Epoch 2/20\n",
      "125/125 [==============================] - 1s 7ms/step - loss: 0.2849 - accuracy: 0.9456 - val_loss: 0.2247 - val_accuracy: 0.9590\n",
      "Epoch 3/20\n",
      "125/125 [==============================] - 1s 7ms/step - loss: 0.2114 - accuracy: 0.9653 - val_loss: 0.1298 - val_accuracy: 0.9930\n",
      "Epoch 4/20\n",
      "125/125 [==============================] - 1s 6ms/step - loss: 0.1710 - accuracy: 0.9769 - val_loss: 0.1297 - val_accuracy: 0.9900\n",
      "Epoch 5/20\n",
      "125/125 [==============================] - 1s 6ms/step - loss: 0.1528 - accuracy: 0.9809 - val_loss: 0.1386 - val_accuracy: 0.9840\n",
      "Epoch 6/20\n",
      "125/125 [==============================] - 1s 6ms/step - loss: 0.1521 - accuracy: 0.9808 - val_loss: 0.1184 - val_accuracy: 0.9900\n",
      "Epoch 7/20\n",
      "125/125 [==============================] - 1s 6ms/step - loss: 0.1334 - accuracy: 0.9866 - val_loss: 0.1133 - val_accuracy: 0.9910\n",
      "Epoch 8/20\n",
      "125/125 [==============================] - 1s 6ms/step - loss: 0.1125 - accuracy: 0.9915 - val_loss: 0.0989 - val_accuracy: 0.9950\n",
      "Epoch 9/20\n",
      "125/125 [==============================] - 1s 7ms/step - loss: 0.1089 - accuracy: 0.9908 - val_loss: 0.1140 - val_accuracy: 0.9910\n",
      "Epoch 10/20\n",
      "125/125 [==============================] - 1s 7ms/step - loss: 0.1069 - accuracy: 0.9901 - val_loss: 0.1163 - val_accuracy: 0.9880\n",
      "Epoch 11/20\n",
      "125/125 [==============================] - 1s 7ms/step - loss: 0.1056 - accuracy: 0.9906 - val_loss: 0.0871 - val_accuracy: 0.9950\n",
      "Epoch 12/20\n",
      "125/125 [==============================] - 1s 7ms/step - loss: 0.0964 - accuracy: 0.9921 - val_loss: 0.0887 - val_accuracy: 0.9970\n",
      "Epoch 13/20\n",
      "125/125 [==============================] - 1s 7ms/step - loss: 0.0789 - accuracy: 0.9960 - val_loss: 0.0850 - val_accuracy: 0.9960\n",
      "Epoch 14/20\n",
      "125/125 [==============================] - 1s 7ms/step - loss: 0.0771 - accuracy: 0.9959 - val_loss: 0.0894 - val_accuracy: 0.9930\n",
      "Epoch 15/20\n",
      "125/125 [==============================] - 1s 7ms/step - loss: 0.0783 - accuracy: 0.9948 - val_loss: 0.0675 - val_accuracy: 0.9960\n",
      "Epoch 16/20\n",
      "125/125 [==============================] - 1s 7ms/step - loss: 0.0785 - accuracy: 0.9937 - val_loss: 0.0863 - val_accuracy: 0.9930\n",
      "Epoch 17/20\n",
      "125/125 [==============================] - 1s 7ms/step - loss: 0.0713 - accuracy: 0.9956 - val_loss: 0.0778 - val_accuracy: 0.9900\n",
      "Epoch 18/20\n",
      "125/125 [==============================] - 1s 7ms/step - loss: 0.0649 - accuracy: 0.9966 - val_loss: 0.0862 - val_accuracy: 0.9900\n",
      "Epoch 19/20\n",
      "125/125 [==============================] - 1s 7ms/step - loss: 0.0760 - accuracy: 0.9926 - val_loss: 0.0983 - val_accuracy: 0.9900\n",
      "Epoch 20/20\n",
      "125/125 [==============================] - 1s 7ms/step - loss: 0.0923 - accuracy: 0.9871 - val_loss: 0.0819 - val_accuracy: 0.9920\n"
     ]
    }
   ],
   "source": [
    "# Train model\n",
    "train_summary = model.fit(x=X_train,\n",
    "                          y=y_train,\n",
    "                          validation_data=(X_val, y_val),\n",
    "                          batch_size=batch_size,\n",
    "                          epochs=num_epochs,\n",
    "                          callbacks=[callback],\n",
    "                          verbose=1)"
   ]
  },
  {
   "cell_type": "code",
   "execution_count": 12,
   "metadata": {},
   "outputs": [
    {
     "name": "stdout",
     "output_type": "stream",
     "text": [
      "32/32 [==============================] - 0s 3ms/step - loss: 0.1634 - accuracy: 0.9750\n",
      "\n",
      "Test ACC: 0.975\n"
     ]
    }
   ],
   "source": [
    "# Evaluate fitted model using test data\n",
    "test_loss, test_acc = model.evaluate(X_test, y_test, verbose=1)\n",
    "print(\"\\nTest ACC:\", round(test_acc, 3))"
   ]
  },
  {
   "cell_type": "code",
   "execution_count": 13,
   "metadata": {},
   "outputs": [],
   "source": [
    "def plot_train_val_performances(performances, metric=\"Accuracy\", show=True):\n",
    "    \"\"\"Plot training vs. validation accuracy over all epochs. performances is a dictionary mapping epoch numbers\n",
    "       as integers to lists containing training and validation performance (e.g. accuracy).\n",
    "       metric is a string indicating the used performance metric.\"\"\"\n",
    "    x = list(performances.keys())     # Number of epoch\n",
    "    y_train = [i[0] for i in performances.values()]\n",
    "    y_val = [i[1] for i in performances.values()]\n",
    "\n",
    "    trace_train = graphs.Scatter(x=x, y=y_train, name=\"Training\", mode=\"lines+markers\",\n",
    "                                 line=dict(width=4),\n",
    "                                 marker=dict(symbol=\"circle\",\n",
    "                                             size=10))\n",
    "    trace_val = graphs.Scatter(x=x, y=y_val, name=\"Validation\", mode=\"lines+markers\",\n",
    "                                line=dict(width=4),\n",
    "                                marker=dict(symbol=\"circle\",\n",
    "                                            size=10))\n",
    "\n",
    "    layout = graphs.Layout(title=\"Training vs. Validation {}\".format(metric),\n",
    "                           xaxis={\"title\": \"Epoch\"},\n",
    "                           yaxis={\"title\": metric})\n",
    "\n",
    "    fig = graphs.Figure(data=[trace_train, trace_val], layout=layout)\n",
    "    ply.plot(fig, filename=\"plotly_train_val_{}.html\".format(metric), auto_open=show)\n",
    "    print(\"Plot saved as plotly_train_val_{}.html\".format(metric))"
   ]
  },
  {
   "cell_type": "code",
   "execution_count": 14,
   "metadata": {},
   "outputs": [
    {
     "name": "stdout",
     "output_type": "stream",
     "text": [
      "Plot saved as plotly_train_val_Accuracy.html\n"
     ]
    }
   ],
   "source": [
    "# Get epochwise performances\n",
    "train_acc = train_summary.history[\"accuracy\"]\n",
    "val_acc = train_summary.history[\"val_accuracy\"]\n",
    "\n",
    "# Format and store performances per epoch for plotting\n",
    "accs = {epoch: [round(performance[0], 2), round(performance[1], 2)]\n",
    "        for epoch, performance in enumerate(zip(train_acc, val_acc))}\n",
    "\n",
    "# Plot training and validation performance over epochs\n",
    "plot_train_val_performances(accs, \"Accuracy\")"
   ]
  },
  {
   "cell_type": "code",
   "execution_count": 15,
   "metadata": {},
   "outputs": [],
   "source": [
    "# Save model\n",
    "model.save_weights(\"model_weights.h5\")"
   ]
  },
  {
   "cell_type": "code",
   "execution_count": 16,
   "metadata": {},
   "outputs": [
    {
     "name": "stdout",
     "output_type": "stream",
     "text": [
      "True class: 7\n",
      "Predicted class: 2\n"
     ]
    },
    {
     "data": {
      "image/png": "[encoded data removed]",
      "text/plain": [
       "<Figure size 432x288 with 1 Axes>"
      ]
     },
     "metadata": {
      "needs_background": "light"
     },
     "output_type": "display_data"
    },
    {
     "name": "stdout",
     "output_type": "stream",
     "text": [
      "True class: 7\n",
      "Predicted class: 2\n"
     ]
    },
    {
     "data": {
      "image/png": "[encoded data removed]",
      "text/plain": [
       "<Figure size 432x288 with 1 Axes>"
      ]
     },
     "metadata": {
      "needs_background": "light"
     },
     "output_type": "display_data"
    },
    {
     "name": "stdout",
     "output_type": "stream",
     "text": [
      "True class: 0\n",
      "Predicted class: 2\n"
     ]
    },
    {
     "data": {
      "image/png": "[encoded data removed]",
      "text/plain": [
       "<Figure size 432x288 with 1 Axes>"
      ]
     },
     "metadata": {
      "needs_background": "light"
     },
     "output_type": "display_data"
    },
    {
     "name": "stdout",
     "output_type": "stream",
     "text": [
      "True class: 7\n",
      "Predicted class: 2\n"
     ]
    },
    {
     "data": {
      "image/png": "[encoded data removed]",
      "text/plain": [
       "<Figure size 432x288 with 1 Axes>"
      ]
     },
     "metadata": {
      "needs_background": "light"
     },
     "output_type": "display_data"
    },
    {
     "name": "stdout",
     "output_type": "stream",
     "text": [
      "True class: 7\n",
      "Predicted class: 2\n"
     ]
    },
    {
     "data": {
      "image/png": "[encoded data removed]",
      "text/plain": [
       "<Figure size 432x288 with 1 Axes>"
      ]
     },
     "metadata": {
      "needs_background": "light"
     },
     "output_type": "display_data"
    },
    {
     "name": "stdout",
     "output_type": "stream",
     "text": [
      "True class: 7\n",
      "Predicted class: 2\n"
     ]
    },
    {
     "data": {
      "image/png": "[encoded data removed]",
      "text/plain": [
       "<Figure size 432x288 with 1 Axes>"
      ]
     },
     "metadata": {
      "needs_background": "light"
     },
     "output_type": "display_data"
    },
    {
     "name": "stdout",
     "output_type": "stream",
     "text": [
      "True class: 3\n",
      "Predicted class: 2\n"
     ]
    },
    {
     "data": {
      "image/png": "[encoded data removed]",
      "text/plain": [
       "<Figure size 432x288 with 1 Axes>"
      ]
     },
     "metadata": {
      "needs_background": "light"
     },
     "output_type": "display_data"
    },
    {
     "name": "stdout",
     "output_type": "stream",
     "text": [
      "True class: 3\n",
      "Predicted class: 2\n"
     ]
    },
    {
     "data": {
      "image/png": "[encoded data removed]",
      "text/plain": [
       "<Figure size 432x288 with 1 Axes>"
      ]
     },
     "metadata": {
      "needs_background": "light"
     },
     "output_type": "display_data"
    },
    {
     "name": "stdout",
     "output_type": "stream",
     "text": [
      "True class: 9\n",
      "Predicted class: 4\n"
     ]
    },
    {
     "data": {
      "image/png": "[encoded data removed]",
      "text/plain": [
       "<Figure size 432x288 with 1 Axes>"
      ]
     },
     "metadata": {
      "needs_background": "light"
     },
     "output_type": "display_data"
    },
    {
     "name": "stdout",
     "output_type": "stream",
     "text": [
      "True class: 9\n",
      "Predicted class: 7\n"
     ]
    },
    {
     "data": {
      "image/png": "[encoded data removed]",
      "text/plain": [
       "<Figure size 432x288 with 1 Axes>"
      ]
     },
     "metadata": {
      "needs_background": "light"
     },
     "output_type": "display_data"
    }
   ],
   "source": [
    "# Assessment of incorrectly identified instances\n",
    "\n",
    "num_show = 10 # Maximum number of displayed instances\n",
    "\n",
    "# Iterate through test instances\n",
    "for X_instance, y_instance in zip(X_test, y_test):\n",
    "    \n",
    "    # Predict class for each instance\n",
    "    y_pred_one_hot = model.predict(np.array([X_instance]))\n",
    "    \n",
    "    # Retrieve integer from one-hot encoded class\n",
    "    y_pred = np.argmax(y_pred_one_hot)\n",
    "    \n",
    "    y_instance = np.argmax(y_instance)\n",
    "    \n",
    "    # Check whether class is incorrect\n",
    "    if y_pred != y_instance and num_show > 0:\n",
    "        # Display true and predicted class\n",
    "        print(\"True class:\", y_instance)\n",
    "        print(\"Predicted class:\", y_pred)\n",
    "        \n",
    "        # Display incorrectly predicted image\n",
    "        plt.imshow(X_instance, cmap=\"gray\")\n",
    "        plt.show()\n",
    "        \n",
    "        # Update maximum number of images to show\n",
    "        num_show -=1"
   ]
  },
  {
   "cell_type": "code",
   "execution_count": 17,
   "metadata": {},
   "outputs": [
    {
     "data": {
      "image/png": "[encoded data removed]",
      "text/plain": [
       "<Figure size 864x720 with 2 Axes>"
      ]
     },
     "metadata": {},
     "output_type": "display_data"
    }
   ],
   "source": [
    "# Distribution of incorrectly classified instances\n",
    "\n",
    "# Predict all test instances\n",
    "y_pred = model.predict(X_test)\n",
    "\n",
    "# Convert to integer labels\n",
    "y_test_int = [np.argmax(val) for val in y_test]\n",
    "y_pred_int = [np.argmax(val) for val in y_pred]\n",
    "cm = confusion_matrix(y_test_int, y_pred_int)\n",
    "\n",
    "sns.set(rc={'figure.figsize':(12, 10)})\n",
    " \n",
    "fig = sns.heatmap(data=cm,\n",
    "            cmap=\"Blues\",\n",
    "            annot=True,\n",
    "            fmt=\"g\")\n",
    "\n",
    "fig.set(xlabel=\"Predicted\", ylabel=\"Ground truth\")\n",
    "\n",
    "plt.show()"
   ]
  }
 ],
 "metadata": {
  "kernelspec": {
   "display_name": "Python 3",
   "language": "python",
   "name": "python3"
  },
  "language_info": {
   "codemirror_mode": {
    "name": "ipython",
    "version": 3
   },
   "file_extension": ".py",
   "mimetype": "text/x-python",
   "name": "python",
   "nbconvert_exporter": "python",
   "pygments_lexer": "ipython3",
   "version": "3.8.8"
  }
 },
 "nbformat": 4,
 "nbformat_minor": 4
}
