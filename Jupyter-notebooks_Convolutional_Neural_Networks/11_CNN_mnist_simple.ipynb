{
 "cells": [
  {
   "cell_type": "markdown",
   "metadata": {},
   "source": [
    "## Convolutional Neural Network\n",
    "   #### Computer Vision Winter Semester 2020/2021 by Clemens Spielvogel\n",
    "    \n",
    "Convolutional Neural Networks (CNNs) are variations of neural networks specifically made for computer vision tasks. Their main advantage over classical neural networks is the sparsity of connections and the sharing of parameters over different regions via the usage of convolutional filters.\n",
    "The following code will demonstrate how to use Keras with Tensorflow backend for creating classification models for image data.\n",
    "\n",
    "Installations (Ubuntu)\n",
    "   * $ pip install plotly\n",
    "   \n",
    "Resources:\n",
    "   * Tensorflow tutorials: https://www.tensorflow.org/tutorials/\n",
    "   * Tensorflow guide: https://www.tensorflow.org/guide/\n",
    "   * Tensorflow documentation: https://www.tensorflow.org/versions/r1.14/api_docs/python/tf\n",
    "   * Keras documentation: https://keras.io/"
   ]
  },
  {
   "cell_type": "code",
   "execution_count": 1,
   "metadata": {},
   "outputs": [
    {
     "name": "stderr",
     "output_type": "stream",
     "text": [
      "Using TensorFlow backend.\n"
     ]
    },
    {
     "name": "stdout",
     "output_type": "stream",
     "text": [
      "Keras version 2.3.1\n",
      "TF version 2.1.0\n"
     ]
    }
   ],
   "source": [
    "import os\n",
    "#os.environ[\"CUDA_VISIBLE_DEVICES\"] = \"\" # If you want to use TF CPU version while having the GPU version installed\n",
    "\n",
    "import tensorflow as tf\n",
    "from keras import Sequential, layers, regularizers\n",
    "import keras\n",
    "from keras.utils.vis_utils import plot_model\n",
    "import numpy as np\n",
    "import pandas as pd\n",
    "import plotly.offline as ply\n",
    "import plotly.graph_objs as graphs\n",
    "import math\n",
    "import random\n",
    "import matplotlib.pyplot as plt\n",
    "\n",
    "print(\"Keras version\", keras.__version__)\n",
    "print(\"TF version\", tf.__version__)"
   ]
  },
  {
   "cell_type": "code",
   "execution_count": 2,
   "metadata": {},
   "outputs": [],
   "source": [
    "# Seeding random number generators to obtain reproducible results\n",
    "seed_value = 0\n",
    "os.environ['PYTHONHASHSEED']=str(seed_value)\n",
    "random.seed(seed_value)\n",
    "np.random.seed(seed_value) # Resets itself on every use!\n",
    "tf.random.set_seed(seed_value) # tf.set_random_seed(seed_value) on older TF versions"
   ]
  },
  {
   "cell_type": "code",
   "execution_count": 3,
   "metadata": {},
   "outputs": [],
   "source": [
    "def load_data(file_path):\n",
    "    # Load CSV file to pandas data frame\n",
    "    df = pd.read_csv(file_path, header=0)\n",
    "\n",
    "    # Split data frame columns into features and labels\n",
    "    y = df[\"label\"].values\n",
    "    X_flat = df.drop(\"label\", axis=1).values\n",
    "    X = [np.resize(array, (28, 28)) for array in X_flat] # Resize flat vector to 28x28\n",
    "    X = np.array([np.reshape(sample, (sample.shape[0], sample.shape[1], 1)) for sample in X]) # Add color channel\n",
    "    \n",
    "    return X, keras.utils.to_categorical(y) # Labels are returned as one-hot encoded vectors"
   ]
  },
  {
   "cell_type": "code",
   "execution_count": 4,
   "metadata": {},
   "outputs": [],
   "source": [
    "def plot_train_val_performances(performances, metric=\"Accuracy\", show=True):\n",
    "    \"\"\"Plot training vs. validation accuracy over all epochs. performances is a dictionary mapping epoch numbers\n",
    "       as integers to lists containing training and validation performance (e.g. accuracy).\n",
    "       metric is a string indicating the used performance metric.\"\"\"\n",
    "    x = list(performances.keys())     # Number of epoch\n",
    "    y_train = [i[0] for i in performances.values()]\n",
    "    y_val = [i[1] for i in performances.values()]\n",
    "\n",
    "    trace_train = graphs.Scatter(x=x, y=y_train, name=\"Training\", mode=\"lines+markers\",\n",
    "                                 line=dict(width=4),\n",
    "                                 marker=dict(symbol=\"circle\",\n",
    "                                             size=10))\n",
    "    trace_val = graphs.Scatter(x=x, y=y_val, name=\"Validation\", mode=\"lines+markers\",\n",
    "                                line=dict(width=4),\n",
    "                                marker=dict(symbol=\"circle\",\n",
    "                                            size=10))\n",
    "\n",
    "    layout = graphs.Layout(title=\"Training vs. Validation {}\".format(metric),\n",
    "                           xaxis={\"title\": \"Epoch\"},\n",
    "                           yaxis={\"title\": metric})\n",
    "\n",
    "    fig = graphs.Figure(data=[trace_train, trace_val], layout=layout)\n",
    "    ply.plot(fig, filename=\"plotly_train_val_{}.html\".format(metric), auto_open=show)\n",
    "    print(\"Plot saved as plotly_train_val_{}.html\".format(metric))"
   ]
  },
  {
   "cell_type": "code",
   "execution_count": 5,
   "metadata": {},
   "outputs": [],
   "source": [
    "def create_2DCNN_model(input_shape):\n",
    "    \"\"\"Build architecture of the model\"\"\"\n",
    "    model = Sequential()\n",
    "    model.add(layers.Conv2D(32, (3, 3), input_shape=input_shape,\n",
    "                            activation=\"relu\", padding=\"same\"))\n",
    "    model.add(layers.Conv2D(64, (3, 3), activation=\"selu\", padding=\"same\"))\n",
    "    model.add(layers.MaxPooling2D(pool_size=(3, 3)))\n",
    "    model.add(layers.Conv2D(64, (3, 3), activation=\"selu\", padding=\"same\"))\n",
    "    model.add(layers.Conv2D(64, (3, 3), activation=\"selu\", padding=\"same\"))\n",
    "    model.add(layers.MaxPooling2D(pool_size=(2, 2)))\n",
    "    model.add(layers.Conv2D(128, (3, 3), activation=\"selu\", padding=\"same\"))\n",
    "    model.add(layers.MaxPooling2D(pool_size=(2, 2), padding=\"same\"))\n",
    "    model.add(layers.Flatten())\n",
    "    model.add(layers.Dense(64, activation=\"selu\",\n",
    "                           kernel_regularizer=regularizers.l2(0.001)))\n",
    "    model.add(layers.Dropout(0.2))\n",
    "    model.add(layers.Dense(32, activation=\"selu\"))\n",
    "    model.add(layers.Dense(10, activation=\"softmax\"))\n",
    "\n",
    "    # Create model\n",
    "    model.compile(optimizer=tf.keras.optimizers.Adam(),\n",
    "                  loss=\"categorical_crossentropy\",\n",
    "                  metrics=[\"accuracy\"])\n",
    "\n",
    "    return model"
   ]
  },
  {
   "cell_type": "code",
   "execution_count": 6,
   "metadata": {},
   "outputs": [],
   "source": [
    "# Specify data location\n",
    "data_dir = r\"Data\\mnist.csv\"\n",
    "\n",
    "# Set hyperparameters\n",
    "num_epochs = 20\n",
    "batch_size = 64\n",
    "dims = (28, 28, 1)"
   ]
  },
  {
   "cell_type": "code",
   "execution_count": 7,
   "metadata": {},
   "outputs": [],
   "source": [
    "# Load data\n",
    "X, y = load_data(data_dir)\n",
    "\n",
    "# Determine split sizes (Could also be hardcoded)\n",
    "train_size = math.floor(0.8 * len(y))\n",
    "val_size = math.floor(0.1 * len(y))\n",
    "test_size = math.floor(0.1 * len(y))\n",
    "\n",
    "# Create splitted sets\n",
    "X_train, y_train = X[:train_size], y[:train_size]\n",
    "X_val, y_val = X[train_size:train_size+val_size], y[train_size:train_size+val_size]\n",
    "X_test, y_test = X[train_size+val_size:], y[train_size+val_size:]"
   ]
  },
  {
   "cell_type": "code",
   "execution_count": 8,
   "metadata": {},
   "outputs": [],
   "source": [
    "# Create CNN model\n",
    "model = create_2DCNN_model(dims)"
   ]
  },
  {
   "cell_type": "code",
   "execution_count": 9,
   "metadata": {},
   "outputs": [
    {
     "name": "stdout",
     "output_type": "stream",
     "text": [
      "Model: \"sequential_1\"\n",
      "_________________________________________________________________\n",
      "Layer (type)                 Output Shape              Param #   \n",
      "=================================================================\n",
      "conv2d_1 (Conv2D)            (None, 28, 28, 32)        320       \n",
      "_________________________________________________________________\n",
      "conv2d_2 (Conv2D)            (None, 28, 28, 64)        18496     \n",
      "_________________________________________________________________\n",
      "max_pooling2d_1 (MaxPooling2 (None, 9, 9, 64)          0         \n",
      "_________________________________________________________________\n",
      "conv2d_3 (Conv2D)            (None, 9, 9, 64)          36928     \n",
      "_________________________________________________________________\n",
      "conv2d_4 (Conv2D)            (None, 9, 9, 64)          36928     \n",
      "_________________________________________________________________\n",
      "max_pooling2d_2 (MaxPooling2 (None, 4, 4, 64)          0         \n",
      "_________________________________________________________________\n",
      "conv2d_5 (Conv2D)            (None, 4, 4, 128)         73856     \n",
      "_________________________________________________________________\n",
      "max_pooling2d_3 (MaxPooling2 (None, 2, 2, 128)         0         \n",
      "_________________________________________________________________\n",
      "flatten_1 (Flatten)          (None, 512)               0         \n",
      "_________________________________________________________________\n",
      "dense_1 (Dense)              (None, 64)                32832     \n",
      "_________________________________________________________________\n",
      "dropout_1 (Dropout)          (None, 64)                0         \n",
      "_________________________________________________________________\n",
      "dense_2 (Dense)              (None, 32)                2080      \n",
      "_________________________________________________________________\n",
      "dense_3 (Dense)              (None, 10)                330       \n",
      "=================================================================\n",
      "Total params: 201,770\n",
      "Trainable params: 201,770\n",
      "Non-trainable params: 0\n",
      "_________________________________________________________________\n",
      "None\n"
     ]
    },
    {
     "data": {
      "image/png": "[encoded data removed]",
      "text/plain": [
       "<IPython.core.display.Image object>"
      ]
     },
     "execution_count": 9,
     "metadata": {},
     "output_type": "execute_result"
    }
   ],
   "source": [
    "# Two possibilities to display specifications of your model\n",
    "print(model.summary())\n",
    "plot_model(model)"
   ]
  },
  {
   "cell_type": "code",
   "execution_count": 10,
   "metadata": {},
   "outputs": [],
   "source": [
    "# Configure stopping criterion via early stopping\n",
    "callback = tf.keras.callbacks.EarlyStopping(monitor=\"loss\", patience=4)"
   ]
  },
  {
   "cell_type": "code",
   "execution_count": 11,
   "metadata": {},
   "outputs": [
    {
     "name": "stdout",
     "output_type": "stream",
     "text": [
      "Train on 8000 samples, validate on 1000 samples\n",
      "Epoch 1/20\n",
      "8000/8000 [==============================] - 4s 535us/step - loss: 1.3336 - accuracy: 0.7006 - val_loss: 0.3147 - val_accuracy: 0.9360\n",
      "Epoch 2/20\n",
      "8000/8000 [==============================] - 3s 346us/step - loss: 0.3080 - accuracy: 0.9369 - val_loss: 0.1548 - val_accuracy: 0.9800\n",
      "Epoch 3/20\n",
      "8000/8000 [==============================] - 3s 350us/step - loss: 0.2194 - accuracy: 0.9620 - val_loss: 0.1474 - val_accuracy: 0.9860\n",
      "Epoch 4/20\n",
      "8000/8000 [==============================] - 3s 353us/step - loss: 0.1650 - accuracy: 0.9783 - val_loss: 0.1334 - val_accuracy: 0.9900\n",
      "Epoch 5/20\n",
      "8000/8000 [==============================] - 3s 350us/step - loss: 0.1480 - accuracy: 0.9833 - val_loss: 0.1241 - val_accuracy: 0.9900\n",
      "Epoch 6/20\n",
      "8000/8000 [==============================] - 3s 349us/step - loss: 0.1398 - accuracy: 0.9839 - val_loss: 0.1062 - val_accuracy: 0.9930\n",
      "Epoch 7/20\n",
      "8000/8000 [==============================] - 3s 350us/step - loss: 0.1188 - accuracy: 0.9885 - val_loss: 0.1335 - val_accuracy: 0.9870\n",
      "Epoch 8/20\n",
      "8000/8000 [==============================] - 3s 349us/step - loss: 0.1134 - accuracy: 0.9895 - val_loss: 0.1333 - val_accuracy: 0.9880\n",
      "Epoch 9/20\n",
      "8000/8000 [==============================] - 3s 349us/step - loss: 0.0984 - accuracy: 0.9934 - val_loss: 0.1138 - val_accuracy: 0.9890\n",
      "Epoch 10/20\n",
      "8000/8000 [==============================] - 3s 348us/step - loss: 0.1040 - accuracy: 0.9901 - val_loss: 0.1045 - val_accuracy: 0.9900\n",
      "Epoch 11/20\n",
      "8000/8000 [==============================] - 3s 349us/step - loss: 0.1019 - accuracy: 0.9908 - val_loss: 0.0932 - val_accuracy: 0.9940\n",
      "Epoch 12/20\n",
      "8000/8000 [==============================] - 3s 349us/step - loss: 0.0921 - accuracy: 0.9926 - val_loss: 0.0910 - val_accuracy: 0.9900\n",
      "Epoch 13/20\n",
      "8000/8000 [==============================] - 3s 349us/step - loss: 0.0944 - accuracy: 0.9901 - val_loss: 0.1049 - val_accuracy: 0.9890\n",
      "Epoch 14/20\n",
      "8000/8000 [==============================] - 3s 348us/step - loss: 0.0923 - accuracy: 0.9904 - val_loss: 0.0761 - val_accuracy: 0.9950\n",
      "Epoch 15/20\n",
      "8000/8000 [==============================] - 3s 349us/step - loss: 0.0826 - accuracy: 0.9926 - val_loss: 0.0755 - val_accuracy: 0.9950\n",
      "Epoch 16/20\n",
      "8000/8000 [==============================] - 3s 349us/step - loss: 0.0668 - accuracy: 0.9971 - val_loss: 0.0670 - val_accuracy: 0.9960\n",
      "Epoch 17/20\n",
      "8000/8000 [==============================] - 3s 348us/step - loss: 0.0592 - accuracy: 0.9986 - val_loss: 0.0584 - val_accuracy: 0.9970\n",
      "Epoch 18/20\n",
      "8000/8000 [==============================] - 3s 348us/step - loss: 0.0560 - accuracy: 0.9985 - val_loss: 0.0703 - val_accuracy: 0.9950\n",
      "Epoch 19/20\n",
      "8000/8000 [==============================] - 3s 348us/step - loss: 0.0537 - accuracy: 0.9985 - val_loss: 0.0736 - val_accuracy: 0.9920\n",
      "Epoch 20/20\n",
      "8000/8000 [==============================] - 3s 350us/step - loss: 0.0550 - accuracy: 0.9969 - val_loss: 0.0734 - val_accuracy: 0.9930\n"
     ]
    }
   ],
   "source": [
    "# Train model\n",
    "train_summary = model.fit(x=X_train,\n",
    "                          y=y_train,\n",
    "                          validation_data=(X_val, y_val),\n",
    "                          batch_size=batch_size,\n",
    "                          epochs=num_epochs,\n",
    "                          callbacks=[callback],\n",
    "                          verbose=1)"
   ]
  },
  {
   "cell_type": "code",
   "execution_count": 12,
   "metadata": {},
   "outputs": [
    {
     "name": "stdout",
     "output_type": "stream",
     "text": [
      "1000/1000 [==============================] - 0s 320us/step\n",
      "\n",
      "Test ACC: 0.986\n"
     ]
    }
   ],
   "source": [
    "# Evaluate fitted model using test data\n",
    "test_loss, test_acc = model.evaluate(X_test, y_test, verbose=1)\n",
    "print(\"\\nTest ACC:\", round(test_acc, 3))"
   ]
  },
  {
   "cell_type": "code",
   "execution_count": 13,
   "metadata": {},
   "outputs": [
    {
     "name": "stdout",
     "output_type": "stream",
     "text": [
      "Plot saved as plotly_train_val_Accuracy.html\n"
     ]
    }
   ],
   "source": [
    "# Get epochwise performances\n",
    "train_acc = train_summary.history[\"accuracy\"]\n",
    "val_acc = train_summary.history[\"val_accuracy\"]\n",
    "\n",
    "# Format and store performances per epoch for plotting\n",
    "accs = {epoch: [round(performance[0], 2), round(performance[1], 2)]\n",
    "        for epoch, performance in enumerate(zip(train_acc, val_acc))}\n",
    "\n",
    "# Plot training and validation performance over epochs\n",
    "plot_train_val_performances(accs, \"Accuracy\")"
   ]
  },
  {
   "cell_type": "code",
   "execution_count": 14,
   "metadata": {},
   "outputs": [],
   "source": [
    "# Save model\n",
    "model.save_weights(\"model_weights.h5\")"
   ]
  }
 ],
 "metadata": {
  "kernelspec": {
   "display_name": "Python 3",
   "language": "python",
   "name": "python3"
  },
  "language_info": {
   "codemirror_mode": {
    "name": "ipython",
    "version": 3
   },
   "file_extension": ".py",
   "mimetype": "text/x-python",
   "name": "python",
   "nbconvert_exporter": "python",
   "pygments_lexer": "ipython3",
   "version": "3.7.4"
  }
 },
 "nbformat": 4,
 "nbformat_minor": 2
}
