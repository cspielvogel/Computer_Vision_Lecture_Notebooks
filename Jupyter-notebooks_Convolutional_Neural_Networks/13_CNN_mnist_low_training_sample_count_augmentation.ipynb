{
 "cells": [
  {
   "cell_type": "markdown",
   "metadata": {},
   "source": [
    "## Convolutional Neural Network\n",
    "   #### Computer Vision Winter Semester 2020/2021 by Clemens Spielvogel\n",
    "    \n",
    "In the following code example you will see how the keras ImageDataGenerator can be used for data augmentation. Data augmentation increases the generalization of your model, can be used to handle imbalanced data sets and helps building good models on small amounts of data."
   ]
  },
  {
   "cell_type": "code",
   "execution_count": 15,
   "metadata": {},
   "outputs": [],
   "source": [
    "import os\n",
    "#os.environ[\"CUDA_VISIBLE_DEVICES\"] = \"\" # If you want to use TF CPU version while having the GPU version installed\n",
    "\n",
    "import tensorflow as tf\n",
    "from keras import Sequential, layers, regularizers\n",
    "import keras\n",
    "from keras.preprocessing.image import ImageDataGenerator\n",
    "import numpy as np\n",
    "import pandas as pd\n",
    "import plotly.offline as ply\n",
    "import plotly.graph_objs as graphs\n",
    "import math\n",
    "import random\n",
    "import matplotlib.pyplot as plt"
   ]
  },
  {
   "cell_type": "code",
   "execution_count": 16,
   "metadata": {},
   "outputs": [],
   "source": [
    "# Seeding random number generators to obtain reproducible results\n",
    "seed_value = 0\n",
    "os.environ['PYTHONHASHSEED']=str(seed_value)\n",
    "random.seed(seed_value)\n",
    "np.random.seed(seed_value) # Resets itself on every use!\n",
    "tf.random.set_seed(seed_value) # tf.set_random_seed(seed_value) on older TF versions"
   ]
  },
  {
   "cell_type": "code",
   "execution_count": 17,
   "metadata": {},
   "outputs": [],
   "source": [
    "def load_data(file_path):\n",
    "    # Load CSV file to pandas data frame\n",
    "    df = pd.read_csv(file_path, header=0)\n",
    "\n",
    "    # Split data frame columns into features and labels\n",
    "    y = df[\"label\"].values\n",
    "    X_flat = df.drop(\"label\", axis=1).values\n",
    "    X = [np.resize(array, (28, 28)) for array in X_flat] # Resize flat vector to 28x28\n",
    "    X = np.array([np.reshape(sample, (sample.shape[0], sample.shape[1], 1)) for sample in X]) # Add color channel\n",
    "    \n",
    "    return X, keras.utils.to_categorical(y) # Labels are returned as one-hot encoded vectors"
   ]
  },
  {
   "cell_type": "code",
   "execution_count": 18,
   "metadata": {},
   "outputs": [],
   "source": [
    "def plot_train_val_performances(performances, metric=\"Accuracy\", show=True):\n",
    "    \"\"\"Plot training vs. testing accuracy over all epochs. performances is a dictionary mapping epoch numbers\n",
    "       as integers to lists containing training and validation performance (e.g. accuracy).\n",
    "       metric is a string indicating the used performance metric.\"\"\"\n",
    "    x = list(performances.keys())     # Number of epochs\n",
    "    y_train = [i[0] for i in performances.values()]\n",
    "    y_val = [i[1] for i in performances.values()]\n",
    "\n",
    "    trace_train = graphs.Scatter(x=x, y=y_train, name=\"Training\", mode=\"lines+markers\",\n",
    "                                 line=dict(width=4),\n",
    "                                 marker=dict(symbol=\"circle\",\n",
    "                                             size=10))\n",
    "    trace_val = graphs.Scatter(x=x, y=y_val, name=\"Validation\", mode=\"lines+markers\",\n",
    "                                line=dict(width=4),\n",
    "                                marker=dict(symbol=\"circle\",\n",
    "                                            size=10))\n",
    "\n",
    "    layout = graphs.Layout(title=\"Training vs. Validation {}\".format(metric),\n",
    "                           xaxis={\"title\": \"Epoch\"},\n",
    "                           yaxis={\"title\": metric})\n",
    "\n",
    "    fig = graphs.Figure(data=[trace_train, trace_val], layout=layout)\n",
    "    ply.plot(fig, filename=\"plotly_train_val_{}.html\".format(metric), auto_open=show)\n",
    "    print(\"Plot saved as plotly_train_val_{}.html\".format(metric))"
   ]
  },
  {
   "cell_type": "code",
   "execution_count": 19,
   "metadata": {},
   "outputs": [],
   "source": [
    "def create_2DCNN_model(input_shape):\n",
    "    \"\"\"Build architecture of the model\"\"\"\n",
    "    model = Sequential()\n",
    "    model.add(layers.Conv2D(32, (3, 3), input_shape=input_shape,\n",
    "                            activation=\"relu\", padding=\"same\"))\n",
    "    model.add(layers.Conv2D(64, (3, 3), activation=\"selu\", padding=\"same\"))\n",
    "    model.add(layers.MaxPooling2D(pool_size=(3, 3)))\n",
    "    model.add(layers.Conv2D(64, (3, 3), activation=\"selu\", padding=\"same\"))\n",
    "    model.add(layers.Conv2D(64, (3, 3), activation=\"selu\", padding=\"same\"))\n",
    "    model.add(layers.MaxPooling2D(pool_size=(2, 2)))\n",
    "    model.add(layers.Conv2D(128, (3, 3), activation=\"selu\", padding=\"same\"))\n",
    "    model.add(layers.MaxPooling2D(pool_size=(2, 2), padding=\"same\"))\n",
    "    model.add(layers.Flatten())\n",
    "    model.add(layers.Dense(64, activation=\"selu\"))\n",
    "    model.add(layers.Dropout(0.2))\n",
    "    model.add(layers.Dense(32, activation=\"selu\"))\n",
    "    model.add(layers.Dense(10, activation=\"softmax\"))\n",
    "\n",
    "    # Create model\n",
    "    model.compile(optimizer=tf.keras.optimizers.Adam(),\n",
    "                  loss=\"categorical_crossentropy\",\n",
    "                  metrics=[\"accuracy\"])\n",
    "\n",
    "    return model"
   ]
  },
  {
   "cell_type": "code",
   "execution_count": 20,
   "metadata": {},
   "outputs": [],
   "source": [
    "# Specify data location\n",
    "data_dir = r\"Data\\mnist.csv\"\n",
    "\n",
    "# Set hyperparameters\n",
    "num_epochs = 50\n",
    "batch_size = 64\n",
    "dims = (28, 28, 1)"
   ]
  },
  {
   "cell_type": "code",
   "execution_count": 21,
   "metadata": {},
   "outputs": [],
   "source": [
    "# Load data\n",
    "X, y = load_data(data_dir)\n",
    "\n",
    "# Determine split sizes\n",
    "train_size = math.floor(0.02 * len(y)) # ONLY 2 % of the data set is used for training to demonstrate the augmentation benefit\n",
    "val_size = math.floor(0.475 * len(y))\n",
    "test_size = math.floor(0.475 * len(y))\n",
    "\n",
    "# Create splitted sets\n",
    "X_train, y_train = X[:train_size], y[:train_size]\n",
    "X_val, y_val = X[train_size:train_size+val_size], y[train_size:train_size+val_size]\n",
    "X_test, y_test = X[train_size+val_size:], y[train_size+val_size:]"
   ]
  },
  {
   "cell_type": "code",
   "execution_count": 22,
   "metadata": {},
   "outputs": [],
   "source": [
    "# Create CNN model\n",
    "model = create_2DCNN_model(dims)"
   ]
  },
  {
   "cell_type": "code",
   "execution_count": 23,
   "metadata": {},
   "outputs": [],
   "source": [
    "# Data augmentation using Keras' built-in data generator\n",
    "train_generator = ImageDataGenerator(rotation_range=10,\n",
    "                                     shear_range = 0.1,\n",
    "                                     zoom_range = 0.1)"
   ]
  },
  {
   "cell_type": "code",
   "execution_count": 24,
   "metadata": {},
   "outputs": [],
   "source": [
    "# Configure stopping criterion via early stopping\n",
    "callback = tf.keras.callbacks.EarlyStopping(monitor=\"loss\", patience=4)"
   ]
  },
  {
   "cell_type": "code",
   "execution_count": 25,
   "metadata": {},
   "outputs": [
    {
     "name": "stdout",
     "output_type": "stream",
     "text": [
      "Epoch 1/50\n",
      "7/7 [==============================] - 2s 289ms/step - loss: 7.8775 - accuracy: 0.0900 - val_loss: 2.8142 - val_accuracy: 0.1573\n",
      "Epoch 2/50\n",
      "7/7 [==============================] - 1s 110ms/step - loss: 2.8924 - accuracy: 0.1400 - val_loss: 1.8639 - val_accuracy: 0.3665\n",
      "Epoch 3/50\n",
      "7/7 [==============================] - 1s 106ms/step - loss: 2.1228 - accuracy: 0.3350 - val_loss: 2.0160 - val_accuracy: 0.3531\n",
      "Epoch 4/50\n",
      "7/7 [==============================] - 1s 106ms/step - loss: 1.8576 - accuracy: 0.4250 - val_loss: 1.5311 - val_accuracy: 0.4560\n",
      "Epoch 5/50\n",
      "7/7 [==============================] - 1s 107ms/step - loss: 1.4549 - accuracy: 0.5300 - val_loss: 1.1711 - val_accuracy: 0.6116\n",
      "Epoch 6/50\n",
      "7/7 [==============================] - 1s 108ms/step - loss: 1.0610 - accuracy: 0.6200 - val_loss: 0.8943 - val_accuracy: 0.7173\n",
      "Epoch 7/50\n",
      "7/7 [==============================] - 1s 106ms/step - loss: 0.6975 - accuracy: 0.7600 - val_loss: 0.7550 - val_accuracy: 0.7762\n",
      "Epoch 8/50\n",
      "7/7 [==============================] - 1s 106ms/step - loss: 0.5928 - accuracy: 0.8000 - val_loss: 0.5775 - val_accuracy: 0.8208\n",
      "Epoch 9/50\n",
      "7/7 [==============================] - 2s 229ms/step - loss: 0.5021 - accuracy: 0.8400 - val_loss: 0.6150 - val_accuracy: 0.8086\n",
      "Epoch 10/50\n",
      "7/7 [==============================] - 1s 108ms/step - loss: 0.4690 - accuracy: 0.8350 - val_loss: 0.5357 - val_accuracy: 0.8337\n",
      "Epoch 11/50\n",
      "7/7 [==============================] - 1s 107ms/step - loss: 0.3361 - accuracy: 0.9200 - val_loss: 0.5158 - val_accuracy: 0.8432\n",
      "Epoch 12/50\n",
      "7/7 [==============================] - 1s 107ms/step - loss: 0.3326 - accuracy: 0.8850 - val_loss: 0.5233 - val_accuracy: 0.8398\n",
      "Epoch 13/50\n",
      "7/7 [==============================] - 2s 238ms/step - loss: 0.2874 - accuracy: 0.8850 - val_loss: 0.4709 - val_accuracy: 0.8617\n",
      "Epoch 14/50\n",
      "7/7 [==============================] - 1s 105ms/step - loss: 0.2633 - accuracy: 0.8900 - val_loss: 0.5387 - val_accuracy: 0.8402\n",
      "Epoch 15/50\n",
      "7/7 [==============================] - 1s 105ms/step - loss: 0.2170 - accuracy: 0.9250 - val_loss: 0.5195 - val_accuracy: 0.8592\n",
      "Epoch 16/50\n",
      "7/7 [==============================] - 1s 105ms/step - loss: 0.1413 - accuracy: 0.9300 - val_loss: 0.4005 - val_accuracy: 0.8819\n",
      "Epoch 17/50\n",
      "7/7 [==============================] - 1s 106ms/step - loss: 0.1985 - accuracy: 0.9400 - val_loss: 0.6689 - val_accuracy: 0.8057\n",
      "Epoch 18/50\n",
      "7/7 [==============================] - 2s 231ms/step - loss: 0.1628 - accuracy: 0.9250 - val_loss: 0.4846 - val_accuracy: 0.8507\n",
      "Epoch 19/50\n",
      "7/7 [==============================] - 1s 108ms/step - loss: 0.1111 - accuracy: 0.9800 - val_loss: 0.3526 - val_accuracy: 0.8977\n",
      "Epoch 20/50\n",
      "7/7 [==============================] - 1s 108ms/step - loss: 0.1327 - accuracy: 0.9650 - val_loss: 0.3569 - val_accuracy: 0.8949\n",
      "Epoch 21/50\n",
      "7/7 [==============================] - 1s 106ms/step - loss: 0.1689 - accuracy: 0.9500 - val_loss: 0.5433 - val_accuracy: 0.8564\n",
      "Epoch 22/50\n",
      "7/7 [==============================] - 1s 105ms/step - loss: 0.1137 - accuracy: 0.9550 - val_loss: 0.4167 - val_accuracy: 0.8800\n",
      "Epoch 23/50\n",
      "7/7 [==============================] - 1s 105ms/step - loss: 0.0749 - accuracy: 0.9700 - val_loss: 0.4149 - val_accuracy: 0.8846\n",
      "Epoch 24/50\n",
      "7/7 [==============================] - 1s 106ms/step - loss: 0.0640 - accuracy: 0.9800 - val_loss: 0.5471 - val_accuracy: 0.8667\n",
      "Epoch 25/50\n",
      "7/7 [==============================] - 1s 106ms/step - loss: 0.0455 - accuracy: 0.9800 - val_loss: 0.4429 - val_accuracy: 0.8840\n",
      "Epoch 26/50\n",
      "7/7 [==============================] - 1s 105ms/step - loss: 0.0515 - accuracy: 0.9850 - val_loss: 0.4795 - val_accuracy: 0.8745\n",
      "Epoch 27/50\n",
      "7/7 [==============================] - 1s 106ms/step - loss: 0.1156 - accuracy: 0.9750 - val_loss: 0.4958 - val_accuracy: 0.8731\n",
      "Epoch 28/50\n",
      "7/7 [==============================] - 2s 235ms/step - loss: 0.0263 - accuracy: 0.9950 - val_loss: 0.5016 - val_accuracy: 0.8775\n",
      "Epoch 29/50\n",
      "7/7 [==============================] - 1s 107ms/step - loss: 0.0466 - accuracy: 0.9950 - val_loss: 0.4338 - val_accuracy: 0.8928\n",
      "Epoch 30/50\n",
      "7/7 [==============================] - 1s 107ms/step - loss: 0.0717 - accuracy: 0.9850 - val_loss: 0.4004 - val_accuracy: 0.8987\n",
      "Epoch 31/50\n",
      "7/7 [==============================] - 1s 108ms/step - loss: 0.0537 - accuracy: 0.9850 - val_loss: 0.4239 - val_accuracy: 0.8964\n",
      "Epoch 32/50\n",
      "7/7 [==============================] - 2s 237ms/step - loss: 0.0425 - accuracy: 0.9850 - val_loss: 0.4427 - val_accuracy: 0.8971\n"
     ]
    }
   ],
   "source": [
    "# Training model while dynamically retrieving the augmented data from the generator\n",
    "train_summary = model.fit_generator(generator=train_generator.flow(X_train, y_train, batch_size=32),\n",
    "                                    validation_data=(X_val, y_val),\n",
    "                                    epochs=num_epochs,\n",
    "                                    callbacks=[callback],\n",
    "                                    verbose=1)"
   ]
  },
  {
   "cell_type": "code",
   "execution_count": 26,
   "metadata": {},
   "outputs": [
    {
     "name": "stdout",
     "output_type": "stream",
     "text": [
      "5050/5050 [==============================] - 1s 139us/step\n",
      "\n",
      "Test ACC: 0.915\n"
     ]
    }
   ],
   "source": [
    "# Evaluate fitted model using test data\n",
    "test_loss, test_acc = model.evaluate(X_test, y_test, verbose=1)\n",
    "print(\"\\nTest ACC:\", round(test_acc, 3))"
   ]
  },
  {
   "cell_type": "code",
   "execution_count": 27,
   "metadata": {},
   "outputs": [
    {
     "name": "stdout",
     "output_type": "stream",
     "text": [
      "Plot saved as plotly_train_val_Accuracy.html\n"
     ]
    }
   ],
   "source": [
    "# Get epochwise performances\n",
    "train_acc = train_summary.history[\"accuracy\"]\n",
    "val_acc = train_summary.history[\"val_accuracy\"]\n",
    "\n",
    "# Format and store performances per epoch for plotting\n",
    "accs = {epoch: [round(performance[0], 2), round(performance[1], 2)]\n",
    "        for epoch, performance in enumerate(zip(train_acc, val_acc))}\n",
    "\n",
    "# Save model\n",
    "model.save_weights(\"model_weights.h5\")\n",
    "\n",
    "# Plot training and validation performance over epochs\n",
    "plot_train_val_performances(accs, \"Accuracy\")"
   ]
  }
 ],
 "metadata": {
  "kernelspec": {
   "display_name": "Python 3",
   "language": "python",
   "name": "python3"
  },
  "language_info": {
   "codemirror_mode": {
    "name": "ipython",
    "version": 3
   },
   "file_extension": ".py",
   "mimetype": "text/x-python",
   "name": "python",
   "nbconvert_exporter": "python",
   "pygments_lexer": "ipython3",
   "version": "3.7.4"
  }
 },
 "nbformat": 4,
 "nbformat_minor": 2
}
