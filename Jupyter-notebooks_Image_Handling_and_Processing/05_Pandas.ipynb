{
 "cells": [
  {
   "cell_type": "markdown",
   "metadata": {},
   "source": [
    "## Pandas\n",
    "   #### Computer Vision Winter Semester 2021/2022 by Clemens Spielvogel\n",
    "   \n",
    "Pandas is a highly-optimized python library for creating, handling and manipulation of tabular data. Pandas makes extensive use of NumPy functionalities.\n",
    "\n",
    "Installation (Ubuntu)\n",
    "   * $ pip install pandas\n",
    "\n",
    "Resources:\n",
    "   * Documentation: https://pandas.pydata.org/pandas-docs/version/0.25/\n",
    "   * Tutorial: https://pandas.pydata.org/pandas-docs/stable/getting_started/tutorials.html\n",
    "   * Cheat sheet: http://datacamp-community-prod.s3.amazonaws.com/dbed353d-2757-4617-8206-8767ab379ab3  "
   ]
  },
  {
   "cell_type": "markdown",
   "metadata": {},
   "source": [
    "### Importing"
   ]
  },
  {
   "cell_type": "code",
   "execution_count": 1,
   "metadata": {},
   "outputs": [
    {
     "name": "stdout",
     "output_type": "stream",
     "text": [
      "1.3.3\n"
     ]
    }
   ],
   "source": [
    "# Importing pandas library is usually done using the alias pd\n",
    "import pandas as pd\n",
    "\n",
    "print(pd.__version__)"
   ]
  },
  {
   "cell_type": "markdown",
   "metadata": {},
   "source": [
    "### Input / Output"
   ]
  },
  {
   "cell_type": "code",
   "execution_count": 3,
   "metadata": {},
   "outputs": [
    {
     "name": "stdout",
     "output_type": "stream",
     "text": [
      "<class 'pandas.core.frame.DataFrame'>\n"
     ]
    },
    {
     "data": {
      "text/html": [
       "<div>\n",
       "<style scoped>\n",
       "    .dataframe tbody tr th:only-of-type {\n",
       "        vertical-align: middle;\n",
       "    }\n",
       "\n",
       "    .dataframe tbody tr th {\n",
       "        vertical-align: top;\n",
       "    }\n",
       "\n",
       "    .dataframe thead th {\n",
       "        text-align: right;\n",
       "    }\n",
       "</style>\n",
       "<table border=\"1\" class=\"dataframe\">\n",
       "  <thead>\n",
       "    <tr style=\"text-align: right;\">\n",
       "      <th></th>\n",
       "      <th>Sample-ID</th>\n",
       "      <th>Attribute1</th>\n",
       "      <th>Attribute2</th>\n",
       "      <th>Attribute3</th>\n",
       "      <th>Class</th>\n",
       "    </tr>\n",
       "  </thead>\n",
       "  <tbody>\n",
       "    <tr>\n",
       "      <th>0</th>\n",
       "      <td>ID0001</td>\n",
       "      <td>3</td>\n",
       "      <td>0.123</td>\n",
       "      <td>True</td>\n",
       "      <td>0</td>\n",
       "    </tr>\n",
       "    <tr>\n",
       "      <th>1</th>\n",
       "      <td>ID0002</td>\n",
       "      <td>4</td>\n",
       "      <td>0.098</td>\n",
       "      <td>False</td>\n",
       "      <td>0</td>\n",
       "    </tr>\n",
       "    <tr>\n",
       "      <th>2</th>\n",
       "      <td>ID0003</td>\n",
       "      <td>2</td>\n",
       "      <td>0.123</td>\n",
       "      <td>False</td>\n",
       "      <td>0</td>\n",
       "    </tr>\n",
       "    <tr>\n",
       "      <th>3</th>\n",
       "      <td>ID0004</td>\n",
       "      <td>6</td>\n",
       "      <td>0.111</td>\n",
       "      <td>True</td>\n",
       "      <td>0</td>\n",
       "    </tr>\n",
       "    <tr>\n",
       "      <th>4</th>\n",
       "      <td>ID0005</td>\n",
       "      <td>4</td>\n",
       "      <td>0.221</td>\n",
       "      <td>False</td>\n",
       "      <td>0</td>\n",
       "    </tr>\n",
       "    <tr>\n",
       "      <th>5</th>\n",
       "      <td>ID0006</td>\n",
       "      <td>3</td>\n",
       "      <td>0.238</td>\n",
       "      <td>False</td>\n",
       "      <td>1</td>\n",
       "    </tr>\n",
       "    <tr>\n",
       "      <th>6</th>\n",
       "      <td>ID0007</td>\n",
       "      <td>2</td>\n",
       "      <td>0.324</td>\n",
       "      <td>False</td>\n",
       "      <td>1</td>\n",
       "    </tr>\n",
       "    <tr>\n",
       "      <th>7</th>\n",
       "      <td>ID0008</td>\n",
       "      <td>4</td>\n",
       "      <td>0.298</td>\n",
       "      <td>True</td>\n",
       "      <td>1</td>\n",
       "    </tr>\n",
       "    <tr>\n",
       "      <th>8</th>\n",
       "      <td>ID0009</td>\n",
       "      <td>3</td>\n",
       "      <td>0.323</td>\n",
       "      <td>True</td>\n",
       "      <td>1</td>\n",
       "    </tr>\n",
       "    <tr>\n",
       "      <th>9</th>\n",
       "      <td>ID0010</td>\n",
       "      <td>2</td>\n",
       "      <td>0.411</td>\n",
       "      <td>True</td>\n",
       "      <td>1</td>\n",
       "    </tr>\n",
       "  </tbody>\n",
       "</table>\n",
       "</div>"
      ],
      "text/plain": [
       "  Sample-ID  Attribute1  Attribute2  Attribute3  Class\n",
       "0    ID0001           3       0.123        True      0\n",
       "1    ID0002           4       0.098       False      0\n",
       "2    ID0003           2       0.123       False      0\n",
       "3    ID0004           6       0.111        True      0\n",
       "4    ID0005           4       0.221       False      0\n",
       "5    ID0006           3       0.238       False      1\n",
       "6    ID0007           2       0.324       False      1\n",
       "7    ID0008           4       0.298        True      1\n",
       "8    ID0009           3       0.323        True      1\n",
       "9    ID0010           2       0.411        True      1"
      ]
     },
     "execution_count": 3,
     "metadata": {},
     "output_type": "execute_result"
    }
   ],
   "source": [
    "# Reading tabular data from a CSV file\n",
    "df = pd.read_csv(\"Data/tabularData.csv\", sep=\",\", header=0)\n",
    "\n",
    "print(type(df))\n",
    "\n",
    "df"
   ]
  },
  {
   "cell_type": "code",
   "execution_count": 4,
   "metadata": {},
   "outputs": [
    {
     "name": "stdout",
     "output_type": "stream",
     "text": [
      "Data frame saved: True\n"
     ]
    }
   ],
   "source": [
    "import os\n",
    "\n",
    "# Save table\n",
    "new_name = \"tabularData_saved.csv\"\n",
    "df.to_csv(os.path.join(\"Data/\", new_name), sep=\";\", index=False)\n",
    "\n",
    "# Verify saving\n",
    "print(\"Data frame saved:\", new_name in os.listdir(\"Data\"))\n",
    "\n",
    "os.remove(\"Data/\" + new_name) # deleting saved copy"
   ]
  },
  {
   "cell_type": "markdown",
   "metadata": {},
   "source": [
    "In addition to reading and writing CSV files, pandas also supports I/O of other formats such as SQL tables, SQL query results and Excel tables."
   ]
  },
  {
   "cell_type": "markdown",
   "metadata": {},
   "source": [
    "### Creating a table\n",
    "Besides importing a table, there are various ways to create and fill a new data frame object"
   ]
  },
  {
   "cell_type": "code",
   "execution_count": 4,
   "metadata": {},
   "outputs": [
    {
     "name": "stdout",
     "output_type": "stream",
     "text": [
      "Empty data frame: Empty DataFrame\n",
      "Columns: [ID, Class]\n",
      "Index: []\n",
      "Filled data frame:\n",
      "            ID Class\n",
      "0  sample-001     A\n",
      "1  sample-002     B\n"
     ]
    }
   ],
   "source": [
    "# Creating a table and iteratively add samples (rows) to the table\n",
    "df = pd.DataFrame(columns=[\"ID\", \"Class\"])\n",
    "\n",
    "print(\"Empty data frame:\", df)\n",
    "\n",
    "# Create data\n",
    "sample1 = {\"ID\": \"sample-001\", \"Class\": \"A\"}\n",
    "sample2 = {\"ID\": \"sample-002\", \"Class\": \"B\"}\n",
    "\n",
    "# Add samples as rows to data frame one by one\n",
    "df = df.append(sample1, ignore_index=True)\n",
    "df = df.append(sample2, ignore_index=True)\n",
    "\n",
    "print(\"Filled data frame:\\n\", df)"
   ]
  },
  {
   "cell_type": "code",
   "execution_count": 5,
   "metadata": {},
   "outputs": [
    {
     "name": "stdout",
     "output_type": "stream",
     "text": [
      "    ID  Attribute Class\n",
      "0  id1        1.1     A\n",
      "1  id2        2.2     B\n",
      "2  id3        3.3     C\n"
     ]
    }
   ],
   "source": [
    "# Filling a data frame in one go\n",
    "df = pd.DataFrame({\"ID\":[\"id1\", \"id2\", \"id3\"], \"Attribute\":[1.1, 2.2, 3.3] , \"Class\":[\"A\", \"B\", \"C\"]})\n",
    "\n",
    "print(df)"
   ]
  },
  {
   "cell_type": "markdown",
   "metadata": {},
   "source": [
    "### Queries"
   ]
  },
  {
   "cell_type": "code",
   "execution_count": 10,
   "metadata": {},
   "outputs": [
    {
     "name": "stdout",
     "output_type": "stream",
     "text": [
      "  Sample-ID  Attribute1  Attribute2  Attribute3  Class\n",
      "0    ID0001           3       0.123        True      0\n",
      "1    ID0002           4       0.098       False      0\n",
      "2    ID0003           2       0.123       False      0\n",
      "3    ID0004           6       0.111        True      0\n",
      "4    ID0005           4       0.221       False      0\n",
      "5    ID0006           3       0.238       False      1\n",
      "6    ID0007           2       0.324       False      1\n",
      "7    ID0008           4       0.298        True      1\n",
      "8    ID0009           3       0.323        True      1\n",
      "9    ID0010           2       0.411        True      1\n"
     ]
    },
    {
     "data": {
      "text/plain": [
       "Sample-ID     ID0001\n",
       "Attribute1         3\n",
       "Attribute2     0.123\n",
       "Attribute3      True\n",
       "Class              0\n",
       "Name: 0, dtype: object"
      ]
     },
     "execution_count": 10,
     "metadata": {},
     "output_type": "execute_result"
    }
   ],
   "source": [
    "df = pd.read_csv(\"Data/tabularData.csv\", sep=\",\", header=0)\n",
    "\n",
    "print(df)\n",
    "\n",
    "# Get row by index name\n",
    "df.loc[0]"
   ]
  },
  {
   "cell_type": "code",
   "execution_count": 7,
   "metadata": {},
   "outputs": [
    {
     "data": {
      "text/plain": [
       "0    0\n",
       "1    0\n",
       "2    0\n",
       "3    0\n",
       "4    0\n",
       "5    1\n",
       "6    1\n",
       "7    1\n",
       "8    1\n",
       "9    1\n",
       "Name: Class, dtype: int64"
      ]
     },
     "execution_count": 7,
     "metadata": {},
     "output_type": "execute_result"
    }
   ],
   "source": [
    "# Get column by column name\n",
    "df[\"Class\"]"
   ]
  },
  {
   "cell_type": "code",
   "execution_count": 8,
   "metadata": {},
   "outputs": [
    {
     "name": "stdout",
     "output_type": "stream",
     "text": [
      "Sample-ID     ID0006\n",
      "Attribute1         3\n",
      "Attribute2     0.238\n",
      "Attribute3     False\n",
      "Class              1\n",
      "Name: 5, dtype: object\n",
      "['ID0006' 3 0.238 False 1]\n"
     ]
    }
   ],
   "source": [
    "# Get row by index name\n",
    "print(df.loc[5])\n",
    "print(df.loc[5].values)"
   ]
  },
  {
   "cell_type": "code",
   "execution_count": 9,
   "metadata": {},
   "outputs": [
    {
     "data": {
      "text/plain": [
       "1"
      ]
     },
     "execution_count": 9,
     "metadata": {},
     "output_type": "execute_result"
    }
   ],
   "source": [
    "# Get cell value by index and column name\n",
    "df.loc[5][\"Class\"]"
   ]
  },
  {
   "cell_type": "code",
   "execution_count": 10,
   "metadata": {},
   "outputs": [
    {
     "data": {
      "text/plain": [
       "1"
      ]
     },
     "execution_count": 10,
     "metadata": {},
     "output_type": "execute_result"
    }
   ],
   "source": [
    "# Get cell value using the .at() method\n",
    "df.at[5, \"Class\"]"
   ]
  },
  {
   "cell_type": "code",
   "execution_count": 11,
   "metadata": {},
   "outputs": [
    {
     "name": "stdout",
     "output_type": "stream",
     "text": [
      "df.columns: Index(['Sample-ID', 'Attribute1', 'Attribute2', 'Attribute3', 'Class'], dtype='object')\n",
      "<class 'pandas.core.indexes.base.Index'>\n",
      "\n",
      "df.columns.values: ['Sample-ID' 'Attribute1' 'Attribute2' 'Attribute3' 'Class']\n",
      "<class 'numpy.ndarray'>\n",
      "\n",
      "df.columns.values.tolist(): ['Sample-ID', 'Attribute1', 'Attribute2', 'Attribute3', 'Class']\n",
      "<class 'list'>\n"
     ]
    }
   ],
   "source": [
    "# Get column names\n",
    "print(\"df.columns:\", df.columns)\n",
    "print(type(df.columns))\n",
    "\n",
    "# Can be converted to numpy array\n",
    "print(\"\\ndf.columns.values:\", df.columns.values)\n",
    "print(type(df.columns.values))\n",
    "\n",
    "# .. or to a list\n",
    "print(\"\\ndf.columns.values.tolist():\", df.columns.values.tolist())\n",
    "print(type(df.columns.values.tolist()))"
   ]
  },
  {
   "cell_type": "code",
   "execution_count": 12,
   "metadata": {},
   "outputs": [
    {
     "data": {
      "text/html": [
       "<div>\n",
       "<style scoped>\n",
       "    .dataframe tbody tr th:only-of-type {\n",
       "        vertical-align: middle;\n",
       "    }\n",
       "\n",
       "    .dataframe tbody tr th {\n",
       "        vertical-align: top;\n",
       "    }\n",
       "\n",
       "    .dataframe thead th {\n",
       "        text-align: right;\n",
       "    }\n",
       "</style>\n",
       "<table border=\"1\" class=\"dataframe\">\n",
       "  <thead>\n",
       "    <tr style=\"text-align: right;\">\n",
       "      <th></th>\n",
       "      <th>Sample-ID</th>\n",
       "      <th>Attribute1</th>\n",
       "      <th>Attribute2</th>\n",
       "      <th>Attribute3</th>\n",
       "      <th>Class</th>\n",
       "    </tr>\n",
       "  </thead>\n",
       "  <tbody>\n",
       "    <tr>\n",
       "      <th>0</th>\n",
       "      <td>ID0001</td>\n",
       "      <td>3</td>\n",
       "      <td>0.123</td>\n",
       "      <td>True</td>\n",
       "      <td>0</td>\n",
       "    </tr>\n",
       "    <tr>\n",
       "      <th>1</th>\n",
       "      <td>ID0002</td>\n",
       "      <td>4</td>\n",
       "      <td>0.098</td>\n",
       "      <td>False</td>\n",
       "      <td>0</td>\n",
       "    </tr>\n",
       "    <tr>\n",
       "      <th>3</th>\n",
       "      <td>ID0004</td>\n",
       "      <td>6</td>\n",
       "      <td>0.111</td>\n",
       "      <td>True</td>\n",
       "      <td>0</td>\n",
       "    </tr>\n",
       "    <tr>\n",
       "      <th>4</th>\n",
       "      <td>ID0005</td>\n",
       "      <td>4</td>\n",
       "      <td>0.221</td>\n",
       "      <td>False</td>\n",
       "      <td>0</td>\n",
       "    </tr>\n",
       "    <tr>\n",
       "      <th>5</th>\n",
       "      <td>ID0006</td>\n",
       "      <td>3</td>\n",
       "      <td>0.238</td>\n",
       "      <td>False</td>\n",
       "      <td>1</td>\n",
       "    </tr>\n",
       "    <tr>\n",
       "      <th>7</th>\n",
       "      <td>ID0008</td>\n",
       "      <td>4</td>\n",
       "      <td>0.298</td>\n",
       "      <td>True</td>\n",
       "      <td>1</td>\n",
       "    </tr>\n",
       "    <tr>\n",
       "      <th>8</th>\n",
       "      <td>ID0009</td>\n",
       "      <td>3</td>\n",
       "      <td>0.323</td>\n",
       "      <td>True</td>\n",
       "      <td>1</td>\n",
       "    </tr>\n",
       "  </tbody>\n",
       "</table>\n",
       "</div>"
      ],
      "text/plain": [
       "  Sample-ID  Attribute1  Attribute2  Attribute3  Class\n",
       "0    ID0001           3       0.123        True      0\n",
       "1    ID0002           4       0.098       False      0\n",
       "3    ID0004           6       0.111        True      0\n",
       "4    ID0005           4       0.221       False      0\n",
       "5    ID0006           3       0.238       False      1\n",
       "7    ID0008           4       0.298        True      1\n",
       "8    ID0009           3       0.323        True      1"
      ]
     },
     "execution_count": 12,
     "metadata": {},
     "output_type": "execute_result"
    }
   ],
   "source": [
    "# Retrieve subsections of table based on logical operations\n",
    "df[df[\"Attribute1\"] > 2]"
   ]
  },
  {
   "cell_type": "markdown",
   "metadata": {},
   "source": [
    "### Metainfo & Statistics"
   ]
  },
  {
   "cell_type": "code",
   "execution_count": 13,
   "metadata": {},
   "outputs": [
    {
     "name": "stdout",
     "output_type": "stream",
     "text": [
      "len(df): 10\n",
      "\n",
      "df.shape: (10, 5)\n",
      "\n",
      "df.info():\n",
      "<class 'pandas.core.frame.DataFrame'>\n",
      "RangeIndex: 10 entries, 0 to 9\n",
      "Data columns (total 5 columns):\n",
      " #   Column      Non-Null Count  Dtype  \n",
      "---  ------      --------------  -----  \n",
      " 0   Sample-ID   10 non-null     object \n",
      " 1   Attribute1  10 non-null     int64  \n",
      " 2   Attribute2  10 non-null     float64\n",
      " 3   Attribute3  10 non-null     bool   \n",
      " 4   Class       10 non-null     int64  \n",
      "dtypes: bool(1), float64(1), int64(2), object(1)\n",
      "memory usage: 458.0+ bytes\n",
      "None\n",
      "\n",
      "df.describe():\n",
      "        Attribute1  Attribute2      Class\n",
      "count   10.000000   10.000000  10.000000\n",
      "mean     3.300000    0.227000   0.500000\n",
      "std      1.251666    0.110256   0.527046\n",
      "min      2.000000    0.098000   0.000000\n",
      "25%      2.250000    0.123000   0.000000\n",
      "50%      3.000000    0.229500   0.500000\n",
      "75%      4.000000    0.316750   1.000000\n",
      "max      6.000000    0.411000   1.000000\n"
     ]
    }
   ],
   "source": [
    "# Get number of samples (rows)\n",
    "print(\"len(df):\", len(df))\n",
    "\n",
    "# Get dimensions of data frame\n",
    "print(\"\\ndf.shape:\", df.shape) # in format (<number of rows>, <number of columns>)\n",
    "\n",
    "# Get table infos\n",
    "print(\"\\ndf.info():\")\n",
    "print(df.info())\n",
    "\n",
    "# Get table content summary\n",
    "print(\"\\ndf.describe():\\n\", df.describe()) "
   ]
  },
  {
   "cell_type": "markdown",
   "metadata": {},
   "source": [
    "### Manipulation"
   ]
  },
  {
   "cell_type": "code",
   "execution_count": 14,
   "metadata": {},
   "outputs": [
    {
     "data": {
      "text/html": [
       "<div>\n",
       "<style scoped>\n",
       "    .dataframe tbody tr th:only-of-type {\n",
       "        vertical-align: middle;\n",
       "    }\n",
       "\n",
       "    .dataframe tbody tr th {\n",
       "        vertical-align: top;\n",
       "    }\n",
       "\n",
       "    .dataframe thead th {\n",
       "        text-align: right;\n",
       "    }\n",
       "</style>\n",
       "<table border=\"1\" class=\"dataframe\">\n",
       "  <thead>\n",
       "    <tr style=\"text-align: right;\">\n",
       "      <th></th>\n",
       "      <th>Sample-ID</th>\n",
       "      <th>Attribute1</th>\n",
       "      <th>Attribute2</th>\n",
       "      <th>Attribute3</th>\n",
       "      <th>Class</th>\n",
       "    </tr>\n",
       "  </thead>\n",
       "  <tbody>\n",
       "    <tr>\n",
       "      <th>0</th>\n",
       "      <td>ID0001</td>\n",
       "      <td>3</td>\n",
       "      <td>0.123</td>\n",
       "      <td>True</td>\n",
       "      <td>0</td>\n",
       "    </tr>\n",
       "    <tr>\n",
       "      <th>1</th>\n",
       "      <td>ID0002</td>\n",
       "      <td>4</td>\n",
       "      <td>0.098</td>\n",
       "      <td>False</td>\n",
       "      <td>0</td>\n",
       "    </tr>\n",
       "    <tr>\n",
       "      <th>2</th>\n",
       "      <td>ID0003</td>\n",
       "      <td>2</td>\n",
       "      <td>0.123</td>\n",
       "      <td>False</td>\n",
       "      <td>0</td>\n",
       "    </tr>\n",
       "    <tr>\n",
       "      <th>3</th>\n",
       "      <td>ID0004</td>\n",
       "      <td>6</td>\n",
       "      <td>0.111</td>\n",
       "      <td>True</td>\n",
       "      <td>0</td>\n",
       "    </tr>\n",
       "    <tr>\n",
       "      <th>4</th>\n",
       "      <td>ID0005</td>\n",
       "      <td>4</td>\n",
       "      <td>0.221</td>\n",
       "      <td>False</td>\n",
       "      <td>0</td>\n",
       "    </tr>\n",
       "    <tr>\n",
       "      <th>5</th>\n",
       "      <td>ID0006</td>\n",
       "      <td>3</td>\n",
       "      <td>0.238</td>\n",
       "      <td>False</td>\n",
       "      <td>1</td>\n",
       "    </tr>\n",
       "    <tr>\n",
       "      <th>6</th>\n",
       "      <td>ID0007</td>\n",
       "      <td>2</td>\n",
       "      <td>0.324</td>\n",
       "      <td>False</td>\n",
       "      <td>1</td>\n",
       "    </tr>\n",
       "    <tr>\n",
       "      <th>7</th>\n",
       "      <td>ID0008</td>\n",
       "      <td>4</td>\n",
       "      <td>0.298</td>\n",
       "      <td>True</td>\n",
       "      <td>1</td>\n",
       "    </tr>\n",
       "    <tr>\n",
       "      <th>8</th>\n",
       "      <td>ID0009</td>\n",
       "      <td>3</td>\n",
       "      <td>0.323</td>\n",
       "      <td>True</td>\n",
       "      <td>1</td>\n",
       "    </tr>\n",
       "  </tbody>\n",
       "</table>\n",
       "</div>"
      ],
      "text/plain": [
       "  Sample-ID  Attribute1  Attribute2  Attribute3  Class\n",
       "0    ID0001           3       0.123        True      0\n",
       "1    ID0002           4       0.098       False      0\n",
       "2    ID0003           2       0.123       False      0\n",
       "3    ID0004           6       0.111        True      0\n",
       "4    ID0005           4       0.221       False      0\n",
       "5    ID0006           3       0.238       False      1\n",
       "6    ID0007           2       0.324       False      1\n",
       "7    ID0008           4       0.298        True      1\n",
       "8    ID0009           3       0.323        True      1"
      ]
     },
     "execution_count": 14,
     "metadata": {},
     "output_type": "execute_result"
    }
   ],
   "source": [
    "# Remove a row\n",
    "df.drop(9, axis=\"rows\") # Returns manipulated table but does not overwrite df"
   ]
  },
  {
   "cell_type": "code",
   "execution_count": 15,
   "metadata": {},
   "outputs": [
    {
     "data": {
      "text/html": [
       "<div>\n",
       "<style scoped>\n",
       "    .dataframe tbody tr th:only-of-type {\n",
       "        vertical-align: middle;\n",
       "    }\n",
       "\n",
       "    .dataframe tbody tr th {\n",
       "        vertical-align: top;\n",
       "    }\n",
       "\n",
       "    .dataframe thead th {\n",
       "        text-align: right;\n",
       "    }\n",
       "</style>\n",
       "<table border=\"1\" class=\"dataframe\">\n",
       "  <thead>\n",
       "    <tr style=\"text-align: right;\">\n",
       "      <th></th>\n",
       "      <th>Sample-ID</th>\n",
       "      <th>Attribute1</th>\n",
       "      <th>Attribute3</th>\n",
       "      <th>Class</th>\n",
       "    </tr>\n",
       "  </thead>\n",
       "  <tbody>\n",
       "    <tr>\n",
       "      <th>0</th>\n",
       "      <td>ID0001</td>\n",
       "      <td>3</td>\n",
       "      <td>True</td>\n",
       "      <td>0</td>\n",
       "    </tr>\n",
       "    <tr>\n",
       "      <th>1</th>\n",
       "      <td>ID0002</td>\n",
       "      <td>4</td>\n",
       "      <td>False</td>\n",
       "      <td>0</td>\n",
       "    </tr>\n",
       "    <tr>\n",
       "      <th>2</th>\n",
       "      <td>ID0003</td>\n",
       "      <td>2</td>\n",
       "      <td>False</td>\n",
       "      <td>0</td>\n",
       "    </tr>\n",
       "    <tr>\n",
       "      <th>3</th>\n",
       "      <td>ID0004</td>\n",
       "      <td>6</td>\n",
       "      <td>True</td>\n",
       "      <td>0</td>\n",
       "    </tr>\n",
       "    <tr>\n",
       "      <th>4</th>\n",
       "      <td>ID0005</td>\n",
       "      <td>4</td>\n",
       "      <td>False</td>\n",
       "      <td>0</td>\n",
       "    </tr>\n",
       "    <tr>\n",
       "      <th>5</th>\n",
       "      <td>ID0006</td>\n",
       "      <td>3</td>\n",
       "      <td>False</td>\n",
       "      <td>1</td>\n",
       "    </tr>\n",
       "    <tr>\n",
       "      <th>6</th>\n",
       "      <td>ID0007</td>\n",
       "      <td>2</td>\n",
       "      <td>False</td>\n",
       "      <td>1</td>\n",
       "    </tr>\n",
       "    <tr>\n",
       "      <th>7</th>\n",
       "      <td>ID0008</td>\n",
       "      <td>4</td>\n",
       "      <td>True</td>\n",
       "      <td>1</td>\n",
       "    </tr>\n",
       "    <tr>\n",
       "      <th>8</th>\n",
       "      <td>ID0009</td>\n",
       "      <td>3</td>\n",
       "      <td>True</td>\n",
       "      <td>1</td>\n",
       "    </tr>\n",
       "    <tr>\n",
       "      <th>9</th>\n",
       "      <td>ID0010</td>\n",
       "      <td>2</td>\n",
       "      <td>True</td>\n",
       "      <td>1</td>\n",
       "    </tr>\n",
       "  </tbody>\n",
       "</table>\n",
       "</div>"
      ],
      "text/plain": [
       "  Sample-ID  Attribute1  Attribute3  Class\n",
       "0    ID0001           3        True      0\n",
       "1    ID0002           4       False      0\n",
       "2    ID0003           2       False      0\n",
       "3    ID0004           6        True      0\n",
       "4    ID0005           4       False      0\n",
       "5    ID0006           3       False      1\n",
       "6    ID0007           2       False      1\n",
       "7    ID0008           4        True      1\n",
       "8    ID0009           3        True      1\n",
       "9    ID0010           2        True      1"
      ]
     },
     "execution_count": 15,
     "metadata": {},
     "output_type": "execute_result"
    }
   ],
   "source": [
    "# Remove a column\n",
    "df.drop(\"Attribute2\", axis=\"columns\") # Alternatively, you can use axis=\"columns\" and axis=\"rows\""
   ]
  },
  {
   "cell_type": "code",
   "execution_count": 17,
   "metadata": {},
   "outputs": [
    {
     "data": {
      "text/html": [
       "<div>\n",
       "<style scoped>\n",
       "    .dataframe tbody tr th:only-of-type {\n",
       "        vertical-align: middle;\n",
       "    }\n",
       "\n",
       "    .dataframe tbody tr th {\n",
       "        vertical-align: top;\n",
       "    }\n",
       "\n",
       "    .dataframe thead th {\n",
       "        text-align: right;\n",
       "    }\n",
       "</style>\n",
       "<table border=\"1\" class=\"dataframe\">\n",
       "  <thead>\n",
       "    <tr style=\"text-align: right;\">\n",
       "      <th></th>\n",
       "      <th>Sample-ID</th>\n",
       "      <th>Attribute1</th>\n",
       "      <th>Attribute2</th>\n",
       "      <th>Attribute3</th>\n",
       "      <th>Class</th>\n",
       "    </tr>\n",
       "  </thead>\n",
       "  <tbody>\n",
       "    <tr>\n",
       "      <th>0</th>\n",
       "      <td>ID0001</td>\n",
       "      <td>0</td>\n",
       "      <td>0.123</td>\n",
       "      <td>True</td>\n",
       "      <td>0</td>\n",
       "    </tr>\n",
       "    <tr>\n",
       "      <th>1</th>\n",
       "      <td>ID0002</td>\n",
       "      <td>0</td>\n",
       "      <td>0.098</td>\n",
       "      <td>False</td>\n",
       "      <td>0</td>\n",
       "    </tr>\n",
       "    <tr>\n",
       "      <th>2</th>\n",
       "      <td>ID0003</td>\n",
       "      <td>0</td>\n",
       "      <td>0.123</td>\n",
       "      <td>False</td>\n",
       "      <td>0</td>\n",
       "    </tr>\n",
       "    <tr>\n",
       "      <th>3</th>\n",
       "      <td>ID0004</td>\n",
       "      <td>0</td>\n",
       "      <td>0.111</td>\n",
       "      <td>True</td>\n",
       "      <td>0</td>\n",
       "    </tr>\n",
       "    <tr>\n",
       "      <th>4</th>\n",
       "      <td>ID0005</td>\n",
       "      <td>0</td>\n",
       "      <td>0.221</td>\n",
       "      <td>False</td>\n",
       "      <td>0</td>\n",
       "    </tr>\n",
       "    <tr>\n",
       "      <th>5</th>\n",
       "      <td>ID0006</td>\n",
       "      <td>0</td>\n",
       "      <td>0.238</td>\n",
       "      <td>False</td>\n",
       "      <td>1</td>\n",
       "    </tr>\n",
       "    <tr>\n",
       "      <th>6</th>\n",
       "      <td>ID0007</td>\n",
       "      <td>0</td>\n",
       "      <td>0.324</td>\n",
       "      <td>False</td>\n",
       "      <td>1</td>\n",
       "    </tr>\n",
       "    <tr>\n",
       "      <th>7</th>\n",
       "      <td>ID0008</td>\n",
       "      <td>0</td>\n",
       "      <td>0.298</td>\n",
       "      <td>True</td>\n",
       "      <td>1</td>\n",
       "    </tr>\n",
       "    <tr>\n",
       "      <th>8</th>\n",
       "      <td>ID0009</td>\n",
       "      <td>0</td>\n",
       "      <td>0.323</td>\n",
       "      <td>True</td>\n",
       "      <td>1</td>\n",
       "    </tr>\n",
       "    <tr>\n",
       "      <th>9</th>\n",
       "      <td>ID0010</td>\n",
       "      <td>0</td>\n",
       "      <td>0.411</td>\n",
       "      <td>True</td>\n",
       "      <td>1</td>\n",
       "    </tr>\n",
       "  </tbody>\n",
       "</table>\n",
       "</div>"
      ],
      "text/plain": [
       "  Sample-ID  Attribute1  Attribute2  Attribute3  Class\n",
       "0    ID0001           0       0.123        True      0\n",
       "1    ID0002           0       0.098       False      0\n",
       "2    ID0003           0       0.123       False      0\n",
       "3    ID0004           0       0.111        True      0\n",
       "4    ID0005           0       0.221       False      0\n",
       "5    ID0006           0       0.238       False      1\n",
       "6    ID0007           0       0.324       False      1\n",
       "7    ID0008           0       0.298        True      1\n",
       "8    ID0009           0       0.323        True      1\n",
       "9    ID0010           0       0.411        True      1"
      ]
     },
     "execution_count": 17,
     "metadata": {},
     "output_type": "execute_result"
    }
   ],
   "source": [
    "# Overwrite a column\n",
    "df[\"Attribute1\"] = [0] * 10\n",
    "\n",
    "df"
   ]
  },
  {
   "cell_type": "code",
   "execution_count": 19,
   "metadata": {},
   "outputs": [
    {
     "name": "stdout",
     "output_type": "stream",
     "text": [
      "int64\n",
      "uint8\n"
     ]
    }
   ],
   "source": [
    "# Change data type of column\n",
    "print(df[\"Class\"].dtype)\n",
    "import numpy as np\n",
    "df[\"Class\"] = df[\"Class\"].astype(np.uint8)\n",
    "\n",
    "print(df[\"Class\"].dtype)"
   ]
  },
  {
   "cell_type": "markdown",
   "metadata": {},
   "source": [
    "### Additional functionalities"
   ]
  },
  {
   "cell_type": "code",
   "execution_count": 23,
   "metadata": {},
   "outputs": [
    {
     "data": {
      "text/html": [
       "<div>\n",
       "<style scoped>\n",
       "    .dataframe tbody tr th:only-of-type {\n",
       "        vertical-align: middle;\n",
       "    }\n",
       "\n",
       "    .dataframe tbody tr th {\n",
       "        vertical-align: top;\n",
       "    }\n",
       "\n",
       "    .dataframe thead th {\n",
       "        text-align: right;\n",
       "    }\n",
       "</style>\n",
       "<table border=\"1\" class=\"dataframe\">\n",
       "  <thead>\n",
       "    <tr style=\"text-align: right;\">\n",
       "      <th></th>\n",
       "      <th>Attribute1</th>\n",
       "      <th>Attribute2</th>\n",
       "      <th>Attribute3</th>\n",
       "    </tr>\n",
       "  </thead>\n",
       "  <tbody>\n",
       "    <tr>\n",
       "      <th>0</th>\n",
       "      <td>0</td>\n",
       "      <td>0.123</td>\n",
       "      <td>True</td>\n",
       "    </tr>\n",
       "    <tr>\n",
       "      <th>0</th>\n",
       "      <td>0</td>\n",
       "      <td>0.098</td>\n",
       "      <td>False</td>\n",
       "    </tr>\n",
       "    <tr>\n",
       "      <th>0</th>\n",
       "      <td>0</td>\n",
       "      <td>0.123</td>\n",
       "      <td>False</td>\n",
       "    </tr>\n",
       "    <tr>\n",
       "      <th>0</th>\n",
       "      <td>0</td>\n",
       "      <td>0.111</td>\n",
       "      <td>True</td>\n",
       "    </tr>\n",
       "    <tr>\n",
       "      <th>0</th>\n",
       "      <td>0</td>\n",
       "      <td>0.221</td>\n",
       "      <td>False</td>\n",
       "    </tr>\n",
       "    <tr>\n",
       "      <th>0</th>\n",
       "      <td>0</td>\n",
       "      <td>0.238</td>\n",
       "      <td>False</td>\n",
       "    </tr>\n",
       "    <tr>\n",
       "      <th>0</th>\n",
       "      <td>0</td>\n",
       "      <td>0.324</td>\n",
       "      <td>False</td>\n",
       "    </tr>\n",
       "    <tr>\n",
       "      <th>0</th>\n",
       "      <td>0</td>\n",
       "      <td>0.298</td>\n",
       "      <td>True</td>\n",
       "    </tr>\n",
       "    <tr>\n",
       "      <th>0</th>\n",
       "      <td>0</td>\n",
       "      <td>0.323</td>\n",
       "      <td>True</td>\n",
       "    </tr>\n",
       "    <tr>\n",
       "      <th>0</th>\n",
       "      <td>0</td>\n",
       "      <td>0.411</td>\n",
       "      <td>True</td>\n",
       "    </tr>\n",
       "  </tbody>\n",
       "</table>\n",
       "</div>"
      ],
      "text/plain": [
       "   Attribute1  Attribute2  Attribute3\n",
       "0           0       0.123        True\n",
       "0           0       0.098       False\n",
       "0           0       0.123       False\n",
       "0           0       0.111        True\n",
       "0           0       0.221       False\n",
       "0           0       0.238       False\n",
       "0           0       0.324       False\n",
       "0           0       0.298        True\n",
       "0           0       0.323        True\n",
       "0           0       0.411        True"
      ]
     },
     "execution_count": 23,
     "metadata": {},
     "output_type": "execute_result"
    }
   ],
   "source": [
    "# Setting an index column\n",
    "df = df.set_index(\"Sample-ID\")\n",
    "\n",
    "df"
   ]
  },
  {
   "cell_type": "code",
   "execution_count": 19,
   "metadata": {},
   "outputs": [
    {
     "data": {
      "text/html": [
       "<div>\n",
       "<style scoped>\n",
       "    .dataframe tbody tr th:only-of-type {\n",
       "        vertical-align: middle;\n",
       "    }\n",
       "\n",
       "    .dataframe tbody tr th {\n",
       "        vertical-align: top;\n",
       "    }\n",
       "\n",
       "    .dataframe thead th {\n",
       "        text-align: right;\n",
       "    }\n",
       "</style>\n",
       "<table border=\"1\" class=\"dataframe\">\n",
       "  <thead>\n",
       "    <tr style=\"text-align: right;\">\n",
       "      <th></th>\n",
       "      <th>Attribute</th>\n",
       "    </tr>\n",
       "  </thead>\n",
       "  <tbody>\n",
       "    <tr>\n",
       "      <th>0</th>\n",
       "      <td>0</td>\n",
       "    </tr>\n",
       "    <tr>\n",
       "      <th>1</th>\n",
       "      <td>1</td>\n",
       "    </tr>\n",
       "    <tr>\n",
       "      <th>1</th>\n",
       "      <td>2</td>\n",
       "    </tr>\n",
       "    <tr>\n",
       "      <th>1</th>\n",
       "      <td>3</td>\n",
       "    </tr>\n",
       "  </tbody>\n",
       "</table>\n",
       "</div>"
      ],
      "text/plain": [
       "   Attribute\n",
       "0          0\n",
       "1          1\n",
       "1          2\n",
       "1          3"
      ]
     },
     "execution_count": 19,
     "metadata": {},
     "output_type": "execute_result"
    }
   ],
   "source": [
    "# Indices are not necessarily unqiue\n",
    "invalid_df = pd.DataFrame({\"Attribute\": [0, 1, 2, 3]}, index=[0, 1, 1, 1])\n",
    "\n",
    "invalid_df"
   ]
  }
 ],
 "metadata": {
  "kernelspec": {
   "display_name": "Python 3",
   "language": "python",
   "name": "python3"
  },
  "language_info": {
   "codemirror_mode": {
    "name": "ipython",
    "version": 3
   },
   "file_extension": ".py",
   "mimetype": "text/x-python",
   "name": "python",
   "nbconvert_exporter": "python",
   "pygments_lexer": "ipython3",
   "version": "3.9.4"
  }
 },
 "nbformat": 4,
 "nbformat_minor": 4
}
