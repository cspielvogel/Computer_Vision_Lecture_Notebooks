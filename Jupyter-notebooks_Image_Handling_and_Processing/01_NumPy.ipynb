{
 "cells": [
  {
   "cell_type": "markdown",
   "metadata": {},
   "source": [
    "## NumPy Basics\n",
    "   #### Computer Vision Winter Semester 2020/2021 by Clemens Spielvogel\n",
    "    \n",
    "   NumPy is an open-source library for handling arrays with an arbitrary number of dimensions. It is commonly used in scientific computing and is used by most scientific python libraries. \n",
    "    \n",
    "Why using NumPy arrays over python lists:\n",
    "   * Memory efficiency\n",
    "   * Speed\n",
    "   * Offer additional functionalities\n",
    "   \n",
    "Installation (Ubuntu)\n",
    "   * $ pip install numpy\n",
    "   \n",
    "Resources:\n",
    "   * NumPy documentation: https://docs.scipy.org/doc/numpy-1.16.0/index.html\n",
    "   * NumPy cheat sheet: https://s3.amazonaws.com/assets.datacamp.com/blog_assets/Numpy_Python_Cheat_Sheet.pdf"
   ]
  },
  {
   "cell_type": "markdown",
   "metadata": {},
   "source": [
    "### Importing"
   ]
  },
  {
   "cell_type": "code",
   "execution_count": 1,
   "metadata": {},
   "outputs": [
    {
     "name": "stdout",
     "output_type": "stream",
     "text": [
      "1.18.5\n"
     ]
    }
   ],
   "source": [
    "# Importing the library, usually as the alias np\n",
    "import numpy as np\n",
    "\n",
    "# Output the modules version\n",
    "print(np.__version__)"
   ]
  },
  {
   "cell_type": "markdown",
   "metadata": {},
   "source": [
    "### Creating NumPy arrays"
   ]
  },
  {
   "cell_type": "code",
   "execution_count": 2,
   "metadata": {},
   "outputs": [
    {
     "name": "stdout",
     "output_type": "stream",
     "text": [
      "[1 2 3]\n"
     ]
    }
   ],
   "source": [
    "# Creating a numpy array\n",
    "array = np.array([1, 2, 3])\n",
    "\n",
    "print(array)"
   ]
  },
  {
   "cell_type": "code",
   "execution_count": 3,
   "metadata": {},
   "outputs": [
    {
     "name": "stdout",
     "output_type": "stream",
     "text": [
      "2D:\n",
      " [[1 2 3]\n",
      " [4 5 6]]\n",
      "3D:\n",
      " [[[1]\n",
      "  [2]]\n",
      "\n",
      " [[3]\n",
      "  [4]]\n",
      "\n",
      " [[5]\n",
      "  [6]]]\n"
     ]
    }
   ],
   "source": [
    "# Numpy arrays can have an arbitrary number of dimensions\n",
    "array2d = np.array([[1, 2, 3], [4, 5, 6]])\n",
    "\n",
    "array3d = np.array([\n",
    "    [[1], [2]],\n",
    "    [[3], [4]],\n",
    "    [[5], [6]]])\n",
    "\n",
    "print(\"2D:\\n\", array2d)\n",
    "print(\"3D:\\n\", array3d)"
   ]
  },
  {
   "cell_type": "code",
   "execution_count": 4,
   "metadata": {},
   "outputs": [
    {
     "name": "stdout",
     "output_type": "stream",
     "text": [
      ".ndim\n",
      "1\n",
      "2\n",
      "3 \n",
      "\n",
      ".shape\n",
      "(3,)\n",
      "(2, 3)\n",
      "(3, 2, 1) \n",
      "\n",
      "len()\n",
      "3\n",
      "2\n",
      "3 \n",
      "\n"
     ]
    }
   ],
   "source": [
    "# Retrieving number of dimensions\n",
    "print(\".ndim\")\n",
    "print(array.ndim)\n",
    "print(array2d.ndim)\n",
    "print(array3d.ndim, \"\\n\")\n",
    "\n",
    "# Retrieving number of elements per dimension\n",
    "print(\".shape\")\n",
    "print(array.shape)\n",
    "print(array2d.shape)\n",
    "print(array3d.shape, \"\\n\")\n",
    "\n",
    "# Len() can be used but only shows the outermost number of elements\n",
    "print(\"len()\")\n",
    "print(len(array))\n",
    "print(len(array2d))\n",
    "print(len(array3d), \"\\n\")"
   ]
  },
  {
   "cell_type": "code",
   "execution_count": 5,
   "metadata": {},
   "outputs": [
    {
     "name": "stdout",
     "output_type": "stream",
     "text": [
      "<class 'list'>\n",
      "<class 'numpy.ndarray'>\n",
      "Array cast from list: [4 5 6]\n",
      "Array initialized with zeros:\n",
      " [[0. 0.]\n",
      " [0. 0.]]\n",
      "Array initialized with ones:\n",
      " [[1. 1.]\n",
      " [1. 1.]]\n",
      "Array initialized with random values:\n",
      " [[0.38180336 0.54771891]\n",
      " [0.68811085 0.26459297]]\n"
     ]
    }
   ],
   "source": [
    "# Creating arrays can be done in several ways\n",
    "\n",
    "# Casting from lists (also works for nested lists)\n",
    "python_list = [4, 5, 6]\n",
    "python_array = np.array(python_list)\n",
    "\n",
    "print(type(python_list))\n",
    "print(type(python_array))\n",
    "print(\"Array cast from list:\", python_array)\n",
    "\n",
    "# Initializing with zeros or ones\n",
    "zero_array = np.zeros((2, 2))\n",
    "ones_array = np.ones((2, 2))\n",
    "\n",
    "print(\"Array initialized with zeros:\\n\", zero_array)\n",
    "print(\"Array initialized with ones:\\n\", ones_array)\n",
    "\n",
    "# Initializing array with random numbers\n",
    "random_array = np.random.random((2, 2))\n",
    "\n",
    "print(\"Array initialized with random values:\\n\", random_array)"
   ]
  },
  {
   "cell_type": "code",
   "execution_count": 6,
   "metadata": {},
   "outputs": [
    {
     "name": "stdout",
     "output_type": "stream",
     "text": [
      "Lower right empty:\n",
      " [list([1, 2, 3]) list([4, 5])]\n",
      "Lower right filled:\n",
      " [[ 1.  2.  3.]\n",
      " [ 4.  5. nan]]\n",
      "Lower right filled:\n",
      " [[1 2 3]\n",
      " [4 5 0]]\n"
     ]
    }
   ],
   "source": [
    "# All (sub-) arrays along an axis must have the same length, otherwise they will be converted to lists\n",
    "nested_list = np.array([[1,2,3], [4,5]])\n",
    "print(\"Lower right empty:\\n\", nested_list)\n",
    "\n",
    "array = np.array([[1, 2, 3], [4, 5, np.nan]])\n",
    "print(\"Lower right filled:\\n\", array)\n",
    "\n",
    "array = np.array([[1, 2, 3], [4, 5, 0]])\n",
    "print(\"Lower right filled:\\n\", array)"
   ]
  },
  {
   "cell_type": "markdown",
   "metadata": {},
   "source": [
    "### Input / Output"
   ]
  },
  {
   "cell_type": "code",
   "execution_count": 7,
   "metadata": {},
   "outputs": [
    {
     "name": "stdout",
     "output_type": "stream",
     "text": [
      "Saved 'array.npy': True\n",
      "[[1 2 3]\n",
      " [4 5 0]]\n"
     ]
    }
   ],
   "source": [
    "# Saving array to disk in NPY (.npy) format\n",
    "np.save(\"array\", array)\n",
    "\n",
    "# Validating storage\n",
    "import os\n",
    "print(\"Saved 'array.npy':\", \"array.npy\" in os.listdir())\n",
    "\n",
    "# Loading array\n",
    "array_loaded = np.load(\"array.npy\")\n",
    "print(array_loaded)\n",
    "\n",
    "# Remove array from disk\n",
    "os.remove(\"array.npy\")"
   ]
  },
  {
   "cell_type": "markdown",
   "metadata": {},
   "source": [
    "### Indexing"
   ]
  },
  {
   "cell_type": "code",
   "execution_count": 8,
   "metadata": {},
   "outputs": [
    {
     "name": "stdout",
     "output_type": "stream",
     "text": [
      "Original: [[1 2 3]\n",
      " [4 5 0]]\n",
      "First element: [1 2 3]\n",
      "Last element: [4 5 0]\n",
      "Array without first element: [[4 5 0]]\n"
     ]
    }
   ],
   "source": [
    "# Indexing is similar to python list indexing\n",
    "first_element = array[0]\n",
    "last_element = array[-1]\n",
    "array_without_first_element = array[1:]\n",
    "\n",
    "print(\"Original:\", array)\n",
    "print(\"First element:\", first_element)\n",
    "print(\"Last element:\", last_element)\n",
    "print(\"Array without first element:\", array_without_first_element)"
   ]
  },
  {
   "cell_type": "code",
   "execution_count": 9,
   "metadata": {},
   "outputs": [
    {
     "name": "stdout",
     "output_type": "stream",
     "text": [
      "Original:\n",
      " [[1 2 3]\n",
      " [4 5 6]]\n",
      "Upper right element: 3\n",
      "Lower left element: 4\n"
     ]
    }
   ],
   "source": [
    "# Same works for multi dimensional arrays\n",
    "upper_right_element = array2d[0][-1]\n",
    "lower_left_element = array2d[-1][0]\n",
    "\n",
    "print(\"Original:\\n\", array2d)\n",
    "print(\"Upper right element:\", upper_right_element)\n",
    "print(\"Lower left element:\", lower_left_element)"
   ]
  },
  {
   "cell_type": "code",
   "execution_count": 10,
   "metadata": {},
   "outputs": [
    {
     "name": "stdout",
     "output_type": "stream",
     "text": [
      "[1 2 3]\n",
      "[1 4 3]\n",
      "[[1 2 3]\n",
      " [4 5 0]]\n",
      "[[10 10 10]\n",
      " [ 4  5  0]]\n"
     ]
    }
   ],
   "source": [
    "# Elements in arrays can be exchanged by indexing\n",
    "array1d = np.array([1, 2, 3])\n",
    "print(array1d)\n",
    "array1d[1] = 4\n",
    "print(array1d)\n",
    "\n",
    "# If several elements are contained at indexed position, all are exchanged\n",
    "print(array)\n",
    "array[0] = 10\n",
    "print(array)"
   ]
  },
  {
   "cell_type": "code",
   "execution_count": 11,
   "metadata": {},
   "outputs": [
    {
     "name": "stdout",
     "output_type": "stream",
     "text": [
      "Original:\n",
      " [[0.1 0.  0.  0.  0.3]\n",
      " [0.  0.1 0.  0.9 0.7]]\n",
      "Mask:\n",
      " [[ True False False False  True]\n",
      " [False  True False  True  True]]\n",
      "Mask applied to original:\n",
      " [0.1 0.3 0.1 0.9 0.7]\n"
     ]
    }
   ],
   "source": [
    "# Boolean masking\n",
    "array = np.array([[0.1, 0, 0, 0, 0.3], [0, 0.1, 0, 0.9, 0.7]])\n",
    "mask = (array > 0)\n",
    "\n",
    "print(\"Original:\\n\", array)\n",
    "print(\"Mask:\\n\", mask)\n",
    "print(\"Mask applied to original:\\n\", array[mask])"
   ]
  },
  {
   "cell_type": "markdown",
   "metadata": {},
   "source": [
    "### Datatypes"
   ]
  },
  {
   "cell_type": "code",
   "execution_count": 12,
   "metadata": {},
   "outputs": [
    {
     "name": "stdout",
     "output_type": "stream",
     "text": [
      "Default : int64\n",
      "Default: float64\n",
      "Forced at initialization: float16\n",
      "Forced after initialization: float32\n"
     ]
    }
   ],
   "source": [
    "# Use default datatype\n",
    "array = np.array([1, 2, 3])\n",
    "print(\"Default :\", array.dtype)\n",
    "\n",
    "array = np.array([1.0, 2.0, 3.0])\n",
    "print(\"Default:\", array.dtype)\n",
    "\n",
    "# Specify a particular datatype on initialization\n",
    "array = np.array([1, 2, 3], dtype=np.float16) # Alternatively, you can use dtype=\"float16\"\n",
    "print(\"Forced at initialization:\", array.dtype)\n",
    "\n",
    "# Specify a particular datatype after initialization\n",
    "array = array.astype(np.float32)\n",
    "print(\"Forced after initialization:\", array.dtype)"
   ]
  },
  {
   "cell_type": "markdown",
   "metadata": {},
   "source": [
    "### Array Math"
   ]
  },
  {
   "cell_type": "code",
   "execution_count": 13,
   "metadata": {},
   "outputs": [
    {
     "name": "stdout",
     "output_type": "stream",
     "text": [
      "Array 1: [1 2 3 4]\n",
      "Array 2: [5 6 7 8]\n",
      "Added: [ 6  8 10 12]\n",
      "Multiplied: [ 5 12 21 32]\n",
      "Matrix multiplied: 70\n",
      "Square root of array 1: [1.         1.41421356 1.73205081 2.        ]\n",
      "Array 1 with exponent 3: [ 1  8 27 64]\n"
     ]
    }
   ],
   "source": [
    "# Arithmetic\n",
    "\n",
    "array1 = np.array([1,2,3,4])\n",
    "array2 = np.array([5,6,7,8])\n",
    "\n",
    "print(\"Array 1:\", array1)\n",
    "print(\"Array 2:\", array2)\n",
    "\n",
    "# Elementwise addition (subtraction, division, multiplication with -, /, * respectively)\n",
    "addition = array1 + array2\n",
    "print(\"Added:\", addition)\n",
    "\n",
    "# Elementwise multiplication\n",
    "multiplication = array1 * array2\n",
    "print(\"Multiplied:\", multiplication)\n",
    "\n",
    "# Matrix multiplication\n",
    "matrix_mul = array1.dot(array2)\n",
    "print(\"Matrix multiplied:\", matrix_mul)\n",
    "\n",
    "# Square root\n",
    "array1_sqrt = np.sqrt(array1)\n",
    "print(\"Square root of array 1:\", array1_sqrt)\n",
    "\n",
    "# Exponentials\n",
    "array1_exp = np.power(array1, 3)\n",
    "print(\"Array 1 with exponent 3:\", array1_exp)"
   ]
  },
  {
   "cell_type": "code",
   "execution_count": 14,
   "metadata": {},
   "outputs": [
    {
     "name": "stdout",
     "output_type": "stream",
     "text": [
      "Original:\n",
      " [[1 2 3]\n",
      " [4 5 6]]\n",
      "Transposed:\n",
      " [[1 4]\n",
      " [2 5]\n",
      " [3 6]]\n",
      "Flattened: [1 2 3 4 5 6]\n",
      "Reshaped:\n",
      " [[1 2]\n",
      " [3 4]\n",
      " [5 6]]\n"
     ]
    }
   ],
   "source": [
    "# Manipulation\n",
    "\n",
    "array = np.array([[1,2,3], [4,5,6]])\n",
    "print(\"Original:\\n\", array)\n",
    "\n",
    "# Transposition\n",
    "transposed = np.transpose(array)\n",
    "print(\"Transposed:\\n\", transposed)\n",
    "\n",
    "# Flatten array\n",
    "flat = np.ravel(array)\n",
    "print(\"Flattened:\", flat)\n",
    "\n",
    "# Reshaping array\n",
    "reshaped = np.reshape(array, (3,2))\n",
    "print(\"Reshaped:\\n\", reshaped)"
   ]
  },
  {
   "cell_type": "markdown",
   "metadata": {},
   "source": [
    "### Other useful functionalities"
   ]
  },
  {
   "cell_type": "code",
   "execution_count": 15,
   "metadata": {},
   "outputs": [
    {
     "name": "stdout",
     "output_type": "stream",
     "text": [
      "Original:\n",
      " [[1 2 3]\n",
      " [4 5 6]]\n",
      "Unique elements: [1 2 3 4 5 6]\n",
      "Counts as two arrays:  (array([1, 2, 3, 4, 5, 6]), array([1, 1, 1, 1, 1, 1]))\n",
      "Counts as dictionary: {1: 1, 2: 1, 3: 1, 4: 1, 5: 1, 6: 1}\n"
     ]
    }
   ],
   "source": [
    "# Retrieving unique elements\n",
    "uniques = np.unique(array)\n",
    "\n",
    "print(\"Original:\\n\", array)\n",
    "print(\"Unique elements:\", uniques)\n",
    "\n",
    "# Counting unique elements\n",
    "counts = np.unique(array, return_counts=True)\n",
    "counts_dict = dict(zip(counts[0], counts[1]))\n",
    "\n",
    "print(\"Counts as two arrays: \", counts)\n",
    "print(\"Counts as dictionary:\", counts_dict)"
   ]
  },
  {
   "cell_type": "code",
   "execution_count": 16,
   "metadata": {},
   "outputs": [
    {
     "name": "stdout",
     "output_type": "stream",
     "text": [
      "[ 1.1  5.6 10. ]\n"
     ]
    }
   ],
   "source": [
    "# Rounding elements\n",
    "array = np.array([1.11, 5.55, 9.99])\n",
    "array_rounded = np.round(array, 1)\n",
    "\n",
    "print(array_rounded)"
   ]
  },
  {
   "cell_type": "code",
   "execution_count": 17,
   "metadata": {},
   "outputs": [
    {
     "name": "stdout",
     "output_type": "stream",
     "text": [
      "Original: [1.11 5.55 9.99]\n",
      "Sum 16.65\n",
      "Mean: 5.55\n",
      "Min: 1.11\n",
      "Max: 9.99\n"
     ]
    }
   ],
   "source": [
    "print(\"Original:\", array)\n",
    "\n",
    "# Sum\n",
    "print(\"Sum\", array.sum())\n",
    "\n",
    "# Arithmetic mean\n",
    "print(\"Mean:\", array.mean())\n",
    "\n",
    "# Min / Max\n",
    "print(\"Min:\", array.min())\n",
    "print(\"Max:\", array.max())"
   ]
  },
  {
   "cell_type": "code",
   "execution_count": 18,
   "metadata": {},
   "outputs": [
    {
     "name": "stdout",
     "output_type": "stream",
     "text": [
      "[[1 4]\n",
      " [2 5]\n",
      " [3 6]]\n"
     ]
    }
   ],
   "source": [
    "# Stacking arrays\n",
    "array1 = np.array([1, 2, 3])\n",
    "array2 = np.array([4, 5, 6])\n",
    "\n",
    "stacked = np.stack([array1, array2], axis=1)\n",
    "\n",
    "print(stacked)"
   ]
  }
 ],
 "metadata": {
  "kernelspec": {
   "display_name": "Python 3",
   "language": "python",
   "name": "python3"
  },
  "language_info": {
   "codemirror_mode": {
    "name": "ipython",
    "version": 3
   },
   "file_extension": ".py",
   "mimetype": "text/x-python",
   "name": "python",
   "nbconvert_exporter": "python",
   "pygments_lexer": "ipython3",
   "version": "3.6.8"
  }
 },
 "nbformat": 4,
 "nbformat_minor": 2
}
