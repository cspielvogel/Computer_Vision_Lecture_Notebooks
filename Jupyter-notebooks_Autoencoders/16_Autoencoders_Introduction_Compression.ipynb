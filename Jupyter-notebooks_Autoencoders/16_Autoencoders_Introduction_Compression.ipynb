{
 "cells": [
  {
   "cell_type": "markdown",
   "metadata": {},
   "source": [
    "## Autoencoder Introduction\n",
    "   #### Computer Vision Winter Semester 2020/2021 by Clemens Spielvogel\n",
    "   \n",
    "Autoencoders are a type of neural network used for efficient encoding of information in an abstract representation. This procedure is somewhat similar to classical dimensionality. Autoencoders can be fully connected or fully convolutional. In computer vision, they can be used for tasks such as image compression, image denoising, feature extraction, semantic segmentation and the filling of missing information in an image (neural painting)."
   ]
  },
  {
   "cell_type": "markdown",
   "metadata": {},
   "source": [
    "### Dense Autoencoders\n",
    "\n",
    "I the following you will see an example of a fully connected (=dense) autoencoder used for image compression. In this process, an image is fed through the autoencoder network to reconstruct the input image. During this process the autoencoder is forced to find an optimal representation of the original image input which fits into a number of values equal to the number of nodes in the bottleneck layer. "
   ]
  },
  {
   "cell_type": "code",
   "execution_count": 1,
   "metadata": {},
   "outputs": [
    {
     "name": "stderr",
     "output_type": "stream",
     "text": [
      "Using TensorFlow backend.\n"
     ]
    }
   ],
   "source": [
    "import numpy as np\n",
    "import keras\n",
    "from keras import Sequential, Model, layers\n",
    "from keras.datasets import mnist\n",
    "import tensorflow as tf\n",
    "import os\n",
    "import matplotlib.pyplot as plt\n",
    "import math"
   ]
  },
  {
   "cell_type": "code",
   "execution_count": 2,
   "metadata": {},
   "outputs": [],
   "source": [
    "# Seeding random number generators to obtain reproducible results\n",
    "seed_value = 0\n",
    "os.environ['PYTHONHASHSEED']=str(seed_value)\n",
    "np.random.seed(seed_value)\n",
    "tf.random.set_seed(seed_value)"
   ]
  },
  {
   "cell_type": "code",
   "execution_count": 3,
   "metadata": {},
   "outputs": [],
   "source": [
    "def plot(test, encoded_representation, pred):\n",
    "    \"\"\"Plot three corresponding original, encoded and reconstructed images\"\"\"\n",
    "    fig, ax = plt.subplots(3, 3)\n",
    "    \n",
    "    # Plotting parameters set to not show ticks and tick labels\n",
    "    params = {\"bottom\": False,\n",
    "              \"left\": False,\n",
    "              \"labelbottom\": False,\n",
    "              \"labelleft\": False}\n",
    "\n",
    "    ax[0, 0].title.set_text(\"Original\")\n",
    "    ax[0, 1].title.set_text(\"Encoding\")\n",
    "    ax[0, 2].title.set_text(\"Predicted\")\n",
    "\n",
    "    ax[0, 0].imshow(test[0])\n",
    "    ax[0, 0].tick_params(**params)\n",
    "    ax[0, 1].imshow(encoded_representation[0])\n",
    "    ax[0, 1].tick_params(**params)\n",
    "    ax[0, 2].imshow(pred[0])\n",
    "    ax[0, 2].tick_params(**params)\n",
    "\n",
    "    ax[1, 0].imshow(test[1])\n",
    "    ax[1, 0].tick_params(**params)\n",
    "    ax[1, 1].imshow(encoded_representation[1])\n",
    "    ax[1, 1].tick_params(**params)\n",
    "    ax[1, 2].imshow(pred[1])\n",
    "    ax[1, 2].tick_params(**params)\n",
    "\n",
    "    ax[2, 0].imshow(test[2])\n",
    "    ax[2, 0].tick_params(**params)\n",
    "    ax[2, 1].imshow(encoded_representation[2])\n",
    "    ax[2, 1].tick_params(**params)\n",
    "    ax[2, 2].imshow(pred[2])\n",
    "    ax[2, 2].tick_params(**params)\n",
    "\n",
    "    plt.tight_layout()\n",
    "    plt.show()"
   ]
  },
  {
   "cell_type": "markdown",
   "metadata": {},
   "source": [
    "In the following you will see a very simple dense autoencoder which has an input layer, an output layer and one hidden layer, which is the bottleneck layer. As the process can be regarded as a pixelwise regression, we use mean squared error as loss metric. In addition to the autoencoder model, the function also returns the encoder model. This encoder model will later be used for displaying the compressed representation of the original image which the autoencoder came up with."
   ]
  },
  {
   "cell_type": "code",
   "execution_count": 4,
   "metadata": {},
   "outputs": [],
   "source": [
    "def create_autoencoder_model(input_shape, num_bottleneck_nodes):\n",
    "    \"\"\"Create autoencoder model. Returns autoencoder model and encoder model as tuple\"\"\"\n",
    "\n",
    "    input_img = layers.Input(shape=input_shape)\n",
    "\n",
    "    encoder = layers.Dense(num_bottleneck_nodes, activation=\"relu\")(input_img)\n",
    "    encoder_model = Model(input_img, encoder)\n",
    "\n",
    "    decoder = layers.Dense(input_shape[0], activation=\"sigmoid\")(encoder)\n",
    "    autoencoder_model = Model(input_img, decoder)\n",
    "\n",
    "    autoencoder_model.compile(optimizer=keras.optimizers.Adam(), loss=\"mse\")\n",
    "\n",
    "    return autoencoder_model, encoder_model"
   ]
  },
  {
   "cell_type": "markdown",
   "metadata": {},
   "source": [
    "In the following function the workflow for the autoencoder analysis is conducted. Hyperparameters can be supplied as function arguments, in this case the number of nodes in the bottleneck layer and the number of epochs. Subsequently, the data is loaded, normalized and flattened out to be fit into the input nodes of the neural network. The model is trained and predictions are made. As we do not use the validation performance for fruther tuning, the validation performance can be regarded as test performance.  \n",
    "Lastlt, a plot is generated to display the results of the analysis and give a picture of how the autoencoder compressed the image information."
   ]
  },
  {
   "cell_type": "code",
   "execution_count": 5,
   "metadata": {},
   "outputs": [],
   "source": [
    "def autoencoder_workflow(num_bottleneck_nodes, num_epochs):\n",
    "    \"\"\"Auoencoder based reconstruction workflow for MNIST data\"\"\"\n",
    "\n",
    "    # Load data\n",
    "    (train, _), (test, _) = mnist.load_data()   # Get training and test MNIST images\n",
    "\n",
    "    # Get original shape\n",
    "    original_dims = train[0].shape\n",
    "\n",
    "    # Normalize and reshape\n",
    "    train = (train.astype(np.float32) / 255).reshape((len(train), np.prod(train.shape[1:])))\n",
    "    test = (test.astype(np.float32) / 255).reshape((len(test), np.prod(test.shape[1:])))\n",
    "\n",
    "    # Get sample dimensions\n",
    "    dims = train[0].shape\n",
    "\n",
    "    # Create model\n",
    "    model, encoder = create_autoencoder_model(dims, num_bottleneck_nodes)\n",
    "\n",
    "    # Stopping criterion via early stopping\n",
    "    callback = tf.keras.callbacks.EarlyStopping(monitor=\"loss\", patience=4)\n",
    "\n",
    "    # Train model\n",
    "    model.fit(train,\n",
    "              train,\n",
    "              epochs=num_epochs,\n",
    "              validation_data=(test, test),\n",
    "              verbose=True,\n",
    "              callbacks=[callback])\n",
    "\n",
    "    # Predict encoded representation\n",
    "    encoded_representation = encoder.predict(test)\n",
    "\n",
    "    # Predict reconstructed image\n",
    "    pred = model.predict(test)\n",
    "\n",
    "    # Determine suiting plotting shape for encoded representation\n",
    "    if num_bottleneck_nodes % math.sqrt(num_bottleneck_nodes) == 0:\n",
    "        reshape_dim1, reshape_dim2 = np.int16(math.sqrt(num_bottleneck_nodes)), np.int16(math.sqrt(num_bottleneck_nodes))\n",
    "    elif num_bottleneck_nodes % 2 == 0:\n",
    "        reshape_dim1, reshape_dim2 = np.int16(num_bottleneck_nodes / 2), 2\n",
    "    else:\n",
    "        reshape_dim1, reshape_dim2 = 1, num_bottleneck_nodes\n",
    "\n",
    "    # Display results\n",
    "    plot(test.reshape(len(test), original_dims[0], original_dims[1]),\n",
    "         encoded_representation.reshape(len(test), reshape_dim1, reshape_dim2),\n",
    "         pred.reshape(len(test), original_dims[0], original_dims[1]))"
   ]
  },
  {
   "cell_type": "markdown",
   "metadata": {},
   "source": [
    "Next, we will run the autoencoder workflow with different numbers of nodes in the bottleneck layer. Notice the decrease in quality of the reconstructed images. The encoding you find between the original and predicted image represents the way the image was represented at the bottleneck layer.\n",
    "Feel free to increase the number of epochs if the code runs sufficiently fast on your computer as the performance might further increase."
   ]
  },
  {
   "cell_type": "code",
   "execution_count": 6,
   "metadata": {},
   "outputs": [],
   "source": [
    "# Set epochs\n",
    "num_epochs = 10"
   ]
  },
  {
   "cell_type": "code",
   "execution_count": 7,
   "metadata": {},
   "outputs": [
    {
     "name": "stdout",
     "output_type": "stream",
     "text": [
      "Train on 60000 samples, validate on 10000 samples\n",
      "Epoch 1/10\n",
      "60000/60000 [==============================] - 7s 121us/step - loss: 0.0088 - val_loss: 0.0023\n",
      "Epoch 2/10\n",
      "60000/60000 [==============================] - 7s 113us/step - loss: 0.0019 - val_loss: 0.0015\n",
      "Epoch 3/10\n",
      "60000/60000 [==============================] - 7s 112us/step - loss: 0.0013 - val_loss: 0.0012\n",
      "Epoch 4/10\n",
      "60000/60000 [==============================] - 7s 113us/step - loss: 0.0011 - val_loss: 0.0011\n",
      "Epoch 5/10\n",
      "60000/60000 [==============================] - 7s 112us/step - loss: 0.0010 - val_loss: 0.0010\n",
      "Epoch 6/10\n",
      "60000/60000 [==============================] - 7s 112us/step - loss: 9.4278e-04 - val_loss: 9.1858e-04\n",
      "Epoch 7/10\n",
      "60000/60000 [==============================] - 7s 112us/step - loss: 8.9388e-04 - val_loss: 9.1888e-04\n",
      "Epoch 8/10\n",
      "60000/60000 [==============================] - 7s 113us/step - loss: 8.6096e-04 - val_loss: 8.6791e-04\n",
      "Epoch 9/10\n",
      "60000/60000 [==============================] - 7s 112us/step - loss: 8.3649e-04 - val_loss: 8.7068e-04\n",
      "Epoch 10/10\n",
      "60000/60000 [==============================] - 7s 112us/step - loss: 8.2176e-04 - val_loss: 8.4481e-04\n"
     ]
    },
    {
     "data": {
      "image/png": "[encoded data removed]",
      "text/plain": [
       "<Figure size 432x288 with 9 Axes>"
      ]
     },
     "metadata": {},
     "output_type": "display_data"
    }
   ],
   "source": [
    "# Autoencoder with same number of bottleneck nodes as input image: 784\n",
    "autoencoder_workflow(784, num_epochs)"
   ]
  },
  {
   "cell_type": "code",
   "execution_count": 8,
   "metadata": {},
   "outputs": [
    {
     "name": "stdout",
     "output_type": "stream",
     "text": [
      "Train on 60000 samples, validate on 10000 samples\n",
      "Epoch 1/10\n",
      "60000/60000 [==============================] - 4s 59us/step - loss: 0.0323 - val_loss: 0.0168\n",
      "Epoch 2/10\n",
      "60000/60000 [==============================] - 3s 56us/step - loss: 0.0140 - val_loss: 0.0117\n",
      "Epoch 3/10\n",
      "60000/60000 [==============================] - 3s 56us/step - loss: 0.0113 - val_loss: 0.0106\n",
      "Epoch 4/10\n",
      "60000/60000 [==============================] - 3s 56us/step - loss: 0.0108 - val_loss: 0.0104\n",
      "Epoch 5/10\n",
      "60000/60000 [==============================] - 3s 58us/step - loss: 0.0106 - val_loss: 0.0102\n",
      "Epoch 6/10\n",
      "60000/60000 [==============================] - 3s 54us/step - loss: 0.0105 - val_loss: 0.0101\n",
      "Epoch 7/10\n",
      "60000/60000 [==============================] - 3s 55us/step - loss: 0.0104 - val_loss: 0.0101\n",
      "Epoch 8/10\n",
      "60000/60000 [==============================] - 3s 54us/step - loss: 0.0104 - val_loss: 0.0100\n",
      "Epoch 9/10\n",
      "60000/60000 [==============================] - 3s 54us/step - loss: 0.0103 - val_loss: 0.0100\n",
      "Epoch 10/10\n",
      "60000/60000 [==============================] - 3s 54us/step - loss: 0.0103 - val_loss: 0.0100\n"
     ]
    },
    {
     "data": {
      "image/png": "[encoded data removed]",
      "text/plain": [
       "<Figure size 432x288 with 9 Axes>"
      ]
     },
     "metadata": {},
     "output_type": "display_data"
    }
   ],
   "source": [
    "# Autoencoder with 32 bottleneck nodes\n",
    "autoencoder_workflow(32, num_epochs)"
   ]
  },
  {
   "cell_type": "code",
   "execution_count": 9,
   "metadata": {},
   "outputs": [
    {
     "name": "stdout",
     "output_type": "stream",
     "text": [
      "Train on 60000 samples, validate on 10000 samples\n",
      "Epoch 1/10\n",
      "60000/60000 [==============================] - 3s 55us/step - loss: 0.0414 - val_loss: 0.0271\n",
      "Epoch 2/10\n",
      "60000/60000 [==============================] - 3s 54us/step - loss: 0.0252 - val_loss: 0.0234\n",
      "Epoch 3/10\n",
      "60000/60000 [==============================] - 3s 53us/step - loss: 0.0230 - val_loss: 0.0219\n",
      "Epoch 4/10\n",
      "60000/60000 [==============================] - 3s 54us/step - loss: 0.0221 - val_loss: 0.0215\n",
      "Epoch 5/10\n",
      "60000/60000 [==============================] - 3s 53us/step - loss: 0.0219 - val_loss: 0.0213\n",
      "Epoch 6/10\n",
      "60000/60000 [==============================] - 3s 54us/step - loss: 0.0217 - val_loss: 0.0212\n",
      "Epoch 7/10\n",
      "60000/60000 [==============================] - 3s 54us/step - loss: 0.0216 - val_loss: 0.0210\n",
      "Epoch 8/10\n",
      "60000/60000 [==============================] - 3s 54us/step - loss: 0.0215 - val_loss: 0.0210\n",
      "Epoch 9/10\n",
      "60000/60000 [==============================] - 3s 54us/step - loss: 0.0215 - val_loss: 0.0209\n",
      "Epoch 10/10\n",
      "60000/60000 [==============================] - 3s 54us/step - loss: 0.0214 - val_loss: 0.0208\n"
     ]
    },
    {
     "data": {
      "image/png": "[encoded data removed]",
      "text/plain": [
       "<Figure size 432x288 with 9 Axes>"
      ]
     },
     "metadata": {},
     "output_type": "display_data"
    }
   ],
   "source": [
    "# Autoencoder with 16 bottleneck nodes\n",
    "autoencoder_workflow(16, num_epochs)"
   ]
  },
  {
   "cell_type": "code",
   "execution_count": 10,
   "metadata": {},
   "outputs": [
    {
     "name": "stdout",
     "output_type": "stream",
     "text": [
      "Train on 60000 samples, validate on 10000 samples\n",
      "Epoch 1/10\n",
      "60000/60000 [==============================] - 3s 55us/step - loss: 0.0509 - val_loss: 0.0385\n",
      "Epoch 2/10\n",
      "60000/60000 [==============================] - 3s 54us/step - loss: 0.0375 - val_loss: 0.0360\n",
      "Epoch 3/10\n",
      "60000/60000 [==============================] - 3s 54us/step - loss: 0.0357 - val_loss: 0.0347\n",
      "Epoch 4/10\n",
      "60000/60000 [==============================] - 3s 54us/step - loss: 0.0349 - val_loss: 0.0342\n",
      "Epoch 5/10\n",
      "60000/60000 [==============================] - 3s 54us/step - loss: 0.0345 - val_loss: 0.0339\n",
      "Epoch 6/10\n",
      "60000/60000 [==============================] - 3s 54us/step - loss: 0.0343 - val_loss: 0.0337\n",
      "Epoch 7/10\n",
      "60000/60000 [==============================] - 3s 56us/step - loss: 0.0341 - val_loss: 0.0336\n",
      "Epoch 8/10\n",
      "60000/60000 [==============================] - 3s 54us/step - loss: 0.0340 - val_loss: 0.0335\n",
      "Epoch 9/10\n",
      "60000/60000 [==============================] - 3s 55us/step - loss: 0.0340 - val_loss: 0.0335\n",
      "Epoch 10/10\n",
      "60000/60000 [==============================] - 3s 54us/step - loss: 0.0339 - val_loss: 0.0335\n"
     ]
    },
    {
     "data": {
      "image/png": "[encoded data removed]",
      "text/plain": [
       "<Figure size 432x288 with 9 Axes>"
      ]
     },
     "metadata": {},
     "output_type": "display_data"
    }
   ],
   "source": [
    "# Autoencoder with 8 bottleneck nodes\n",
    "autoencoder_workflow(8, num_epochs)"
   ]
  },
  {
   "cell_type": "code",
   "execution_count": 11,
   "metadata": {},
   "outputs": [
    {
     "name": "stdout",
     "output_type": "stream",
     "text": [
      "Train on 60000 samples, validate on 10000 samples\n",
      "Epoch 1/10\n",
      "60000/60000 [==============================] - 3s 56us/step - loss: 0.0609 - val_loss: 0.0503\n",
      "Epoch 2/10\n",
      "60000/60000 [==============================] - 3s 55us/step - loss: 0.0494 - val_loss: 0.0483\n",
      "Epoch 3/10\n",
      "60000/60000 [==============================] - 3s 56us/step - loss: 0.0481 - val_loss: 0.0474\n",
      "Epoch 4/10\n",
      "60000/60000 [==============================] - 3s 55us/step - loss: 0.0474 - val_loss: 0.0468\n",
      "Epoch 5/10\n",
      "60000/60000 [==============================] - 3s 55us/step - loss: 0.0470 - val_loss: 0.0466\n",
      "Epoch 6/10\n",
      "60000/60000 [==============================] - 3s 55us/step - loss: 0.0468 - val_loss: 0.0464\n",
      "Epoch 7/10\n",
      "60000/60000 [==============================] - 3s 55us/step - loss: 0.0467 - val_loss: 0.0463\n",
      "Epoch 8/10\n",
      "60000/60000 [==============================] - 3s 55us/step - loss: 0.0466 - val_loss: 0.0462\n",
      "Epoch 9/10\n",
      "60000/60000 [==============================] - 3s 55us/step - loss: 0.0466 - val_loss: 0.0461\n",
      "Epoch 10/10\n",
      "60000/60000 [==============================] - 3s 54us/step - loss: 0.0465 - val_loss: 0.0461\n"
     ]
    },
    {
     "data": {
      "image/png": "[encoded data removed]",
      "text/plain": [
       "<Figure size 432x288 with 9 Axes>"
      ]
     },
     "metadata": {},
     "output_type": "display_data"
    }
   ],
   "source": [
    "# Autoencoder with 4 bottleneck nodes\n",
    "autoencoder_workflow(4, num_epochs)"
   ]
  },
  {
   "cell_type": "markdown",
   "metadata": {},
   "source": [
    "### Convolutional Autoencoders\n",
    "\n",
    "In contrast to dense autoencoders which only use fully connected layers, it is also possible to use convolutional layers for compression and decompression of images. Here, alternating convolutional layers and max pooling are used for encoding and alternating convolutional and upsampling layers are used for decoding. Convolutional autoencoders tend to have longer training times but may deliver better results in many cases."
   ]
  },
  {
   "cell_type": "code",
   "execution_count": 12,
   "metadata": {},
   "outputs": [],
   "source": [
    "def create_conv_autoencoder(input_shape):\n",
    "    \"\"\"Convolutional autoencoder architecture\"\"\"\n",
    "    input_img = layers.Input(input_shape)\n",
    "\n",
    "    encoded = layers.Conv2D(16, (3, 3), activation=\"relu\", padding=\"same\")(input_img)\n",
    "    encoded = layers.MaxPooling2D((2, 2))(encoded)\n",
    "    encoded = layers.Conv2D(8, (3, 3), activation=\"relu\", padding=\"same\")(encoded)\n",
    "    encoded = layers.MaxPooling2D((2, 2))(encoded)\n",
    "    encoded = layers.Conv2D(4, (3, 3), activation=\"relu\", padding=\"same\")(encoded)\n",
    "    encoded = layers.MaxPooling2D((2, 2), padding=\"same\")(encoded)\n",
    "\n",
    "    encoder_model = Model(input_img, encoded)  # dims: 4 maps with size 4 x 4 (64 bottleneck nodes)\n",
    "\n",
    "    decoded = layers.Conv2D(4, (3, 3), activation=\"relu\", padding=\"same\")(encoded)\n",
    "    decoded = layers.UpSampling2D((2, 2))(decoded)\n",
    "    decoded = layers.Conv2D(8, (3, 3), activation=\"relu\", padding=\"same\")(decoded)\n",
    "    decoded = layers.UpSampling2D((2, 2))(decoded)\n",
    "    decoded = layers.Conv2D(16, (3, 3), activation=\"relu\")(decoded)\n",
    "    decoded = layers.UpSampling2D((2, 2))(decoded)\n",
    "    decoded = layers.Conv2D(1, (3, 3), activation=\"sigmoid\", padding=\"same\")(decoded)\n",
    "\n",
    "    autoencoder = Model(input_img, decoded)\n",
    "    autoencoder.compile(optimizer=keras.optimizers.Adadelta(), loss=\"mse\")\n",
    "\n",
    "    return autoencoder, encoder_model"
   ]
  },
  {
   "cell_type": "code",
   "execution_count": 13,
   "metadata": {},
   "outputs": [],
   "source": [
    "# Get training and test MNIST images\n",
    "(train, _), (test, _) = mnist.load_data()\n",
    "\n",
    "# Add color dimensions\n",
    "train = (train.astype(np.float32) / 255).reshape((len(train), 28, 28, 1))\n",
    "test = (test.astype(np.float32) / 255).reshape((len(test), 28, 28, 1))\n",
    "\n",
    "# Get dimensions from example image\n",
    "dims = train[0].shape"
   ]
  },
  {
   "cell_type": "code",
   "execution_count": 14,
   "metadata": {},
   "outputs": [
    {
     "name": "stdout",
     "output_type": "stream",
     "text": [
      "Train on 60000 samples, validate on 10000 samples\n",
      "Epoch 1/30\n",
      "60000/60000 [==============================] - 5s 86us/step - loss: 0.0696 - val_loss: 0.0482\n",
      "Epoch 2/30\n",
      "60000/60000 [==============================] - 3s 58us/step - loss: 0.0437 - val_loss: 0.0410\n",
      "Epoch 3/30\n",
      "60000/60000 [==============================] - 4s 59us/step - loss: 0.0380 - val_loss: 0.0364\n",
      "Epoch 4/30\n",
      "60000/60000 [==============================] - 4s 59us/step - loss: 0.0347 - val_loss: 0.0342\n",
      "Epoch 5/30\n",
      "60000/60000 [==============================] - 4s 58us/step - loss: 0.0323 - val_loss: 0.0309\n",
      "Epoch 6/30\n",
      "60000/60000 [==============================] - 4s 59us/step - loss: 0.0303 - val_loss: 0.0293\n",
      "Epoch 7/30\n",
      "60000/60000 [==============================] - 4s 58us/step - loss: 0.0289 - val_loss: 0.0294\n",
      "Epoch 8/30\n",
      "60000/60000 [==============================] - 4s 59us/step - loss: 0.0278 - val_loss: 0.0278\n",
      "Epoch 9/30\n",
      "60000/60000 [==============================] - 4s 59us/step - loss: 0.0269 - val_loss: 0.0260\n",
      "Epoch 10/30\n",
      "60000/60000 [==============================] - 3s 58us/step - loss: 0.0262 - val_loss: 0.0258\n",
      "Epoch 11/30\n",
      "60000/60000 [==============================] - 3s 58us/step - loss: 0.0255 - val_loss: 0.0262\n",
      "Epoch 12/30\n",
      "60000/60000 [==============================] - 4s 59us/step - loss: 0.0249 - val_loss: 0.0253\n",
      "Epoch 13/30\n",
      "60000/60000 [==============================] - 4s 59us/step - loss: 0.0244 - val_loss: 0.0249\n",
      "Epoch 14/30\n",
      "60000/60000 [==============================] - 4s 58us/step - loss: 0.0239 - val_loss: 0.0249\n",
      "Epoch 15/30\n",
      "60000/60000 [==============================] - 3s 58us/step - loss: 0.0235 - val_loss: 0.0236\n",
      "Epoch 16/30\n",
      "60000/60000 [==============================] - 4s 59us/step - loss: 0.0232 - val_loss: 0.0230\n",
      "Epoch 17/30\n",
      "60000/60000 [==============================] - 3s 58us/step - loss: 0.0229 - val_loss: 0.0224\n",
      "Epoch 18/30\n",
      "60000/60000 [==============================] - 4s 59us/step - loss: 0.0226 - val_loss: 0.0228\n",
      "Epoch 19/30\n",
      "60000/60000 [==============================] - 4s 59us/step - loss: 0.0223 - val_loss: 0.0213\n",
      "Epoch 20/30\n",
      "60000/60000 [==============================] - 4s 59us/step - loss: 0.0221 - val_loss: 0.0232\n",
      "Epoch 21/30\n",
      "60000/60000 [==============================] - 4s 58us/step - loss: 0.0219 - val_loss: 0.0208\n",
      "Epoch 22/30\n",
      "60000/60000 [==============================] - 4s 59us/step - loss: 0.0217 - val_loss: 0.0229\n",
      "Epoch 23/30\n",
      "60000/60000 [==============================] - 4s 59us/step - loss: 0.0215 - val_loss: 0.0210\n",
      "Epoch 24/30\n",
      "60000/60000 [==============================] - 4s 59us/step - loss: 0.0213 - val_loss: 0.0215\n",
      "Epoch 25/30\n",
      "60000/60000 [==============================] - 4s 59us/step - loss: 0.0212 - val_loss: 0.0218\n",
      "Epoch 26/30\n",
      "60000/60000 [==============================] - 4s 58us/step - loss: 0.0210 - val_loss: 0.0219\n",
      "Epoch 27/30\n",
      "60000/60000 [==============================] - 4s 60us/step - loss: 0.0209 - val_loss: 0.0197\n",
      "Epoch 28/30\n",
      "60000/60000 [==============================] - 4s 61us/step - loss: 0.0206 - val_loss: 0.0215\n",
      "Epoch 29/30\n",
      "60000/60000 [==============================] - 4s 59us/step - loss: 0.0206 - val_loss: 0.0197\n",
      "Epoch 30/30\n",
      "60000/60000 [==============================] - 4s 59us/step - loss: 0.0204 - val_loss: 0.0208\n"
     ]
    },
    {
     "data": {
      "text/plain": [
       "<keras.callbacks.callbacks.History at 0x26c0bc77f08>"
      ]
     },
     "execution_count": 14,
     "metadata": {},
     "output_type": "execute_result"
    }
   ],
   "source": [
    "# Create autoencoder and associated encoder model\n",
    "autoencoder, encoder = create_conv_autoencoder(dims)\n",
    "\n",
    "# Configure stopping criterion via early stopping\n",
    "callback = tf.keras.callbacks.EarlyStopping(monitor=\"loss\", patience=4)\n",
    "\n",
    "# Train autoencoder\n",
    "autoencoder.fit(train, train,\n",
    "                validation_data=(test, test),\n",
    "                batch_size=256,\n",
    "                epochs=30,\n",
    "                callbacks=[callback])"
   ]
  },
  {
   "cell_type": "markdown",
   "metadata": {},
   "source": [
    "The validation loss is good, although it might be improved further by increasing the number of epochs. Finally, we visualize some reconstructed images along with the corresponding original images."
   ]
  },
  {
   "cell_type": "code",
   "execution_count": 15,
   "metadata": {},
   "outputs": [],
   "source": [
    "# Predict reconstructed image\n",
    "pred = autoencoder.predict(test)"
   ]
  },
  {
   "cell_type": "code",
   "execution_count": 16,
   "metadata": {},
   "outputs": [],
   "source": [
    "def plot_with_filters(original, encoded, reconstructed, num_examples=1, num_filters=4):\n",
    "    \"\"\"Plot test set examples with original, filter activations and prediction\"\"\"\n",
    "\n",
    "    assert num_filters <= encoded.shape[-1], \\\n",
    "    \"num_filters={} exceeds number of available feature maps ({}).\".format(num_filters, encoded.shape[-1])\n",
    "    \n",
    "    # Plotting parameters set to not show ticks and tick labels\n",
    "    params = {\"bottom\": False,\n",
    "              \"left\": False,\n",
    "              \"labelbottom\": False,\n",
    "              \"labelleft\": False}\n",
    "\n",
    "    # Create a composite figure\n",
    "    fig = plt.figure(figsize=(8, 8))\n",
    "    gs = fig.add_gridspec(num_filters * num_examples, num_examples)\n",
    "\n",
    "    # Originals and reconstructions\n",
    "    for example_index in range(num_examples):\n",
    "        # Left column\n",
    "        ax = fig.add_subplot(gs[example_index * num_filters:(example_index + 1) * num_filters, 0])\n",
    "        ax.imshow(original[example_index])\n",
    "        ax.tick_params(**params)\n",
    "\n",
    "        # Left column title\n",
    "        if example_index == 0:\n",
    "            ax.title.set_text(\"Original\")\n",
    "\n",
    "        # Right columns\n",
    "        ax = fig.add_subplot(gs[example_index * num_filters:(example_index + 1) * num_filters, 2])\n",
    "        ax.imshow(reconstructed[example_index])\n",
    "        ax.tick_params(**params)\n",
    "\n",
    "        # Right column title\n",
    "        if example_index == 0:\n",
    "            ax.title.set_text(\"Reconstruction\")\n",
    "\n",
    "    # Encodings\n",
    "    for filter_index in range(num_filters * num_examples):\n",
    "        ax = fig.add_subplot(gs[filter_index, 1])\n",
    "        ax.imshow(encoded[int(filter_index / num_filters), :, :, filter_index % num_filters])\n",
    "        ax.tick_params(**params)\n",
    "\n",
    "        # Mid column title\n",
    "        if filter_index == 0:\n",
    "            ax.title.set_text(\"Encoding\")\n",
    "\n",
    "    # Auto-format and show figure\n",
    "    plt.tight_layout()\n",
    "    plt.show()"
   ]
  },
  {
   "cell_type": "code",
   "execution_count": 17,
   "metadata": {},
   "outputs": [
    {
     "name": "stdout",
     "output_type": "stream",
     "text": [
      "Test dimensions: (10000, 28, 28)\n",
      "Encoded dimensions: (10000, 4, 4, 4)\n",
      "Reconstructed dimensions: (10000, 28, 28)\n"
     ]
    },
    {
     "data": {
      "image/png": "[encoded data removed]",
      "text/plain": [
       "<Figure size 576x576 with 18 Axes>"
      ]
     },
     "metadata": {},
     "output_type": "display_data"
    }
   ],
   "source": [
    "# Create encoded representation\n",
    "encoded = encoder.predict(test)\n",
    "\n",
    "# Reshaping image data for visualization\n",
    "test_reshaped = test.reshape(len(test), dims[0], dims[1])\n",
    "pred_reshaped = pred.reshape(len(pred), dims[0], dims[1])\n",
    "\n",
    "# Display dimensions\n",
    "print(\"Test dimensions:\", test_reshaped.shape)\n",
    "print(\"Encoded dimensions:\", encoded.shape)\n",
    "print(\"Reconstructed dimensions:\", pred_reshaped.shape)\n",
    "\n",
    "# Visualize three example images\n",
    "plot_with_filters(test_reshaped, encoded, pred_reshaped, num_examples=3, num_filters=4)"
   ]
  }
 ],
 "metadata": {
  "kernelspec": {
   "display_name": "Python 3",
   "language": "python",
   "name": "python3"
  },
  "language_info": {
   "codemirror_mode": {
    "name": "ipython",
    "version": 3
   },
   "file_extension": ".py",
   "mimetype": "text/x-python",
   "name": "python",
   "nbconvert_exporter": "python",
   "pygments_lexer": "ipython3",
   "version": "3.7.4"
  }
 },
 "nbformat": 4,
 "nbformat_minor": 2
}
