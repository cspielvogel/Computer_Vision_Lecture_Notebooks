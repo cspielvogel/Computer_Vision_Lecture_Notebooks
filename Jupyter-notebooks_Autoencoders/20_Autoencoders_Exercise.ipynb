{
 "cells": [
  {
   "cell_type": "markdown",
   "metadata": {},
   "source": [
    "## Exercise: Autoencoders\n",
    "\n",
    "Read through the description of the exercises and select appropriate tools / libraries. Implement the solution below the respective exercise description.\n",
    "\n",
    "In this exercise, you will use a fully-connected autoencoder for feature reduction. Goal is to compare the performance and training time of a classifier built on the full versus the reduced features. For this task, you will use the fashion MNIST data set.\n",
    "\n",
    "#### Exercise 1.1\n",
    "\n",
    "* Use the built-in keras data sets to load the fashion_mnist data\n",
    "* Flatten and normalize the data\n",
    "* Determine number of samples and dimensions of the instances in the data set\n",
    "* Determine the numner of samples per class\n",
    "* Visualize a few instances\n",
    "* Setup and train a random forest on the fashion mnist training data; Report the time needed for training of the model\n",
    "* Evaluate the model on the test data set and report its accuracy\n",
    "\n",
    "#### Exercise 1.2\n",
    "\n",
    "* Setup a fully-connected autoencoder with separable encoder and a bottleneck layer with 32 nodes\n",
    "* Train the autoencoder model\n",
    "* Use the trained model to reconstruct a few images and plot them to ensure successful training\n",
    "* Use the encoder part of the autoencoder model to reduce the features of the fashion mnist training data\n",
    "* Use the same random forest hyperparameter configuration as in exercise 1 and fit it to the reduced training data; Report the time needed for training the random forest model\n",
    "* Evaluate the models performance using the reduced test features\n",
    "* Determine the accuracy score for the test set \n",
    "* Compare performance and training time of the executions from exercise 1.1 and 1.2\n",
    "\n",
    "#### Exercise 1.3 \n",
    "* Repeat exercise 1.2 but with a fully-convolutional autoencoder\n",
    "* Choose an architecture so that the reduced representation consists of 32 values\n",
    "* Compare the performance and run time of the "
   ]
  },
  {
   "cell_type": "code",
   "execution_count": null,
   "metadata": {},
   "outputs": [],
   "source": []
  }
 ],
 "metadata": {
  "kernelspec": {
   "display_name": "Python 3",
   "language": "python",
   "name": "python3"
  },
  "language_info": {
   "codemirror_mode": {
    "name": "ipython",
    "version": 3
   },
   "file_extension": ".py",
   "mimetype": "text/x-python",
   "name": "python",
   "nbconvert_exporter": "python",
   "pygments_lexer": "ipython3",
   "version": "3.7.4"
  }
 },
 "nbformat": 4,
 "nbformat_minor": 2
}
