{
 "cells": [
  {
   "cell_type": "markdown",
   "metadata": {},
   "source": [
    "## Denoising using Autoencoders\n",
    "   #### Computer Vision Winter Semester 2020/2021 by Clemens Spielvogel\n",
    "   \n",
    "One task which can be accomplished using autoencoders is the removal of noise from images. In this case, the autoencoder has to be trained on feature-label pairs where the feature is an image containing noise and the label is an image without noise.  \n",
    "In the following examples you will see how an autoencoder is used to remove different types of noise from hand-written digits to generate clean data. "
   ]
  },
  {
   "cell_type": "code",
   "execution_count": 1,
   "metadata": {},
   "outputs": [
    {
     "name": "stderr",
     "output_type": "stream",
     "text": [
      "Using TensorFlow backend.\n"
     ]
    }
   ],
   "source": [
    "import numpy as np\n",
    "import cv2\n",
    "import keras\n",
    "from keras import Sequential, Model, layers\n",
    "from keras.datasets import mnist\n",
    "import tensorflow as tf\n",
    "import os\n",
    "import matplotlib.pyplot as plt"
   ]
  },
  {
   "cell_type": "code",
   "execution_count": 2,
   "metadata": {},
   "outputs": [],
   "source": [
    "# Seeding random number generators to obtain reproducible results\n",
    "seed_value = 0\n",
    "os.environ['PYTHONHASHSEED']=str(seed_value)\n",
    "np.random.seed(seed_value)\n",
    "tf.random.set_seed(seed_value)"
   ]
  },
  {
   "cell_type": "markdown",
   "metadata": {},
   "source": [
    "There are many types of artificial noise which can be added to data. Here, three types of noise are used. Firstly, a gaussian noise where normal distributed values (in this case with mean 0 and a variance of 0.7) are added to the pixel values of the original image. Secondly, salt and pepper noise randomly changes pixel to have maximum or minimum numbers. Lastly, OpenCV is used to add a gaussian blur to the original image with a filter size of 17 x 17."
   ]
  },
  {
   "cell_type": "code",
   "execution_count": 3,
   "metadata": {},
   "outputs": [],
   "source": [
    "def add_gaussian_noise(image):\n",
    "    \"\"\"Returns the input image with gaussian noise added\"\"\"\n",
    "    row, col = image.shape\n",
    "    mean = 0\n",
    "    var = 0.7\n",
    "    sigma = var ** 0.5\n",
    "    gaussian_noise = np.random.normal(mean, sigma, (row, col))\n",
    "\n",
    "    return image + gaussian_noise"
   ]
  },
  {
   "cell_type": "code",
   "execution_count": 4,
   "metadata": {},
   "outputs": [],
   "source": [
    "def add_salt_and_pepper_noise(image):\n",
    "    \"\"\"Returns the input image with salt and pepper noise added\"\"\"\n",
    "    ratio_salt_to_pepper = 0.5\n",
    "    amount = 0.4\n",
    "    noised_image = np.copy(image)\n",
    "\n",
    "    # Add salt noise\n",
    "    num_salt = np.ceil(amount * image.size * ratio_salt_to_pepper)\n",
    "    coords = [np.random.randint(0, i - 1, int(num_salt)) for i in image.shape]\n",
    "    noised_image[tuple(coords)] = 1\n",
    "\n",
    "    # Add pepper noise\n",
    "    num_pepper = np.ceil(amount * image.size * (1. - ratio_salt_to_pepper))\n",
    "    coords = [np.random.randint(0, i - 1, int(num_pepper)) for i in image.shape]\n",
    "    noised_image[tuple(coords)] = 0\n",
    "\n",
    "    return noised_image"
   ]
  },
  {
   "cell_type": "code",
   "execution_count": 5,
   "metadata": {},
   "outputs": [],
   "source": [
    "def add_blur(image):\n",
    "    \"\"\"Returns the blurred input image\"\"\"\n",
    "    return cv2.GaussianBlur(image, (17, 17), 0)"
   ]
  },
  {
   "cell_type": "markdown",
   "metadata": {},
   "source": [
    "In this case, a dense autoencoder is created with an input layer, a hidden layer with 128 nodes, a bottleneck layer with 64 nodes and another hidden layer with 128 nodes. After a regularization layer using dropout, the number of output nodes is set to be equal to the number of pixels of the original image. As the task can be seen as a pixelwise regression, mean squared error is used as loss function."
   ]
  },
  {
   "cell_type": "code",
   "execution_count": 6,
   "metadata": {},
   "outputs": [],
   "source": [
    "def create_dense_autoencoder_model(input_shape, num_bottleneck_nodes):\n",
    "    \"\"\"Fully connected autoencoder with 4 dense layers and drop-out\"\"\"\n",
    "    model = Sequential()\n",
    "    model.add(layers.Flatten(input_shape=input_shape))\n",
    "    model.add(layers.Dropout(rate=0.1))\n",
    "    model.add(layers.Dense(128, activation=\"relu\"))\n",
    "    model.add(layers.Dense(num_bottleneck_nodes, activation=\"relu\"))\n",
    "    model.add(layers.Dense(128, activation=\"relu\"))\n",
    "    model.add(layers.Dropout(rate=0.1))\n",
    "    model.add(layers.Dense(input_shape[0] * input_shape[1], activation=\"sigmoid\"))\n",
    "    model.add(layers.Reshape(input_shape))\n",
    "\n",
    "    model.compile(optimizer=keras.optimizers.Adam(), loss=\"mse\")\n",
    "\n",
    "    return model"
   ]
  },
  {
   "cell_type": "markdown",
   "metadata": {},
   "source": [
    "The plotting function is used to display the original image along with the noised image and the reconstructed image."
   ]
  },
  {
   "cell_type": "code",
   "execution_count": 7,
   "metadata": {},
   "outputs": [],
   "source": [
    "def plot(original, noised, pred):\n",
    "    \"\"\"Plotting corresponding original image, noise added image, and predicted image\"\"\"\n",
    "    fig, ax = plt.subplots(3, 3)\n",
    "    params = {\"top\": False, \"bottom\": False, \"left\": False, \"right\": False, \"labelleft\": False,\n",
    "          \"labelbottom\": False}\n",
    "\n",
    "    ax[0, 0].title.set_text(\"Original\")\n",
    "    ax[0, 1].title.set_text(\"Noised\")\n",
    "    ax[0, 2].title.set_text(\"Predicted\")\n",
    "\n",
    "    ax[0, 0].imshow(original[0])\n",
    "    ax[0, 0].tick_params(**params)\n",
    "    ax[0, 1].imshow(noised[0])\n",
    "    ax[0, 1].tick_params(**params)\n",
    "    ax[0, 2].imshow(pred[0])\n",
    "    ax[0, 2].tick_params(**params)\n",
    "\n",
    "    ax[1, 0].imshow(original[1])\n",
    "    ax[1, 0].tick_params(**params)\n",
    "    ax[1, 1].imshow(noised[1])\n",
    "    ax[1, 1].tick_params(**params)\n",
    "    ax[1, 2].imshow(pred[1])\n",
    "    ax[1, 2].tick_params(**params)\n",
    "\n",
    "    ax[2, 0].imshow(original[2])\n",
    "    ax[2, 0].tick_params(**params)\n",
    "    ax[2, 1].imshow(noised[2])\n",
    "    ax[2, 1].tick_params(**params)\n",
    "    ax[2, 2].imshow(pred[2])\n",
    "    ax[2, 2].tick_params(**params)\n",
    "\n",
    "    plt.tight_layout()\n",
    "    plt.show()"
   ]
  },
  {
   "cell_type": "code",
   "execution_count": 8,
   "metadata": {},
   "outputs": [],
   "source": [
    "def load_data():\n",
    "    # Load data\n",
    "    (train, _), (test, _) = mnist.load_data()  # Get training and test MNIST images\n",
    "\n",
    "    # Get sample dimensions\n",
    "    dims = train[0].shape\n",
    "\n",
    "    # Normalize\n",
    "    train = train.astype(np.float32) / 255\n",
    "    test = test.astype(np.float32) / 255\n",
    "    \n",
    "    return train, test"
   ]
  },
  {
   "cell_type": "markdown",
   "metadata": {},
   "source": [
    "Now we will add three different types of noise to the image and evaluate the autoencoders capabilities to denoise the images. We will start off with blurred images."
   ]
  },
  {
   "cell_type": "code",
   "execution_count": 9,
   "metadata": {},
   "outputs": [],
   "source": [
    "# Load images\n",
    "train, test = load_data()\n",
    "\n",
    "# Get dimensions of example image\n",
    "dims = train[0].shape"
   ]
  },
  {
   "cell_type": "code",
   "execution_count": 10,
   "metadata": {},
   "outputs": [],
   "source": [
    "# Add blur noise to images\n",
    "train_noised = np.array([add_blur(image) for image in train])\n",
    "test_noised = np.array([add_blur(image) for image in test])"
   ]
  },
  {
   "cell_type": "code",
   "execution_count": 11,
   "metadata": {},
   "outputs": [
    {
     "name": "stdout",
     "output_type": "stream",
     "text": [
      "Train on 60000 samples, validate on 10000 samples\n",
      "Epoch 1/20\n",
      "60000/60000 [==============================] - 7s 111us/step - loss: 0.0390 - val_loss: 0.0247\n",
      "Epoch 2/20\n",
      "60000/60000 [==============================] - 6s 107us/step - loss: 0.0256 - val_loss: 0.0207\n",
      "Epoch 3/20\n",
      "60000/60000 [==============================] - 6s 107us/step - loss: 0.0232 - val_loss: 0.0186\n",
      "Epoch 4/20\n",
      "60000/60000 [==============================] - 6s 105us/step - loss: 0.0220 - val_loss: 0.0177\n",
      "Epoch 5/20\n",
      "60000/60000 [==============================] - 6s 102us/step - loss: 0.0213 - val_loss: 0.0169\n",
      "Epoch 6/20\n",
      "60000/60000 [==============================] - 6s 104us/step - loss: 0.0207 - val_loss: 0.0169\n",
      "Epoch 7/20\n",
      "60000/60000 [==============================] - 6s 104us/step - loss: 0.0203 - val_loss: 0.0162\n",
      "Epoch 8/20\n",
      "60000/60000 [==============================] - 6s 107us/step - loss: 0.0198 - val_loss: 0.0155\n",
      "Epoch 9/20\n",
      "60000/60000 [==============================] - 6s 107us/step - loss: 0.0194 - val_loss: 0.0152\n",
      "Epoch 10/20\n",
      "60000/60000 [==============================] - 7s 109us/step - loss: 0.0191 - val_loss: 0.0150\n",
      "Epoch 11/20\n",
      "60000/60000 [==============================] - 6s 107us/step - loss: 0.0189 - val_loss: 0.0147\n",
      "Epoch 12/20\n",
      "60000/60000 [==============================] - 7s 113us/step - loss: 0.0187 - val_loss: 0.0146\n",
      "Epoch 13/20\n",
      "60000/60000 [==============================] - 6s 105us/step - loss: 0.0185 - val_loss: 0.0144\n",
      "Epoch 14/20\n",
      "60000/60000 [==============================] - 6s 105us/step - loss: 0.0183 - val_loss: 0.0140\n",
      "Epoch 15/20\n",
      "60000/60000 [==============================] - 6s 105us/step - loss: 0.0182 - val_loss: 0.0138\n",
      "Epoch 16/20\n",
      "60000/60000 [==============================] - 6s 100us/step - loss: 0.0181 - val_loss: 0.0139\n",
      "Epoch 17/20\n",
      "60000/60000 [==============================] - 6s 101us/step - loss: 0.0179 - val_loss: 0.0135\n",
      "Epoch 18/20\n",
      "60000/60000 [==============================] - 6s 105us/step - loss: 0.0179 - val_loss: 0.0136\n",
      "Epoch 19/20\n",
      "60000/60000 [==============================] - 6s 104us/step - loss: 0.0177 - val_loss: 0.0136\n",
      "Epoch 20/20\n",
      "60000/60000 [==============================] - 6s 104us/step - loss: 0.0177 - val_loss: 0.0137\n"
     ]
    },
    {
     "data": {
      "text/plain": [
       "<keras.callbacks.callbacks.History at 0x16dddbf7988>"
      ]
     },
     "execution_count": 11,
     "metadata": {},
     "output_type": "execute_result"
    }
   ],
   "source": [
    "# Set hyperparameters\n",
    "num_epochs = 20\n",
    "num_bottleneck_nodes = 32\n",
    "\n",
    "# Create autoencoder model\n",
    "model = create_dense_autoencoder_model(dims, num_bottleneck_nodes)\n",
    "\n",
    "# Configure stopping criterion via early stopping\n",
    "callback = tf.keras.callbacks.EarlyStopping(monitor=\"loss\", patience=4)\n",
    "\n",
    "# Train model\n",
    "model.fit(train_noised,\n",
    "          train,\n",
    "          epochs=num_epochs,\n",
    "          validation_data=(test_noised, test),\n",
    "          verbose=True,\n",
    "          callbacks=[callback])"
   ]
  },
  {
   "cell_type": "code",
   "execution_count": 12,
   "metadata": {},
   "outputs": [
    {
     "data": {
      "image/png": "[encoded data removed]",
      "text/plain": [
       "<Figure size 432x288 with 9 Axes>"
      ]
     },
     "metadata": {},
     "output_type": "display_data"
    }
   ],
   "source": [
    "# Prediction and plotting of test samples\n",
    "pred = model.predict(test_noised)\n",
    "plot(test, test_noised, pred)"
   ]
  },
  {
   "cell_type": "markdown",
   "metadata": {},
   "source": [
    "Next, we use salt-and-pepper noise to disort the images and evaluate the denoising autoencoder."
   ]
  },
  {
   "cell_type": "code",
   "execution_count": 13,
   "metadata": {},
   "outputs": [],
   "source": [
    "# Add salt-and-pepper noise to images\n",
    "train_noised = np.array([add_salt_and_pepper_noise(image) for image in train])\n",
    "test_noised = np.array([add_salt_and_pepper_noise(image) for image in test])"
   ]
  },
  {
   "cell_type": "code",
   "execution_count": 14,
   "metadata": {},
   "outputs": [
    {
     "name": "stdout",
     "output_type": "stream",
     "text": [
      "Train on 60000 samples, validate on 10000 samples\n",
      "Epoch 1/20\n",
      "60000/60000 [==============================] - 6s 107us/step - loss: 0.0393 - val_loss: 0.0271\n",
      "Epoch 2/20\n",
      "60000/60000 [==============================] - 6s 102us/step - loss: 0.0286 - val_loss: 0.0245\n",
      "Epoch 3/20\n",
      "60000/60000 [==============================] - 6s 102us/step - loss: 0.0269 - val_loss: 0.0230\n",
      "Epoch 4/20\n",
      "60000/60000 [==============================] - 6s 102us/step - loss: 0.0259 - val_loss: 0.0224\n",
      "Epoch 5/20\n",
      "60000/60000 [==============================] - 6s 102us/step - loss: 0.0251 - val_loss: 0.0220\n",
      "Epoch 6/20\n",
      "60000/60000 [==============================] - 6s 101us/step - loss: 0.0246 - val_loss: 0.0214\n",
      "Epoch 7/20\n",
      "60000/60000 [==============================] - 6s 101us/step - loss: 0.0243 - val_loss: 0.0211\n",
      "Epoch 8/20\n",
      "60000/60000 [==============================] - 6s 101us/step - loss: 0.0240 - val_loss: 0.0210\n",
      "Epoch 9/20\n",
      "60000/60000 [==============================] - 6s 101us/step - loss: 0.0238 - val_loss: 0.0208\n",
      "Epoch 10/20\n",
      "60000/60000 [==============================] - 6s 105us/step - loss: 0.0235 - val_loss: 0.0203\n",
      "Epoch 11/20\n",
      "60000/60000 [==============================] - 7s 110us/step - loss: 0.0232 - val_loss: 0.0201\n",
      "Epoch 12/20\n",
      "60000/60000 [==============================] - 6s 101us/step - loss: 0.0230 - val_loss: 0.0199\n",
      "Epoch 13/20\n",
      "60000/60000 [==============================] - 6s 101us/step - loss: 0.0228 - val_loss: 0.0199\n",
      "Epoch 14/20\n",
      "60000/60000 [==============================] - 6s 102us/step - loss: 0.0226 - val_loss: 0.0198\n",
      "Epoch 15/20\n",
      "60000/60000 [==============================] - 6s 103us/step - loss: 0.0225 - val_loss: 0.0196\n",
      "Epoch 16/20\n",
      "60000/60000 [==============================] - 6s 105us/step - loss: 0.0223 - val_loss: 0.0197\n",
      "Epoch 17/20\n",
      "60000/60000 [==============================] - 6s 104us/step - loss: 0.0222 - val_loss: 0.0193\n",
      "Epoch 18/20\n",
      "60000/60000 [==============================] - 6s 102us/step - loss: 0.0221 - val_loss: 0.0192\n",
      "Epoch 19/20\n",
      "60000/60000 [==============================] - 6s 104us/step - loss: 0.0220 - val_loss: 0.0190\n",
      "Epoch 20/20\n",
      "60000/60000 [==============================] - 6s 102us/step - loss: 0.0219 - val_loss: 0.0191\n"
     ]
    },
    {
     "data": {
      "text/plain": [
       "<keras.callbacks.callbacks.History at 0x16d830eca48>"
      ]
     },
     "execution_count": 14,
     "metadata": {},
     "output_type": "execute_result"
    }
   ],
   "source": [
    "# Set hyperparameters\n",
    "num_epochs = 20\n",
    "num_bottleneck_nodes = 32\n",
    "\n",
    "# Create autoencoder model\n",
    "model = create_dense_autoencoder_model(dims, num_bottleneck_nodes)\n",
    "\n",
    "# Configure stopping criterion via early stopping\n",
    "callback = tf.keras.callbacks.EarlyStopping(monitor=\"loss\", patience=4)\n",
    "\n",
    "# Train model\n",
    "model.fit(train_noised,\n",
    "          train,\n",
    "          epochs=num_epochs,\n",
    "          validation_data=(test_noised, test),\n",
    "          verbose=True,\n",
    "          callbacks=[callback])"
   ]
  },
  {
   "cell_type": "code",
   "execution_count": 15,
   "metadata": {},
   "outputs": [
    {
     "data": {
      "image/png": "[encoded data removed]",
      "text/plain": [
       "<Figure size 432x288 with 9 Axes>"
      ]
     },
     "metadata": {},
     "output_type": "display_data"
    }
   ],
   "source": [
    "# Prediction and plotting of test samples\n",
    "pred = model.predict(test_noised)\n",
    "plot(test, test_noised, pred)"
   ]
  },
  {
   "cell_type": "markdown",
   "metadata": {},
   "source": [
    "Lastly, gaussian noise is added and afterwards removed to reconstruct the denoised image."
   ]
  },
  {
   "cell_type": "code",
   "execution_count": 16,
   "metadata": {},
   "outputs": [],
   "source": [
    "# Add gaussian noise to images\n",
    "train_noised = np.array([add_gaussian_noise(image) for image in train])\n",
    "test_noised = np.array([add_gaussian_noise(image) for image in test])"
   ]
  },
  {
   "cell_type": "code",
   "execution_count": 17,
   "metadata": {},
   "outputs": [
    {
     "name": "stdout",
     "output_type": "stream",
     "text": [
      "Train on 60000 samples, validate on 10000 samples\n",
      "Epoch 1/20\n",
      "60000/60000 [==============================] - 7s 113us/step - loss: 0.0421 - val_loss: 0.0310\n",
      "Epoch 2/20\n",
      "60000/60000 [==============================] - 6s 108us/step - loss: 0.0320 - val_loss: 0.0285\n",
      "Epoch 3/20\n",
      "60000/60000 [==============================] - 6s 108us/step - loss: 0.0302 - val_loss: 0.0273\n",
      "Epoch 4/20\n",
      "60000/60000 [==============================] - 7s 109us/step - loss: 0.0292 - val_loss: 0.0271\n",
      "Epoch 5/20\n",
      "60000/60000 [==============================] - 7s 109us/step - loss: 0.0286 - val_loss: 0.0264\n",
      "Epoch 6/20\n",
      "60000/60000 [==============================] - 6s 108us/step - loss: 0.0281 - val_loss: 0.0263\n",
      "Epoch 7/20\n",
      "60000/60000 [==============================] - 7s 108us/step - loss: 0.0277 - val_loss: 0.0260\n",
      "Epoch 8/20\n",
      "60000/60000 [==============================] - 7s 114us/step - loss: 0.0275 - val_loss: 0.0259\n",
      "Epoch 9/20\n",
      "60000/60000 [==============================] - 7s 115us/step - loss: 0.0272 - val_loss: 0.0257\n",
      "Epoch 10/20\n",
      "60000/60000 [==============================] - 6s 106us/step - loss: 0.0271 - val_loss: 0.0257\n",
      "Epoch 11/20\n",
      "60000/60000 [==============================] - 7s 110us/step - loss: 0.0269 - val_loss: 0.0254\n",
      "Epoch 12/20\n",
      "60000/60000 [==============================] - 7s 110us/step - loss: 0.0268 - val_loss: 0.0254\n",
      "Epoch 13/20\n",
      "60000/60000 [==============================] - 6s 107us/step - loss: 0.0266 - val_loss: 0.0254\n",
      "Epoch 14/20\n",
      "60000/60000 [==============================] - 7s 109us/step - loss: 0.0265 - val_loss: 0.0252\n",
      "Epoch 15/20\n",
      "60000/60000 [==============================] - 7s 117us/step - loss: 0.0264 - val_loss: 0.0252\n",
      "Epoch 16/20\n",
      "60000/60000 [==============================] - 7s 111us/step - loss: 0.0264 - val_loss: 0.0253\n",
      "Epoch 17/20\n",
      "60000/60000 [==============================] - 7s 110us/step - loss: 0.0263 - val_loss: 0.0253\n",
      "Epoch 18/20\n",
      "60000/60000 [==============================] - 7s 109us/step - loss: 0.0262 - val_loss: 0.0251\n",
      "Epoch 19/20\n",
      "60000/60000 [==============================] - 6s 108us/step - loss: 0.0261 - val_loss: 0.0253\n",
      "Epoch 20/20\n",
      "60000/60000 [==============================] - 7s 114us/step - loss: 0.0261 - val_loss: 0.0252\n"
     ]
    },
    {
     "data": {
      "text/plain": [
       "<keras.callbacks.callbacks.History at 0x16de21ed588>"
      ]
     },
     "execution_count": 17,
     "metadata": {},
     "output_type": "execute_result"
    }
   ],
   "source": [
    "# Set hyperparameters\n",
    "num_epochs = 20\n",
    "num_bottleneck_nodes = 32\n",
    "\n",
    "# Create autoencoder model\n",
    "model = create_dense_autoencoder_model(dims, num_bottleneck_nodes)\n",
    "\n",
    "# Configure stopping criterion via early stopping\n",
    "callback = tf.keras.callbacks.EarlyStopping(monitor=\"loss\", patience=4)\n",
    "\n",
    "# Train model\n",
    "model.fit(train_noised,\n",
    "          train,\n",
    "          epochs=num_epochs,\n",
    "          validation_data=(test_noised, test),\n",
    "          verbose=True,\n",
    "          callbacks=[callback])"
   ]
  },
  {
   "cell_type": "code",
   "execution_count": 18,
   "metadata": {},
   "outputs": [
    {
     "data": {
      "image/png": "[encoded data removed]",
      "text/plain": [
       "<Figure size 432x288 with 9 Axes>"
      ]
     },
     "metadata": {},
     "output_type": "display_data"
    }
   ],
   "source": [
    "# Prediction and plotting of test samples\n",
    "pred = model.predict(test_noised)\n",
    "plot(test, test_noised, pred)"
   ]
  }
 ],
 "metadata": {
  "kernelspec": {
   "display_name": "Python 3",
   "language": "python",
   "name": "python3"
  },
  "language_info": {
   "codemirror_mode": {
    "name": "ipython",
    "version": 3
   },
   "file_extension": ".py",
   "mimetype": "text/x-python",
   "name": "python",
   "nbconvert_exporter": "python",
   "pygments_lexer": "ipython3",
   "version": "3.7.4"
  }
 },
 "nbformat": 4,
 "nbformat_minor": 2
}
