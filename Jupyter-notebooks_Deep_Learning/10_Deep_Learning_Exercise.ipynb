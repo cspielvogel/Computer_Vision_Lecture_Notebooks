{
 "cells": [
  {
   "cell_type": "markdown",
   "metadata": {},
   "source": [
    "### Exercise: Deep Learning\n",
    "\n",
    "Read through the description of the exercises and select appropriate tools / libraries. Implement the solution below the respective exercise description. Feel free to use the internet, especially the documentation of the presented libraries may be helpful.\n",
    "\n",
    "The data you will be using during the following exercises contains features of 10 000 28x28 hand-written digits in a CSV file. The first column contains the label - the respective digit - while each of the other columns represent the pixel intensity at a given position in the pixel array with values between 0 and 255."
   ]
  },
  {
   "cell_type": "markdown",
   "metadata": {},
   "source": [
    "#### Exercise 1\n",
    "In this exercise, you will use the sklearn implementation of a neural network for image classification.\n",
    "\n",
    "* Have a look at the multilayer perceptron (=vanilla neural network) documentation of scikit-learn: https://scikit-learn.org/stable/modules/generated/sklearn.neural_network.MLPClassifier.html\n",
    "* Load the MNIST data from the csv file in the /Data directory\n",
    "* Split the data into training, validation and test set at a ratio of 70/15/15\n",
    "* Train a neural network based on the sklearn implementation on the training data\n",
    "* Evaluate the performance of the trained model\n",
    "* Try to tweak the parameters of your model until you receive a prediction accuracy of at least 90 % on your test set"
   ]
  },
  {
   "cell_type": "code",
   "execution_count": null,
   "metadata": {},
   "outputs": [],
   "source": []
  },
  {
   "cell_type": "markdown",
   "metadata": {},
   "source": [
    "#### Exercise 2\n",
    "In this exercise, you will create another neural network for image classification purposes. However, this time you will be using the keras library.\n",
    "\n",
    "* Load the mnist.csv data from the Data folder\n",
    "* Split the data into training, validation and test set at a ratio of 70/15/15\n",
    "* Train a neural network based on keras on the training data; Use an automated technique to stop the training at a reasonable point \n",
    "* Plot training and validation accuracy of each epoch using a line plot\n",
    "* Evaluate the performance of the trained model and compare it to the performance of the perceptron models\n",
    "* Tweak the parameters of your model (number of layers, units per layer, try adding a dropout layer with different rates, etc.) to find a good model. The test accuracy on your test set should be at least 90 %"
   ]
  },
  {
   "cell_type": "code",
   "execution_count": null,
   "metadata": {},
   "outputs": [],
   "source": []
  },
  {
   "cell_type": "markdown",
   "metadata": {},
   "source": [
    "#### Exercise 3\n",
    "\n",
    "In this exercise you shall investigate the influence of data augmentation on the MNIST model\n",
    "\n",
    "* Write a function for augmenting your training data\n",
    "* Make sure the data augmentation function randomly assigns one or more of the following transformations to the images: rotation, translation, flipping\n",
    "* Train a model with the same architecture as in exercise 2 but this time, use the data augmentation function to increase the amount of data for training\n",
    "* Compare performance and loss of the models from exercise 2 and 3 using appropriate visualization tools"
   ]
  },
  {
   "cell_type": "code",
   "execution_count": null,
   "metadata": {},
   "outputs": [],
   "source": []
  }
 ],
 "metadata": {
  "kernelspec": {
   "display_name": "Python 3",
   "language": "python",
   "name": "python3"
  },
  "language_info": {
   "codemirror_mode": {
    "name": "ipython",
    "version": 3
   },
   "file_extension": ".py",
   "mimetype": "text/x-python",
   "name": "python",
   "nbconvert_exporter": "python",
   "pygments_lexer": "ipython3",
   "version": "3.8.8"
  }
 },
 "nbformat": 4,
 "nbformat_minor": 4
}
