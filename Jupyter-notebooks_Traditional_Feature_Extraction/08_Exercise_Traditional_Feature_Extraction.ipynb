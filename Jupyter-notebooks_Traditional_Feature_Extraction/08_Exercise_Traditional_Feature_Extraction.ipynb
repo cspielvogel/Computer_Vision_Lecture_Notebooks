{
 "cells": [
  {
   "cell_type": "markdown",
   "metadata": {},
   "source": [
    "### Exercise: Traditional Image Feature Extraction\n",
    "Read through the exercises and implement the solutions below. Feel free to reuse code from jupyter notebook 07_Traditional_Feature_Extraction"
   ]
  },
  {
   "cell_type": "markdown",
   "metadata": {},
   "source": [
    "#### Exercise 1.1\n",
    "The goal of this and the following exercise is to become more familiar with SIFT by visualizing keypoints.\n",
    "First, let's compare the keypoints of an image to itself. This is how a perfect match would look like.\n",
    "\n",
    "* Load any image from the \"Data\" folder\n",
    "* Extract SIFT features from the image\n",
    "* Visualize the keypoint mapping from the image to itself"
   ]
  },
  {
   "cell_type": "code",
   "execution_count": null,
   "metadata": {},
   "outputs": [],
   "source": []
  },
  {
   "cell_type": "markdown",
   "metadata": {},
   "source": [
    "#### Exercise 1.2\n",
    "Next, you will disort the image and investigate the change in the matched keypoints. The keypoints usually get much less compared to self-matching. However, there should still be many matching keypoints as SIFT is relatively invariant to rotations and resizing.\n",
    "\n",
    "* Use the same image as in exercise 1.1\n",
    "* Make a copy of the original image\n",
    "* Rotate and rescale the copied image\n",
    "* Extract SIFT features from the transformed image\n",
    "* Map the keypoints of the original to the extracted keypoints of the disorted image"
   ]
  },
  {
   "cell_type": "code",
   "execution_count": null,
   "metadata": {},
   "outputs": [],
   "source": []
  },
  {
   "cell_type": "markdown",
   "metadata": {},
   "source": [
    "#### Exercise 1.3\n",
    "Lastly, compare to different but semantically similar images.\n",
    "\n",
    "* Load the files \"kitten1.jpg\" and \"kitten5.jpg\" from the data folder\n",
    "* Extract SIFT features from both images\n",
    "* Visualize the matched keypoints"
   ]
  },
  {
   "cell_type": "code",
   "execution_count": null,
   "metadata": {},
   "outputs": [],
   "source": []
  }
 ],
 "metadata": {
  "kernelspec": {
   "display_name": "Python 3",
   "language": "python",
   "name": "python3"
  },
  "language_info": {
   "codemirror_mode": {
    "name": "ipython",
    "version": 3
   },
   "file_extension": ".py",
   "mimetype": "text/x-python",
   "name": "python",
   "nbconvert_exporter": "python",
   "pygments_lexer": "ipython3",
   "version": "3.9.4"
  }
 },
 "nbformat": 4,
 "nbformat_minor": 4
}
